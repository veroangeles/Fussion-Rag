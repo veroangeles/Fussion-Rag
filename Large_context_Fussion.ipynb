{
  "nbformat": 4,
  "nbformat_minor": 0,
  "metadata": {
    "colab": {
      "provenance": [],
      "authorship_tag": "ABX9TyPQqk/ntJqFrk5IAHKVZuzx"
    },
    "kernelspec": {
      "name": "python3",
      "display_name": "Python 3"
    },
    "language_info": {
      "name": "python"
    },
    "widgets": {
      "application/vnd.jupyter.widget-state+json": {
        "64907dd8c42d470a8df114ea17a1fdf3": {
          "model_module": "@jupyter-widgets/controls",
          "model_name": "HBoxModel",
          "model_module_version": "1.5.0",
          "state": {
            "_dom_classes": [],
            "_model_module": "@jupyter-widgets/controls",
            "_model_module_version": "1.5.0",
            "_model_name": "HBoxModel",
            "_view_count": null,
            "_view_module": "@jupyter-widgets/controls",
            "_view_module_version": "1.5.0",
            "_view_name": "HBoxView",
            "box_style": "",
            "children": [
              "IPY_MODEL_06c25cbd3c0e4350accad58921efcb97",
              "IPY_MODEL_09dc354c7e684d6e931034ba93f4f0e6",
              "IPY_MODEL_076ceda8798544a1bf9e4b53ffff05d8"
            ],
            "layout": "IPY_MODEL_195ee199bc4e42b792fc3804ae116613"
          }
        },
        "06c25cbd3c0e4350accad58921efcb97": {
          "model_module": "@jupyter-widgets/controls",
          "model_name": "HTMLModel",
          "model_module_version": "1.5.0",
          "state": {
            "_dom_classes": [],
            "_model_module": "@jupyter-widgets/controls",
            "_model_module_version": "1.5.0",
            "_model_name": "HTMLModel",
            "_view_count": null,
            "_view_module": "@jupyter-widgets/controls",
            "_view_module_version": "1.5.0",
            "_view_name": "HTMLView",
            "description": "",
            "description_tooltip": null,
            "layout": "IPY_MODEL_691066fd7b7b4df18deb90888535e658",
            "placeholder": "​",
            "style": "IPY_MODEL_fa41939285574ce59a8eeb697ed623ef",
            "value": "modules.json: 100%"
          }
        },
        "09dc354c7e684d6e931034ba93f4f0e6": {
          "model_module": "@jupyter-widgets/controls",
          "model_name": "FloatProgressModel",
          "model_module_version": "1.5.0",
          "state": {
            "_dom_classes": [],
            "_model_module": "@jupyter-widgets/controls",
            "_model_module_version": "1.5.0",
            "_model_name": "FloatProgressModel",
            "_view_count": null,
            "_view_module": "@jupyter-widgets/controls",
            "_view_module_version": "1.5.0",
            "_view_name": "ProgressView",
            "bar_style": "success",
            "description": "",
            "description_tooltip": null,
            "layout": "IPY_MODEL_f3a3986dcdaa444d8d4c461c04335d72",
            "max": 349,
            "min": 0,
            "orientation": "horizontal",
            "style": "IPY_MODEL_1ce9f5ae6a0c43a1927cc27459433154",
            "value": 349
          }
        },
        "076ceda8798544a1bf9e4b53ffff05d8": {
          "model_module": "@jupyter-widgets/controls",
          "model_name": "HTMLModel",
          "model_module_version": "1.5.0",
          "state": {
            "_dom_classes": [],
            "_model_module": "@jupyter-widgets/controls",
            "_model_module_version": "1.5.0",
            "_model_name": "HTMLModel",
            "_view_count": null,
            "_view_module": "@jupyter-widgets/controls",
            "_view_module_version": "1.5.0",
            "_view_name": "HTMLView",
            "description": "",
            "description_tooltip": null,
            "layout": "IPY_MODEL_091e52e5560745ccb9b7b0afe8b5e62e",
            "placeholder": "​",
            "style": "IPY_MODEL_f4c6c45a40234b8bade06b2a517f9e44",
            "value": " 349/349 [00:00&lt;00:00, 18.1kB/s]"
          }
        },
        "195ee199bc4e42b792fc3804ae116613": {
          "model_module": "@jupyter-widgets/base",
          "model_name": "LayoutModel",
          "model_module_version": "1.2.0",
          "state": {
            "_model_module": "@jupyter-widgets/base",
            "_model_module_version": "1.2.0",
            "_model_name": "LayoutModel",
            "_view_count": null,
            "_view_module": "@jupyter-widgets/base",
            "_view_module_version": "1.2.0",
            "_view_name": "LayoutView",
            "align_content": null,
            "align_items": null,
            "align_self": null,
            "border": null,
            "bottom": null,
            "display": null,
            "flex": null,
            "flex_flow": null,
            "grid_area": null,
            "grid_auto_columns": null,
            "grid_auto_flow": null,
            "grid_auto_rows": null,
            "grid_column": null,
            "grid_gap": null,
            "grid_row": null,
            "grid_template_areas": null,
            "grid_template_columns": null,
            "grid_template_rows": null,
            "height": null,
            "justify_content": null,
            "justify_items": null,
            "left": null,
            "margin": null,
            "max_height": null,
            "max_width": null,
            "min_height": null,
            "min_width": null,
            "object_fit": null,
            "object_position": null,
            "order": null,
            "overflow": null,
            "overflow_x": null,
            "overflow_y": null,
            "padding": null,
            "right": null,
            "top": null,
            "visibility": null,
            "width": null
          }
        },
        "691066fd7b7b4df18deb90888535e658": {
          "model_module": "@jupyter-widgets/base",
          "model_name": "LayoutModel",
          "model_module_version": "1.2.0",
          "state": {
            "_model_module": "@jupyter-widgets/base",
            "_model_module_version": "1.2.0",
            "_model_name": "LayoutModel",
            "_view_count": null,
            "_view_module": "@jupyter-widgets/base",
            "_view_module_version": "1.2.0",
            "_view_name": "LayoutView",
            "align_content": null,
            "align_items": null,
            "align_self": null,
            "border": null,
            "bottom": null,
            "display": null,
            "flex": null,
            "flex_flow": null,
            "grid_area": null,
            "grid_auto_columns": null,
            "grid_auto_flow": null,
            "grid_auto_rows": null,
            "grid_column": null,
            "grid_gap": null,
            "grid_row": null,
            "grid_template_areas": null,
            "grid_template_columns": null,
            "grid_template_rows": null,
            "height": null,
            "justify_content": null,
            "justify_items": null,
            "left": null,
            "margin": null,
            "max_height": null,
            "max_width": null,
            "min_height": null,
            "min_width": null,
            "object_fit": null,
            "object_position": null,
            "order": null,
            "overflow": null,
            "overflow_x": null,
            "overflow_y": null,
            "padding": null,
            "right": null,
            "top": null,
            "visibility": null,
            "width": null
          }
        },
        "fa41939285574ce59a8eeb697ed623ef": {
          "model_module": "@jupyter-widgets/controls",
          "model_name": "DescriptionStyleModel",
          "model_module_version": "1.5.0",
          "state": {
            "_model_module": "@jupyter-widgets/controls",
            "_model_module_version": "1.5.0",
            "_model_name": "DescriptionStyleModel",
            "_view_count": null,
            "_view_module": "@jupyter-widgets/base",
            "_view_module_version": "1.2.0",
            "_view_name": "StyleView",
            "description_width": ""
          }
        },
        "f3a3986dcdaa444d8d4c461c04335d72": {
          "model_module": "@jupyter-widgets/base",
          "model_name": "LayoutModel",
          "model_module_version": "1.2.0",
          "state": {
            "_model_module": "@jupyter-widgets/base",
            "_model_module_version": "1.2.0",
            "_model_name": "LayoutModel",
            "_view_count": null,
            "_view_module": "@jupyter-widgets/base",
            "_view_module_version": "1.2.0",
            "_view_name": "LayoutView",
            "align_content": null,
            "align_items": null,
            "align_self": null,
            "border": null,
            "bottom": null,
            "display": null,
            "flex": null,
            "flex_flow": null,
            "grid_area": null,
            "grid_auto_columns": null,
            "grid_auto_flow": null,
            "grid_auto_rows": null,
            "grid_column": null,
            "grid_gap": null,
            "grid_row": null,
            "grid_template_areas": null,
            "grid_template_columns": null,
            "grid_template_rows": null,
            "height": null,
            "justify_content": null,
            "justify_items": null,
            "left": null,
            "margin": null,
            "max_height": null,
            "max_width": null,
            "min_height": null,
            "min_width": null,
            "object_fit": null,
            "object_position": null,
            "order": null,
            "overflow": null,
            "overflow_x": null,
            "overflow_y": null,
            "padding": null,
            "right": null,
            "top": null,
            "visibility": null,
            "width": null
          }
        },
        "1ce9f5ae6a0c43a1927cc27459433154": {
          "model_module": "@jupyter-widgets/controls",
          "model_name": "ProgressStyleModel",
          "model_module_version": "1.5.0",
          "state": {
            "_model_module": "@jupyter-widgets/controls",
            "_model_module_version": "1.5.0",
            "_model_name": "ProgressStyleModel",
            "_view_count": null,
            "_view_module": "@jupyter-widgets/base",
            "_view_module_version": "1.2.0",
            "_view_name": "StyleView",
            "bar_color": null,
            "description_width": ""
          }
        },
        "091e52e5560745ccb9b7b0afe8b5e62e": {
          "model_module": "@jupyter-widgets/base",
          "model_name": "LayoutModel",
          "model_module_version": "1.2.0",
          "state": {
            "_model_module": "@jupyter-widgets/base",
            "_model_module_version": "1.2.0",
            "_model_name": "LayoutModel",
            "_view_count": null,
            "_view_module": "@jupyter-widgets/base",
            "_view_module_version": "1.2.0",
            "_view_name": "LayoutView",
            "align_content": null,
            "align_items": null,
            "align_self": null,
            "border": null,
            "bottom": null,
            "display": null,
            "flex": null,
            "flex_flow": null,
            "grid_area": null,
            "grid_auto_columns": null,
            "grid_auto_flow": null,
            "grid_auto_rows": null,
            "grid_column": null,
            "grid_gap": null,
            "grid_row": null,
            "grid_template_areas": null,
            "grid_template_columns": null,
            "grid_template_rows": null,
            "height": null,
            "justify_content": null,
            "justify_items": null,
            "left": null,
            "margin": null,
            "max_height": null,
            "max_width": null,
            "min_height": null,
            "min_width": null,
            "object_fit": null,
            "object_position": null,
            "order": null,
            "overflow": null,
            "overflow_x": null,
            "overflow_y": null,
            "padding": null,
            "right": null,
            "top": null,
            "visibility": null,
            "width": null
          }
        },
        "f4c6c45a40234b8bade06b2a517f9e44": {
          "model_module": "@jupyter-widgets/controls",
          "model_name": "DescriptionStyleModel",
          "model_module_version": "1.5.0",
          "state": {
            "_model_module": "@jupyter-widgets/controls",
            "_model_module_version": "1.5.0",
            "_model_name": "DescriptionStyleModel",
            "_view_count": null,
            "_view_module": "@jupyter-widgets/base",
            "_view_module_version": "1.2.0",
            "_view_name": "StyleView",
            "description_width": ""
          }
        },
        "a17885bd9c144dc4b0fbe83994d1379e": {
          "model_module": "@jupyter-widgets/controls",
          "model_name": "HBoxModel",
          "model_module_version": "1.5.0",
          "state": {
            "_dom_classes": [],
            "_model_module": "@jupyter-widgets/controls",
            "_model_module_version": "1.5.0",
            "_model_name": "HBoxModel",
            "_view_count": null,
            "_view_module": "@jupyter-widgets/controls",
            "_view_module_version": "1.5.0",
            "_view_name": "HBoxView",
            "box_style": "",
            "children": [
              "IPY_MODEL_e128b7086ee74d758253affa7483f91c",
              "IPY_MODEL_4096c079db6e435995e39833a389e85f",
              "IPY_MODEL_2fd002de9dca430aa6360875846e2aff"
            ],
            "layout": "IPY_MODEL_e4ec81a84c034afdaf2fd7371e657727"
          }
        },
        "e128b7086ee74d758253affa7483f91c": {
          "model_module": "@jupyter-widgets/controls",
          "model_name": "HTMLModel",
          "model_module_version": "1.5.0",
          "state": {
            "_dom_classes": [],
            "_model_module": "@jupyter-widgets/controls",
            "_model_module_version": "1.5.0",
            "_model_name": "HTMLModel",
            "_view_count": null,
            "_view_module": "@jupyter-widgets/controls",
            "_view_module_version": "1.5.0",
            "_view_name": "HTMLView",
            "description": "",
            "description_tooltip": null,
            "layout": "IPY_MODEL_9e6547f7939c4bdfac801f63bd7e78ae",
            "placeholder": "​",
            "style": "IPY_MODEL_374e23b10b8a4ba4bca992dfc189b9ac",
            "value": "config_sentence_transformers.json: 100%"
          }
        },
        "4096c079db6e435995e39833a389e85f": {
          "model_module": "@jupyter-widgets/controls",
          "model_name": "FloatProgressModel",
          "model_module_version": "1.5.0",
          "state": {
            "_dom_classes": [],
            "_model_module": "@jupyter-widgets/controls",
            "_model_module_version": "1.5.0",
            "_model_name": "FloatProgressModel",
            "_view_count": null,
            "_view_module": "@jupyter-widgets/controls",
            "_view_module_version": "1.5.0",
            "_view_name": "ProgressView",
            "bar_style": "success",
            "description": "",
            "description_tooltip": null,
            "layout": "IPY_MODEL_b755e590c86342a4913143a757586aab",
            "max": 123,
            "min": 0,
            "orientation": "horizontal",
            "style": "IPY_MODEL_61ca347fc32d403997127c10a3620efc",
            "value": 123
          }
        },
        "2fd002de9dca430aa6360875846e2aff": {
          "model_module": "@jupyter-widgets/controls",
          "model_name": "HTMLModel",
          "model_module_version": "1.5.0",
          "state": {
            "_dom_classes": [],
            "_model_module": "@jupyter-widgets/controls",
            "_model_module_version": "1.5.0",
            "_model_name": "HTMLModel",
            "_view_count": null,
            "_view_module": "@jupyter-widgets/controls",
            "_view_module_version": "1.5.0",
            "_view_name": "HTMLView",
            "description": "",
            "description_tooltip": null,
            "layout": "IPY_MODEL_34cfb7e475d54125a23352afa9c6ab04",
            "placeholder": "​",
            "style": "IPY_MODEL_92afc3bc7970412cb4d71129eedcdf51",
            "value": " 123/123 [00:00&lt;00:00, 7.39kB/s]"
          }
        },
        "e4ec81a84c034afdaf2fd7371e657727": {
          "model_module": "@jupyter-widgets/base",
          "model_name": "LayoutModel",
          "model_module_version": "1.2.0",
          "state": {
            "_model_module": "@jupyter-widgets/base",
            "_model_module_version": "1.2.0",
            "_model_name": "LayoutModel",
            "_view_count": null,
            "_view_module": "@jupyter-widgets/base",
            "_view_module_version": "1.2.0",
            "_view_name": "LayoutView",
            "align_content": null,
            "align_items": null,
            "align_self": null,
            "border": null,
            "bottom": null,
            "display": null,
            "flex": null,
            "flex_flow": null,
            "grid_area": null,
            "grid_auto_columns": null,
            "grid_auto_flow": null,
            "grid_auto_rows": null,
            "grid_column": null,
            "grid_gap": null,
            "grid_row": null,
            "grid_template_areas": null,
            "grid_template_columns": null,
            "grid_template_rows": null,
            "height": null,
            "justify_content": null,
            "justify_items": null,
            "left": null,
            "margin": null,
            "max_height": null,
            "max_width": null,
            "min_height": null,
            "min_width": null,
            "object_fit": null,
            "object_position": null,
            "order": null,
            "overflow": null,
            "overflow_x": null,
            "overflow_y": null,
            "padding": null,
            "right": null,
            "top": null,
            "visibility": null,
            "width": null
          }
        },
        "9e6547f7939c4bdfac801f63bd7e78ae": {
          "model_module": "@jupyter-widgets/base",
          "model_name": "LayoutModel",
          "model_module_version": "1.2.0",
          "state": {
            "_model_module": "@jupyter-widgets/base",
            "_model_module_version": "1.2.0",
            "_model_name": "LayoutModel",
            "_view_count": null,
            "_view_module": "@jupyter-widgets/base",
            "_view_module_version": "1.2.0",
            "_view_name": "LayoutView",
            "align_content": null,
            "align_items": null,
            "align_self": null,
            "border": null,
            "bottom": null,
            "display": null,
            "flex": null,
            "flex_flow": null,
            "grid_area": null,
            "grid_auto_columns": null,
            "grid_auto_flow": null,
            "grid_auto_rows": null,
            "grid_column": null,
            "grid_gap": null,
            "grid_row": null,
            "grid_template_areas": null,
            "grid_template_columns": null,
            "grid_template_rows": null,
            "height": null,
            "justify_content": null,
            "justify_items": null,
            "left": null,
            "margin": null,
            "max_height": null,
            "max_width": null,
            "min_height": null,
            "min_width": null,
            "object_fit": null,
            "object_position": null,
            "order": null,
            "overflow": null,
            "overflow_x": null,
            "overflow_y": null,
            "padding": null,
            "right": null,
            "top": null,
            "visibility": null,
            "width": null
          }
        },
        "374e23b10b8a4ba4bca992dfc189b9ac": {
          "model_module": "@jupyter-widgets/controls",
          "model_name": "DescriptionStyleModel",
          "model_module_version": "1.5.0",
          "state": {
            "_model_module": "@jupyter-widgets/controls",
            "_model_module_version": "1.5.0",
            "_model_name": "DescriptionStyleModel",
            "_view_count": null,
            "_view_module": "@jupyter-widgets/base",
            "_view_module_version": "1.2.0",
            "_view_name": "StyleView",
            "description_width": ""
          }
        },
        "b755e590c86342a4913143a757586aab": {
          "model_module": "@jupyter-widgets/base",
          "model_name": "LayoutModel",
          "model_module_version": "1.2.0",
          "state": {
            "_model_module": "@jupyter-widgets/base",
            "_model_module_version": "1.2.0",
            "_model_name": "LayoutModel",
            "_view_count": null,
            "_view_module": "@jupyter-widgets/base",
            "_view_module_version": "1.2.0",
            "_view_name": "LayoutView",
            "align_content": null,
            "align_items": null,
            "align_self": null,
            "border": null,
            "bottom": null,
            "display": null,
            "flex": null,
            "flex_flow": null,
            "grid_area": null,
            "grid_auto_columns": null,
            "grid_auto_flow": null,
            "grid_auto_rows": null,
            "grid_column": null,
            "grid_gap": null,
            "grid_row": null,
            "grid_template_areas": null,
            "grid_template_columns": null,
            "grid_template_rows": null,
            "height": null,
            "justify_content": null,
            "justify_items": null,
            "left": null,
            "margin": null,
            "max_height": null,
            "max_width": null,
            "min_height": null,
            "min_width": null,
            "object_fit": null,
            "object_position": null,
            "order": null,
            "overflow": null,
            "overflow_x": null,
            "overflow_y": null,
            "padding": null,
            "right": null,
            "top": null,
            "visibility": null,
            "width": null
          }
        },
        "61ca347fc32d403997127c10a3620efc": {
          "model_module": "@jupyter-widgets/controls",
          "model_name": "ProgressStyleModel",
          "model_module_version": "1.5.0",
          "state": {
            "_model_module": "@jupyter-widgets/controls",
            "_model_module_version": "1.5.0",
            "_model_name": "ProgressStyleModel",
            "_view_count": null,
            "_view_module": "@jupyter-widgets/base",
            "_view_module_version": "1.2.0",
            "_view_name": "StyleView",
            "bar_color": null,
            "description_width": ""
          }
        },
        "34cfb7e475d54125a23352afa9c6ab04": {
          "model_module": "@jupyter-widgets/base",
          "model_name": "LayoutModel",
          "model_module_version": "1.2.0",
          "state": {
            "_model_module": "@jupyter-widgets/base",
            "_model_module_version": "1.2.0",
            "_model_name": "LayoutModel",
            "_view_count": null,
            "_view_module": "@jupyter-widgets/base",
            "_view_module_version": "1.2.0",
            "_view_name": "LayoutView",
            "align_content": null,
            "align_items": null,
            "align_self": null,
            "border": null,
            "bottom": null,
            "display": null,
            "flex": null,
            "flex_flow": null,
            "grid_area": null,
            "grid_auto_columns": null,
            "grid_auto_flow": null,
            "grid_auto_rows": null,
            "grid_column": null,
            "grid_gap": null,
            "grid_row": null,
            "grid_template_areas": null,
            "grid_template_columns": null,
            "grid_template_rows": null,
            "height": null,
            "justify_content": null,
            "justify_items": null,
            "left": null,
            "margin": null,
            "max_height": null,
            "max_width": null,
            "min_height": null,
            "min_width": null,
            "object_fit": null,
            "object_position": null,
            "order": null,
            "overflow": null,
            "overflow_x": null,
            "overflow_y": null,
            "padding": null,
            "right": null,
            "top": null,
            "visibility": null,
            "width": null
          }
        },
        "92afc3bc7970412cb4d71129eedcdf51": {
          "model_module": "@jupyter-widgets/controls",
          "model_name": "DescriptionStyleModel",
          "model_module_version": "1.5.0",
          "state": {
            "_model_module": "@jupyter-widgets/controls",
            "_model_module_version": "1.5.0",
            "_model_name": "DescriptionStyleModel",
            "_view_count": null,
            "_view_module": "@jupyter-widgets/base",
            "_view_module_version": "1.2.0",
            "_view_name": "StyleView",
            "description_width": ""
          }
        },
        "dedc88e66cd24455b4ecfb597dd51464": {
          "model_module": "@jupyter-widgets/controls",
          "model_name": "HBoxModel",
          "model_module_version": "1.5.0",
          "state": {
            "_dom_classes": [],
            "_model_module": "@jupyter-widgets/controls",
            "_model_module_version": "1.5.0",
            "_model_name": "HBoxModel",
            "_view_count": null,
            "_view_module": "@jupyter-widgets/controls",
            "_view_module_version": "1.5.0",
            "_view_name": "HBoxView",
            "box_style": "",
            "children": [
              "IPY_MODEL_6f2c8273643f4614bdddbab560f6ec50",
              "IPY_MODEL_18140ea15a7545178119c1691fe85a22",
              "IPY_MODEL_10008b9addd3455abec51c59becc2962"
            ],
            "layout": "IPY_MODEL_2ff83fdacfc445409baf8951b74f7dfd"
          }
        },
        "6f2c8273643f4614bdddbab560f6ec50": {
          "model_module": "@jupyter-widgets/controls",
          "model_name": "HTMLModel",
          "model_module_version": "1.5.0",
          "state": {
            "_dom_classes": [],
            "_model_module": "@jupyter-widgets/controls",
            "_model_module_version": "1.5.0",
            "_model_name": "HTMLModel",
            "_view_count": null,
            "_view_module": "@jupyter-widgets/controls",
            "_view_module_version": "1.5.0",
            "_view_name": "HTMLView",
            "description": "",
            "description_tooltip": null,
            "layout": "IPY_MODEL_b02b9d81f79a473e9a3b9278df26f45a",
            "placeholder": "​",
            "style": "IPY_MODEL_91c1688f3a664c75b047d8a0edba77ff",
            "value": "README.md: 100%"
          }
        },
        "18140ea15a7545178119c1691fe85a22": {
          "model_module": "@jupyter-widgets/controls",
          "model_name": "FloatProgressModel",
          "model_module_version": "1.5.0",
          "state": {
            "_dom_classes": [],
            "_model_module": "@jupyter-widgets/controls",
            "_model_module_version": "1.5.0",
            "_model_name": "FloatProgressModel",
            "_view_count": null,
            "_view_module": "@jupyter-widgets/controls",
            "_view_module_version": "1.5.0",
            "_view_name": "ProgressView",
            "bar_style": "success",
            "description": "",
            "description_tooltip": null,
            "layout": "IPY_MODEL_e95cd662fcc74d6691d4d7c9b4d1abb1",
            "max": 14955,
            "min": 0,
            "orientation": "horizontal",
            "style": "IPY_MODEL_3079bef87768413f84e41b46aeb77564",
            "value": 14955
          }
        },
        "10008b9addd3455abec51c59becc2962": {
          "model_module": "@jupyter-widgets/controls",
          "model_name": "HTMLModel",
          "model_module_version": "1.5.0",
          "state": {
            "_dom_classes": [],
            "_model_module": "@jupyter-widgets/controls",
            "_model_module_version": "1.5.0",
            "_model_name": "HTMLModel",
            "_view_count": null,
            "_view_module": "@jupyter-widgets/controls",
            "_view_module_version": "1.5.0",
            "_view_name": "HTMLView",
            "description": "",
            "description_tooltip": null,
            "layout": "IPY_MODEL_a7ca8cb5b6a249ada98a2b8b4dda67b1",
            "placeholder": "​",
            "style": "IPY_MODEL_7f0b2c5655c84739b80c4b42b02e2645",
            "value": " 15.0k/15.0k [00:00&lt;00:00, 749kB/s]"
          }
        },
        "2ff83fdacfc445409baf8951b74f7dfd": {
          "model_module": "@jupyter-widgets/base",
          "model_name": "LayoutModel",
          "model_module_version": "1.2.0",
          "state": {
            "_model_module": "@jupyter-widgets/base",
            "_model_module_version": "1.2.0",
            "_model_name": "LayoutModel",
            "_view_count": null,
            "_view_module": "@jupyter-widgets/base",
            "_view_module_version": "1.2.0",
            "_view_name": "LayoutView",
            "align_content": null,
            "align_items": null,
            "align_self": null,
            "border": null,
            "bottom": null,
            "display": null,
            "flex": null,
            "flex_flow": null,
            "grid_area": null,
            "grid_auto_columns": null,
            "grid_auto_flow": null,
            "grid_auto_rows": null,
            "grid_column": null,
            "grid_gap": null,
            "grid_row": null,
            "grid_template_areas": null,
            "grid_template_columns": null,
            "grid_template_rows": null,
            "height": null,
            "justify_content": null,
            "justify_items": null,
            "left": null,
            "margin": null,
            "max_height": null,
            "max_width": null,
            "min_height": null,
            "min_width": null,
            "object_fit": null,
            "object_position": null,
            "order": null,
            "overflow": null,
            "overflow_x": null,
            "overflow_y": null,
            "padding": null,
            "right": null,
            "top": null,
            "visibility": null,
            "width": null
          }
        },
        "b02b9d81f79a473e9a3b9278df26f45a": {
          "model_module": "@jupyter-widgets/base",
          "model_name": "LayoutModel",
          "model_module_version": "1.2.0",
          "state": {
            "_model_module": "@jupyter-widgets/base",
            "_model_module_version": "1.2.0",
            "_model_name": "LayoutModel",
            "_view_count": null,
            "_view_module": "@jupyter-widgets/base",
            "_view_module_version": "1.2.0",
            "_view_name": "LayoutView",
            "align_content": null,
            "align_items": null,
            "align_self": null,
            "border": null,
            "bottom": null,
            "display": null,
            "flex": null,
            "flex_flow": null,
            "grid_area": null,
            "grid_auto_columns": null,
            "grid_auto_flow": null,
            "grid_auto_rows": null,
            "grid_column": null,
            "grid_gap": null,
            "grid_row": null,
            "grid_template_areas": null,
            "grid_template_columns": null,
            "grid_template_rows": null,
            "height": null,
            "justify_content": null,
            "justify_items": null,
            "left": null,
            "margin": null,
            "max_height": null,
            "max_width": null,
            "min_height": null,
            "min_width": null,
            "object_fit": null,
            "object_position": null,
            "order": null,
            "overflow": null,
            "overflow_x": null,
            "overflow_y": null,
            "padding": null,
            "right": null,
            "top": null,
            "visibility": null,
            "width": null
          }
        },
        "91c1688f3a664c75b047d8a0edba77ff": {
          "model_module": "@jupyter-widgets/controls",
          "model_name": "DescriptionStyleModel",
          "model_module_version": "1.5.0",
          "state": {
            "_model_module": "@jupyter-widgets/controls",
            "_model_module_version": "1.5.0",
            "_model_name": "DescriptionStyleModel",
            "_view_count": null,
            "_view_module": "@jupyter-widgets/base",
            "_view_module_version": "1.2.0",
            "_view_name": "StyleView",
            "description_width": ""
          }
        },
        "e95cd662fcc74d6691d4d7c9b4d1abb1": {
          "model_module": "@jupyter-widgets/base",
          "model_name": "LayoutModel",
          "model_module_version": "1.2.0",
          "state": {
            "_model_module": "@jupyter-widgets/base",
            "_model_module_version": "1.2.0",
            "_model_name": "LayoutModel",
            "_view_count": null,
            "_view_module": "@jupyter-widgets/base",
            "_view_module_version": "1.2.0",
            "_view_name": "LayoutView",
            "align_content": null,
            "align_items": null,
            "align_self": null,
            "border": null,
            "bottom": null,
            "display": null,
            "flex": null,
            "flex_flow": null,
            "grid_area": null,
            "grid_auto_columns": null,
            "grid_auto_flow": null,
            "grid_auto_rows": null,
            "grid_column": null,
            "grid_gap": null,
            "grid_row": null,
            "grid_template_areas": null,
            "grid_template_columns": null,
            "grid_template_rows": null,
            "height": null,
            "justify_content": null,
            "justify_items": null,
            "left": null,
            "margin": null,
            "max_height": null,
            "max_width": null,
            "min_height": null,
            "min_width": null,
            "object_fit": null,
            "object_position": null,
            "order": null,
            "overflow": null,
            "overflow_x": null,
            "overflow_y": null,
            "padding": null,
            "right": null,
            "top": null,
            "visibility": null,
            "width": null
          }
        },
        "3079bef87768413f84e41b46aeb77564": {
          "model_module": "@jupyter-widgets/controls",
          "model_name": "ProgressStyleModel",
          "model_module_version": "1.5.0",
          "state": {
            "_model_module": "@jupyter-widgets/controls",
            "_model_module_version": "1.5.0",
            "_model_name": "ProgressStyleModel",
            "_view_count": null,
            "_view_module": "@jupyter-widgets/base",
            "_view_module_version": "1.2.0",
            "_view_name": "StyleView",
            "bar_color": null,
            "description_width": ""
          }
        },
        "a7ca8cb5b6a249ada98a2b8b4dda67b1": {
          "model_module": "@jupyter-widgets/base",
          "model_name": "LayoutModel",
          "model_module_version": "1.2.0",
          "state": {
            "_model_module": "@jupyter-widgets/base",
            "_model_module_version": "1.2.0",
            "_model_name": "LayoutModel",
            "_view_count": null,
            "_view_module": "@jupyter-widgets/base",
            "_view_module_version": "1.2.0",
            "_view_name": "LayoutView",
            "align_content": null,
            "align_items": null,
            "align_self": null,
            "border": null,
            "bottom": null,
            "display": null,
            "flex": null,
            "flex_flow": null,
            "grid_area": null,
            "grid_auto_columns": null,
            "grid_auto_flow": null,
            "grid_auto_rows": null,
            "grid_column": null,
            "grid_gap": null,
            "grid_row": null,
            "grid_template_areas": null,
            "grid_template_columns": null,
            "grid_template_rows": null,
            "height": null,
            "justify_content": null,
            "justify_items": null,
            "left": null,
            "margin": null,
            "max_height": null,
            "max_width": null,
            "min_height": null,
            "min_width": null,
            "object_fit": null,
            "object_position": null,
            "order": null,
            "overflow": null,
            "overflow_x": null,
            "overflow_y": null,
            "padding": null,
            "right": null,
            "top": null,
            "visibility": null,
            "width": null
          }
        },
        "7f0b2c5655c84739b80c4b42b02e2645": {
          "model_module": "@jupyter-widgets/controls",
          "model_name": "DescriptionStyleModel",
          "model_module_version": "1.5.0",
          "state": {
            "_model_module": "@jupyter-widgets/controls",
            "_model_module_version": "1.5.0",
            "_model_name": "DescriptionStyleModel",
            "_view_count": null,
            "_view_module": "@jupyter-widgets/base",
            "_view_module_version": "1.2.0",
            "_view_name": "StyleView",
            "description_width": ""
          }
        },
        "100799088d4245fc9bf7a72e796900c5": {
          "model_module": "@jupyter-widgets/controls",
          "model_name": "HBoxModel",
          "model_module_version": "1.5.0",
          "state": {
            "_dom_classes": [],
            "_model_module": "@jupyter-widgets/controls",
            "_model_module_version": "1.5.0",
            "_model_name": "HBoxModel",
            "_view_count": null,
            "_view_module": "@jupyter-widgets/controls",
            "_view_module_version": "1.5.0",
            "_view_name": "HBoxView",
            "box_style": "",
            "children": [
              "IPY_MODEL_519aa34bd74a4a7898e37d6272e67d65",
              "IPY_MODEL_2506b32ab7c243a892ffdd0d5decdb5b",
              "IPY_MODEL_66e8bc3ab4cd4b1bb86f05b74686701f"
            ],
            "layout": "IPY_MODEL_ae6241d42acc48c5b5ae36c5e9f695b7"
          }
        },
        "519aa34bd74a4a7898e37d6272e67d65": {
          "model_module": "@jupyter-widgets/controls",
          "model_name": "HTMLModel",
          "model_module_version": "1.5.0",
          "state": {
            "_dom_classes": [],
            "_model_module": "@jupyter-widgets/controls",
            "_model_module_version": "1.5.0",
            "_model_name": "HTMLModel",
            "_view_count": null,
            "_view_module": "@jupyter-widgets/controls",
            "_view_module_version": "1.5.0",
            "_view_name": "HTMLView",
            "description": "",
            "description_tooltip": null,
            "layout": "IPY_MODEL_0552715500e942d08fe5159fa6b83664",
            "placeholder": "​",
            "style": "IPY_MODEL_f21662fcf4ed4ee6994978ffdb77337a",
            "value": "sentence_bert_config.json: 100%"
          }
        },
        "2506b32ab7c243a892ffdd0d5decdb5b": {
          "model_module": "@jupyter-widgets/controls",
          "model_name": "FloatProgressModel",
          "model_module_version": "1.5.0",
          "state": {
            "_dom_classes": [],
            "_model_module": "@jupyter-widgets/controls",
            "_model_module_version": "1.5.0",
            "_model_name": "FloatProgressModel",
            "_view_count": null,
            "_view_module": "@jupyter-widgets/controls",
            "_view_module_version": "1.5.0",
            "_view_name": "ProgressView",
            "bar_style": "success",
            "description": "",
            "description_tooltip": null,
            "layout": "IPY_MODEL_8b77f7854f254d9eafa654ca4b835a8f",
            "max": 54,
            "min": 0,
            "orientation": "horizontal",
            "style": "IPY_MODEL_9b81846db78a4377a5c393aa7c2990a8",
            "value": 54
          }
        },
        "66e8bc3ab4cd4b1bb86f05b74686701f": {
          "model_module": "@jupyter-widgets/controls",
          "model_name": "HTMLModel",
          "model_module_version": "1.5.0",
          "state": {
            "_dom_classes": [],
            "_model_module": "@jupyter-widgets/controls",
            "_model_module_version": "1.5.0",
            "_model_name": "HTMLModel",
            "_view_count": null,
            "_view_module": "@jupyter-widgets/controls",
            "_view_module_version": "1.5.0",
            "_view_name": "HTMLView",
            "description": "",
            "description_tooltip": null,
            "layout": "IPY_MODEL_5b0c4209dc5e409aad2d43462c171992",
            "placeholder": "​",
            "style": "IPY_MODEL_e6217cb5a06f45f792522a2cf4443683",
            "value": " 54.0/54.0 [00:00&lt;00:00, 3.66kB/s]"
          }
        },
        "ae6241d42acc48c5b5ae36c5e9f695b7": {
          "model_module": "@jupyter-widgets/base",
          "model_name": "LayoutModel",
          "model_module_version": "1.2.0",
          "state": {
            "_model_module": "@jupyter-widgets/base",
            "_model_module_version": "1.2.0",
            "_model_name": "LayoutModel",
            "_view_count": null,
            "_view_module": "@jupyter-widgets/base",
            "_view_module_version": "1.2.0",
            "_view_name": "LayoutView",
            "align_content": null,
            "align_items": null,
            "align_self": null,
            "border": null,
            "bottom": null,
            "display": null,
            "flex": null,
            "flex_flow": null,
            "grid_area": null,
            "grid_auto_columns": null,
            "grid_auto_flow": null,
            "grid_auto_rows": null,
            "grid_column": null,
            "grid_gap": null,
            "grid_row": null,
            "grid_template_areas": null,
            "grid_template_columns": null,
            "grid_template_rows": null,
            "height": null,
            "justify_content": null,
            "justify_items": null,
            "left": null,
            "margin": null,
            "max_height": null,
            "max_width": null,
            "min_height": null,
            "min_width": null,
            "object_fit": null,
            "object_position": null,
            "order": null,
            "overflow": null,
            "overflow_x": null,
            "overflow_y": null,
            "padding": null,
            "right": null,
            "top": null,
            "visibility": null,
            "width": null
          }
        },
        "0552715500e942d08fe5159fa6b83664": {
          "model_module": "@jupyter-widgets/base",
          "model_name": "LayoutModel",
          "model_module_version": "1.2.0",
          "state": {
            "_model_module": "@jupyter-widgets/base",
            "_model_module_version": "1.2.0",
            "_model_name": "LayoutModel",
            "_view_count": null,
            "_view_module": "@jupyter-widgets/base",
            "_view_module_version": "1.2.0",
            "_view_name": "LayoutView",
            "align_content": null,
            "align_items": null,
            "align_self": null,
            "border": null,
            "bottom": null,
            "display": null,
            "flex": null,
            "flex_flow": null,
            "grid_area": null,
            "grid_auto_columns": null,
            "grid_auto_flow": null,
            "grid_auto_rows": null,
            "grid_column": null,
            "grid_gap": null,
            "grid_row": null,
            "grid_template_areas": null,
            "grid_template_columns": null,
            "grid_template_rows": null,
            "height": null,
            "justify_content": null,
            "justify_items": null,
            "left": null,
            "margin": null,
            "max_height": null,
            "max_width": null,
            "min_height": null,
            "min_width": null,
            "object_fit": null,
            "object_position": null,
            "order": null,
            "overflow": null,
            "overflow_x": null,
            "overflow_y": null,
            "padding": null,
            "right": null,
            "top": null,
            "visibility": null,
            "width": null
          }
        },
        "f21662fcf4ed4ee6994978ffdb77337a": {
          "model_module": "@jupyter-widgets/controls",
          "model_name": "DescriptionStyleModel",
          "model_module_version": "1.5.0",
          "state": {
            "_model_module": "@jupyter-widgets/controls",
            "_model_module_version": "1.5.0",
            "_model_name": "DescriptionStyleModel",
            "_view_count": null,
            "_view_module": "@jupyter-widgets/base",
            "_view_module_version": "1.2.0",
            "_view_name": "StyleView",
            "description_width": ""
          }
        },
        "8b77f7854f254d9eafa654ca4b835a8f": {
          "model_module": "@jupyter-widgets/base",
          "model_name": "LayoutModel",
          "model_module_version": "1.2.0",
          "state": {
            "_model_module": "@jupyter-widgets/base",
            "_model_module_version": "1.2.0",
            "_model_name": "LayoutModel",
            "_view_count": null,
            "_view_module": "@jupyter-widgets/base",
            "_view_module_version": "1.2.0",
            "_view_name": "LayoutView",
            "align_content": null,
            "align_items": null,
            "align_self": null,
            "border": null,
            "bottom": null,
            "display": null,
            "flex": null,
            "flex_flow": null,
            "grid_area": null,
            "grid_auto_columns": null,
            "grid_auto_flow": null,
            "grid_auto_rows": null,
            "grid_column": null,
            "grid_gap": null,
            "grid_row": null,
            "grid_template_areas": null,
            "grid_template_columns": null,
            "grid_template_rows": null,
            "height": null,
            "justify_content": null,
            "justify_items": null,
            "left": null,
            "margin": null,
            "max_height": null,
            "max_width": null,
            "min_height": null,
            "min_width": null,
            "object_fit": null,
            "object_position": null,
            "order": null,
            "overflow": null,
            "overflow_x": null,
            "overflow_y": null,
            "padding": null,
            "right": null,
            "top": null,
            "visibility": null,
            "width": null
          }
        },
        "9b81846db78a4377a5c393aa7c2990a8": {
          "model_module": "@jupyter-widgets/controls",
          "model_name": "ProgressStyleModel",
          "model_module_version": "1.5.0",
          "state": {
            "_model_module": "@jupyter-widgets/controls",
            "_model_module_version": "1.5.0",
            "_model_name": "ProgressStyleModel",
            "_view_count": null,
            "_view_module": "@jupyter-widgets/base",
            "_view_module_version": "1.2.0",
            "_view_name": "StyleView",
            "bar_color": null,
            "description_width": ""
          }
        },
        "5b0c4209dc5e409aad2d43462c171992": {
          "model_module": "@jupyter-widgets/base",
          "model_name": "LayoutModel",
          "model_module_version": "1.2.0",
          "state": {
            "_model_module": "@jupyter-widgets/base",
            "_model_module_version": "1.2.0",
            "_model_name": "LayoutModel",
            "_view_count": null,
            "_view_module": "@jupyter-widgets/base",
            "_view_module_version": "1.2.0",
            "_view_name": "LayoutView",
            "align_content": null,
            "align_items": null,
            "align_self": null,
            "border": null,
            "bottom": null,
            "display": null,
            "flex": null,
            "flex_flow": null,
            "grid_area": null,
            "grid_auto_columns": null,
            "grid_auto_flow": null,
            "grid_auto_rows": null,
            "grid_column": null,
            "grid_gap": null,
            "grid_row": null,
            "grid_template_areas": null,
            "grid_template_columns": null,
            "grid_template_rows": null,
            "height": null,
            "justify_content": null,
            "justify_items": null,
            "left": null,
            "margin": null,
            "max_height": null,
            "max_width": null,
            "min_height": null,
            "min_width": null,
            "object_fit": null,
            "object_position": null,
            "order": null,
            "overflow": null,
            "overflow_x": null,
            "overflow_y": null,
            "padding": null,
            "right": null,
            "top": null,
            "visibility": null,
            "width": null
          }
        },
        "e6217cb5a06f45f792522a2cf4443683": {
          "model_module": "@jupyter-widgets/controls",
          "model_name": "DescriptionStyleModel",
          "model_module_version": "1.5.0",
          "state": {
            "_model_module": "@jupyter-widgets/controls",
            "_model_module_version": "1.5.0",
            "_model_name": "DescriptionStyleModel",
            "_view_count": null,
            "_view_module": "@jupyter-widgets/base",
            "_view_module_version": "1.2.0",
            "_view_name": "StyleView",
            "description_width": ""
          }
        },
        "530267c910f1465f9ac769599957e0b3": {
          "model_module": "@jupyter-widgets/controls",
          "model_name": "HBoxModel",
          "model_module_version": "1.5.0",
          "state": {
            "_dom_classes": [],
            "_model_module": "@jupyter-widgets/controls",
            "_model_module_version": "1.5.0",
            "_model_name": "HBoxModel",
            "_view_count": null,
            "_view_module": "@jupyter-widgets/controls",
            "_view_module_version": "1.5.0",
            "_view_name": "HBoxView",
            "box_style": "",
            "children": [
              "IPY_MODEL_4d736861284a47efa61c080ffa8c8bac",
              "IPY_MODEL_7481f3a708b841d288d7a394b124fd6e",
              "IPY_MODEL_852ceda1039e42598b59ab9cb526a1f8"
            ],
            "layout": "IPY_MODEL_80cd1cc8a6ec49c8ba622043f8a58817"
          }
        },
        "4d736861284a47efa61c080ffa8c8bac": {
          "model_module": "@jupyter-widgets/controls",
          "model_name": "HTMLModel",
          "model_module_version": "1.5.0",
          "state": {
            "_dom_classes": [],
            "_model_module": "@jupyter-widgets/controls",
            "_model_module_version": "1.5.0",
            "_model_name": "HTMLModel",
            "_view_count": null,
            "_view_module": "@jupyter-widgets/controls",
            "_view_module_version": "1.5.0",
            "_view_name": "HTMLView",
            "description": "",
            "description_tooltip": null,
            "layout": "IPY_MODEL_136e473c67ba4248b1e4b48cdc0a68e3",
            "placeholder": "​",
            "style": "IPY_MODEL_e9ab0214d5ee42f8815a3d9922a3e16a",
            "value": "config.json: 100%"
          }
        },
        "7481f3a708b841d288d7a394b124fd6e": {
          "model_module": "@jupyter-widgets/controls",
          "model_name": "FloatProgressModel",
          "model_module_version": "1.5.0",
          "state": {
            "_dom_classes": [],
            "_model_module": "@jupyter-widgets/controls",
            "_model_module_version": "1.5.0",
            "_model_name": "FloatProgressModel",
            "_view_count": null,
            "_view_module": "@jupyter-widgets/controls",
            "_view_module_version": "1.5.0",
            "_view_name": "ProgressView",
            "bar_style": "success",
            "description": "",
            "description_tooltip": null,
            "layout": "IPY_MODEL_b43a62c250924c9187167ee698a19003",
            "max": 687,
            "min": 0,
            "orientation": "horizontal",
            "style": "IPY_MODEL_dadf6cd54e6e42b8833b72bb894fa4c7",
            "value": 687
          }
        },
        "852ceda1039e42598b59ab9cb526a1f8": {
          "model_module": "@jupyter-widgets/controls",
          "model_name": "HTMLModel",
          "model_module_version": "1.5.0",
          "state": {
            "_dom_classes": [],
            "_model_module": "@jupyter-widgets/controls",
            "_model_module_version": "1.5.0",
            "_model_name": "HTMLModel",
            "_view_count": null,
            "_view_module": "@jupyter-widgets/controls",
            "_view_module_version": "1.5.0",
            "_view_name": "HTMLView",
            "description": "",
            "description_tooltip": null,
            "layout": "IPY_MODEL_d2daf961860e407aa303ca2fe54ddbbc",
            "placeholder": "​",
            "style": "IPY_MODEL_e405576cb9bf4b07b1a04851b9f031ad",
            "value": " 687/687 [00:00&lt;00:00, 22.5kB/s]"
          }
        },
        "80cd1cc8a6ec49c8ba622043f8a58817": {
          "model_module": "@jupyter-widgets/base",
          "model_name": "LayoutModel",
          "model_module_version": "1.2.0",
          "state": {
            "_model_module": "@jupyter-widgets/base",
            "_model_module_version": "1.2.0",
            "_model_name": "LayoutModel",
            "_view_count": null,
            "_view_module": "@jupyter-widgets/base",
            "_view_module_version": "1.2.0",
            "_view_name": "LayoutView",
            "align_content": null,
            "align_items": null,
            "align_self": null,
            "border": null,
            "bottom": null,
            "display": null,
            "flex": null,
            "flex_flow": null,
            "grid_area": null,
            "grid_auto_columns": null,
            "grid_auto_flow": null,
            "grid_auto_rows": null,
            "grid_column": null,
            "grid_gap": null,
            "grid_row": null,
            "grid_template_areas": null,
            "grid_template_columns": null,
            "grid_template_rows": null,
            "height": null,
            "justify_content": null,
            "justify_items": null,
            "left": null,
            "margin": null,
            "max_height": null,
            "max_width": null,
            "min_height": null,
            "min_width": null,
            "object_fit": null,
            "object_position": null,
            "order": null,
            "overflow": null,
            "overflow_x": null,
            "overflow_y": null,
            "padding": null,
            "right": null,
            "top": null,
            "visibility": null,
            "width": null
          }
        },
        "136e473c67ba4248b1e4b48cdc0a68e3": {
          "model_module": "@jupyter-widgets/base",
          "model_name": "LayoutModel",
          "model_module_version": "1.2.0",
          "state": {
            "_model_module": "@jupyter-widgets/base",
            "_model_module_version": "1.2.0",
            "_model_name": "LayoutModel",
            "_view_count": null,
            "_view_module": "@jupyter-widgets/base",
            "_view_module_version": "1.2.0",
            "_view_name": "LayoutView",
            "align_content": null,
            "align_items": null,
            "align_self": null,
            "border": null,
            "bottom": null,
            "display": null,
            "flex": null,
            "flex_flow": null,
            "grid_area": null,
            "grid_auto_columns": null,
            "grid_auto_flow": null,
            "grid_auto_rows": null,
            "grid_column": null,
            "grid_gap": null,
            "grid_row": null,
            "grid_template_areas": null,
            "grid_template_columns": null,
            "grid_template_rows": null,
            "height": null,
            "justify_content": null,
            "justify_items": null,
            "left": null,
            "margin": null,
            "max_height": null,
            "max_width": null,
            "min_height": null,
            "min_width": null,
            "object_fit": null,
            "object_position": null,
            "order": null,
            "overflow": null,
            "overflow_x": null,
            "overflow_y": null,
            "padding": null,
            "right": null,
            "top": null,
            "visibility": null,
            "width": null
          }
        },
        "e9ab0214d5ee42f8815a3d9922a3e16a": {
          "model_module": "@jupyter-widgets/controls",
          "model_name": "DescriptionStyleModel",
          "model_module_version": "1.5.0",
          "state": {
            "_model_module": "@jupyter-widgets/controls",
            "_model_module_version": "1.5.0",
            "_model_name": "DescriptionStyleModel",
            "_view_count": null,
            "_view_module": "@jupyter-widgets/base",
            "_view_module_version": "1.2.0",
            "_view_name": "StyleView",
            "description_width": ""
          }
        },
        "b43a62c250924c9187167ee698a19003": {
          "model_module": "@jupyter-widgets/base",
          "model_name": "LayoutModel",
          "model_module_version": "1.2.0",
          "state": {
            "_model_module": "@jupyter-widgets/base",
            "_model_module_version": "1.2.0",
            "_model_name": "LayoutModel",
            "_view_count": null,
            "_view_module": "@jupyter-widgets/base",
            "_view_module_version": "1.2.0",
            "_view_name": "LayoutView",
            "align_content": null,
            "align_items": null,
            "align_self": null,
            "border": null,
            "bottom": null,
            "display": null,
            "flex": null,
            "flex_flow": null,
            "grid_area": null,
            "grid_auto_columns": null,
            "grid_auto_flow": null,
            "grid_auto_rows": null,
            "grid_column": null,
            "grid_gap": null,
            "grid_row": null,
            "grid_template_areas": null,
            "grid_template_columns": null,
            "grid_template_rows": null,
            "height": null,
            "justify_content": null,
            "justify_items": null,
            "left": null,
            "margin": null,
            "max_height": null,
            "max_width": null,
            "min_height": null,
            "min_width": null,
            "object_fit": null,
            "object_position": null,
            "order": null,
            "overflow": null,
            "overflow_x": null,
            "overflow_y": null,
            "padding": null,
            "right": null,
            "top": null,
            "visibility": null,
            "width": null
          }
        },
        "dadf6cd54e6e42b8833b72bb894fa4c7": {
          "model_module": "@jupyter-widgets/controls",
          "model_name": "ProgressStyleModel",
          "model_module_version": "1.5.0",
          "state": {
            "_model_module": "@jupyter-widgets/controls",
            "_model_module_version": "1.5.0",
            "_model_name": "ProgressStyleModel",
            "_view_count": null,
            "_view_module": "@jupyter-widgets/base",
            "_view_module_version": "1.2.0",
            "_view_name": "StyleView",
            "bar_color": null,
            "description_width": ""
          }
        },
        "d2daf961860e407aa303ca2fe54ddbbc": {
          "model_module": "@jupyter-widgets/base",
          "model_name": "LayoutModel",
          "model_module_version": "1.2.0",
          "state": {
            "_model_module": "@jupyter-widgets/base",
            "_model_module_version": "1.2.0",
            "_model_name": "LayoutModel",
            "_view_count": null,
            "_view_module": "@jupyter-widgets/base",
            "_view_module_version": "1.2.0",
            "_view_name": "LayoutView",
            "align_content": null,
            "align_items": null,
            "align_self": null,
            "border": null,
            "bottom": null,
            "display": null,
            "flex": null,
            "flex_flow": null,
            "grid_area": null,
            "grid_auto_columns": null,
            "grid_auto_flow": null,
            "grid_auto_rows": null,
            "grid_column": null,
            "grid_gap": null,
            "grid_row": null,
            "grid_template_areas": null,
            "grid_template_columns": null,
            "grid_template_rows": null,
            "height": null,
            "justify_content": null,
            "justify_items": null,
            "left": null,
            "margin": null,
            "max_height": null,
            "max_width": null,
            "min_height": null,
            "min_width": null,
            "object_fit": null,
            "object_position": null,
            "order": null,
            "overflow": null,
            "overflow_x": null,
            "overflow_y": null,
            "padding": null,
            "right": null,
            "top": null,
            "visibility": null,
            "width": null
          }
        },
        "e405576cb9bf4b07b1a04851b9f031ad": {
          "model_module": "@jupyter-widgets/controls",
          "model_name": "DescriptionStyleModel",
          "model_module_version": "1.5.0",
          "state": {
            "_model_module": "@jupyter-widgets/controls",
            "_model_module_version": "1.5.0",
            "_model_name": "DescriptionStyleModel",
            "_view_count": null,
            "_view_module": "@jupyter-widgets/base",
            "_view_module_version": "1.2.0",
            "_view_name": "StyleView",
            "description_width": ""
          }
        },
        "fe425336af624c999d88928801a050e5": {
          "model_module": "@jupyter-widgets/controls",
          "model_name": "HBoxModel",
          "model_module_version": "1.5.0",
          "state": {
            "_dom_classes": [],
            "_model_module": "@jupyter-widgets/controls",
            "_model_module_version": "1.5.0",
            "_model_name": "HBoxModel",
            "_view_count": null,
            "_view_module": "@jupyter-widgets/controls",
            "_view_module_version": "1.5.0",
            "_view_name": "HBoxView",
            "box_style": "",
            "children": [
              "IPY_MODEL_003230db04a848deb4c900346b85f31e",
              "IPY_MODEL_86b880c14cfe4d8f81ae47b14f83fac4",
              "IPY_MODEL_595cf71892034c8e9ee45981e69e93be"
            ],
            "layout": "IPY_MODEL_dc0da012385c47febbfbd8556ffe982a"
          }
        },
        "003230db04a848deb4c900346b85f31e": {
          "model_module": "@jupyter-widgets/controls",
          "model_name": "HTMLModel",
          "model_module_version": "1.5.0",
          "state": {
            "_dom_classes": [],
            "_model_module": "@jupyter-widgets/controls",
            "_model_module_version": "1.5.0",
            "_model_name": "HTMLModel",
            "_view_count": null,
            "_view_module": "@jupyter-widgets/controls",
            "_view_module_version": "1.5.0",
            "_view_name": "HTMLView",
            "description": "",
            "description_tooltip": null,
            "layout": "IPY_MODEL_ccdd3fd0cf0c4d5997fbcc0cb17a5fac",
            "placeholder": "​",
            "style": "IPY_MODEL_89804d379537487a83bbc82ae0647a6c",
            "value": "pytorch_model.bin: 100%"
          }
        },
        "86b880c14cfe4d8f81ae47b14f83fac4": {
          "model_module": "@jupyter-widgets/controls",
          "model_name": "FloatProgressModel",
          "model_module_version": "1.5.0",
          "state": {
            "_dom_classes": [],
            "_model_module": "@jupyter-widgets/controls",
            "_model_module_version": "1.5.0",
            "_model_name": "FloatProgressModel",
            "_view_count": null,
            "_view_module": "@jupyter-widgets/controls",
            "_view_module_version": "1.5.0",
            "_view_name": "ProgressView",
            "bar_style": "success",
            "description": "",
            "description_tooltip": null,
            "layout": "IPY_MODEL_0e042cfa7d40426f8de36f1b271da842",
            "max": 2271145830,
            "min": 0,
            "orientation": "horizontal",
            "style": "IPY_MODEL_02d793d7cb5a4fc590dce2204a501c36",
            "value": 2271145830
          }
        },
        "595cf71892034c8e9ee45981e69e93be": {
          "model_module": "@jupyter-widgets/controls",
          "model_name": "HTMLModel",
          "model_module_version": "1.5.0",
          "state": {
            "_dom_classes": [],
            "_model_module": "@jupyter-widgets/controls",
            "_model_module_version": "1.5.0",
            "_model_name": "HTMLModel",
            "_view_count": null,
            "_view_module": "@jupyter-widgets/controls",
            "_view_module_version": "1.5.0",
            "_view_name": "HTMLView",
            "description": "",
            "description_tooltip": null,
            "layout": "IPY_MODEL_2e4cda735b164596a49416e01f981853",
            "placeholder": "​",
            "style": "IPY_MODEL_d8fae1deda124bd5a8abf455e3257c1b",
            "value": " 2.27G/2.27G [00:35&lt;00:00, 14.4MB/s]"
          }
        },
        "dc0da012385c47febbfbd8556ffe982a": {
          "model_module": "@jupyter-widgets/base",
          "model_name": "LayoutModel",
          "model_module_version": "1.2.0",
          "state": {
            "_model_module": "@jupyter-widgets/base",
            "_model_module_version": "1.2.0",
            "_model_name": "LayoutModel",
            "_view_count": null,
            "_view_module": "@jupyter-widgets/base",
            "_view_module_version": "1.2.0",
            "_view_name": "LayoutView",
            "align_content": null,
            "align_items": null,
            "align_self": null,
            "border": null,
            "bottom": null,
            "display": null,
            "flex": null,
            "flex_flow": null,
            "grid_area": null,
            "grid_auto_columns": null,
            "grid_auto_flow": null,
            "grid_auto_rows": null,
            "grid_column": null,
            "grid_gap": null,
            "grid_row": null,
            "grid_template_areas": null,
            "grid_template_columns": null,
            "grid_template_rows": null,
            "height": null,
            "justify_content": null,
            "justify_items": null,
            "left": null,
            "margin": null,
            "max_height": null,
            "max_width": null,
            "min_height": null,
            "min_width": null,
            "object_fit": null,
            "object_position": null,
            "order": null,
            "overflow": null,
            "overflow_x": null,
            "overflow_y": null,
            "padding": null,
            "right": null,
            "top": null,
            "visibility": null,
            "width": null
          }
        },
        "ccdd3fd0cf0c4d5997fbcc0cb17a5fac": {
          "model_module": "@jupyter-widgets/base",
          "model_name": "LayoutModel",
          "model_module_version": "1.2.0",
          "state": {
            "_model_module": "@jupyter-widgets/base",
            "_model_module_version": "1.2.0",
            "_model_name": "LayoutModel",
            "_view_count": null,
            "_view_module": "@jupyter-widgets/base",
            "_view_module_version": "1.2.0",
            "_view_name": "LayoutView",
            "align_content": null,
            "align_items": null,
            "align_self": null,
            "border": null,
            "bottom": null,
            "display": null,
            "flex": null,
            "flex_flow": null,
            "grid_area": null,
            "grid_auto_columns": null,
            "grid_auto_flow": null,
            "grid_auto_rows": null,
            "grid_column": null,
            "grid_gap": null,
            "grid_row": null,
            "grid_template_areas": null,
            "grid_template_columns": null,
            "grid_template_rows": null,
            "height": null,
            "justify_content": null,
            "justify_items": null,
            "left": null,
            "margin": null,
            "max_height": null,
            "max_width": null,
            "min_height": null,
            "min_width": null,
            "object_fit": null,
            "object_position": null,
            "order": null,
            "overflow": null,
            "overflow_x": null,
            "overflow_y": null,
            "padding": null,
            "right": null,
            "top": null,
            "visibility": null,
            "width": null
          }
        },
        "89804d379537487a83bbc82ae0647a6c": {
          "model_module": "@jupyter-widgets/controls",
          "model_name": "DescriptionStyleModel",
          "model_module_version": "1.5.0",
          "state": {
            "_model_module": "@jupyter-widgets/controls",
            "_model_module_version": "1.5.0",
            "_model_name": "DescriptionStyleModel",
            "_view_count": null,
            "_view_module": "@jupyter-widgets/base",
            "_view_module_version": "1.2.0",
            "_view_name": "StyleView",
            "description_width": ""
          }
        },
        "0e042cfa7d40426f8de36f1b271da842": {
          "model_module": "@jupyter-widgets/base",
          "model_name": "LayoutModel",
          "model_module_version": "1.2.0",
          "state": {
            "_model_module": "@jupyter-widgets/base",
            "_model_module_version": "1.2.0",
            "_model_name": "LayoutModel",
            "_view_count": null,
            "_view_module": "@jupyter-widgets/base",
            "_view_module_version": "1.2.0",
            "_view_name": "LayoutView",
            "align_content": null,
            "align_items": null,
            "align_self": null,
            "border": null,
            "bottom": null,
            "display": null,
            "flex": null,
            "flex_flow": null,
            "grid_area": null,
            "grid_auto_columns": null,
            "grid_auto_flow": null,
            "grid_auto_rows": null,
            "grid_column": null,
            "grid_gap": null,
            "grid_row": null,
            "grid_template_areas": null,
            "grid_template_columns": null,
            "grid_template_rows": null,
            "height": null,
            "justify_content": null,
            "justify_items": null,
            "left": null,
            "margin": null,
            "max_height": null,
            "max_width": null,
            "min_height": null,
            "min_width": null,
            "object_fit": null,
            "object_position": null,
            "order": null,
            "overflow": null,
            "overflow_x": null,
            "overflow_y": null,
            "padding": null,
            "right": null,
            "top": null,
            "visibility": null,
            "width": null
          }
        },
        "02d793d7cb5a4fc590dce2204a501c36": {
          "model_module": "@jupyter-widgets/controls",
          "model_name": "ProgressStyleModel",
          "model_module_version": "1.5.0",
          "state": {
            "_model_module": "@jupyter-widgets/controls",
            "_model_module_version": "1.5.0",
            "_model_name": "ProgressStyleModel",
            "_view_count": null,
            "_view_module": "@jupyter-widgets/base",
            "_view_module_version": "1.2.0",
            "_view_name": "StyleView",
            "bar_color": null,
            "description_width": ""
          }
        },
        "2e4cda735b164596a49416e01f981853": {
          "model_module": "@jupyter-widgets/base",
          "model_name": "LayoutModel",
          "model_module_version": "1.2.0",
          "state": {
            "_model_module": "@jupyter-widgets/base",
            "_model_module_version": "1.2.0",
            "_model_name": "LayoutModel",
            "_view_count": null,
            "_view_module": "@jupyter-widgets/base",
            "_view_module_version": "1.2.0",
            "_view_name": "LayoutView",
            "align_content": null,
            "align_items": null,
            "align_self": null,
            "border": null,
            "bottom": null,
            "display": null,
            "flex": null,
            "flex_flow": null,
            "grid_area": null,
            "grid_auto_columns": null,
            "grid_auto_flow": null,
            "grid_auto_rows": null,
            "grid_column": null,
            "grid_gap": null,
            "grid_row": null,
            "grid_template_areas": null,
            "grid_template_columns": null,
            "grid_template_rows": null,
            "height": null,
            "justify_content": null,
            "justify_items": null,
            "left": null,
            "margin": null,
            "max_height": null,
            "max_width": null,
            "min_height": null,
            "min_width": null,
            "object_fit": null,
            "object_position": null,
            "order": null,
            "overflow": null,
            "overflow_x": null,
            "overflow_y": null,
            "padding": null,
            "right": null,
            "top": null,
            "visibility": null,
            "width": null
          }
        },
        "d8fae1deda124bd5a8abf455e3257c1b": {
          "model_module": "@jupyter-widgets/controls",
          "model_name": "DescriptionStyleModel",
          "model_module_version": "1.5.0",
          "state": {
            "_model_module": "@jupyter-widgets/controls",
            "_model_module_version": "1.5.0",
            "_model_name": "DescriptionStyleModel",
            "_view_count": null,
            "_view_module": "@jupyter-widgets/base",
            "_view_module_version": "1.2.0",
            "_view_name": "StyleView",
            "description_width": ""
          }
        },
        "bc8013517454414d8c25f4ab2350cde1": {
          "model_module": "@jupyter-widgets/controls",
          "model_name": "HBoxModel",
          "model_module_version": "1.5.0",
          "state": {
            "_dom_classes": [],
            "_model_module": "@jupyter-widgets/controls",
            "_model_module_version": "1.5.0",
            "_model_name": "HBoxModel",
            "_view_count": null,
            "_view_module": "@jupyter-widgets/controls",
            "_view_module_version": "1.5.0",
            "_view_name": "HBoxView",
            "box_style": "",
            "children": [
              "IPY_MODEL_b50489a8eb564179978e4617ddd8e0ab",
              "IPY_MODEL_5b07cca18315440bac1bd54066c32246",
              "IPY_MODEL_45c9ce3b723a45c595c5063d9b8e3198"
            ],
            "layout": "IPY_MODEL_5236c84a12f14643af12ffc21b34f749"
          }
        },
        "b50489a8eb564179978e4617ddd8e0ab": {
          "model_module": "@jupyter-widgets/controls",
          "model_name": "HTMLModel",
          "model_module_version": "1.5.0",
          "state": {
            "_dom_classes": [],
            "_model_module": "@jupyter-widgets/controls",
            "_model_module_version": "1.5.0",
            "_model_name": "HTMLModel",
            "_view_count": null,
            "_view_module": "@jupyter-widgets/controls",
            "_view_module_version": "1.5.0",
            "_view_name": "HTMLView",
            "description": "",
            "description_tooltip": null,
            "layout": "IPY_MODEL_017017eaad2f4abf89442913dd8322eb",
            "placeholder": "​",
            "style": "IPY_MODEL_216ca4f3285a476ea93ace43f246abae",
            "value": "tokenizer_config.json: 100%"
          }
        },
        "5b07cca18315440bac1bd54066c32246": {
          "model_module": "@jupyter-widgets/controls",
          "model_name": "FloatProgressModel",
          "model_module_version": "1.5.0",
          "state": {
            "_dom_classes": [],
            "_model_module": "@jupyter-widgets/controls",
            "_model_module_version": "1.5.0",
            "_model_name": "FloatProgressModel",
            "_view_count": null,
            "_view_module": "@jupyter-widgets/controls",
            "_view_module_version": "1.5.0",
            "_view_name": "ProgressView",
            "bar_style": "success",
            "description": "",
            "description_tooltip": null,
            "layout": "IPY_MODEL_543ad07fea3a4e64b06beda32746655e",
            "max": 444,
            "min": 0,
            "orientation": "horizontal",
            "style": "IPY_MODEL_e154cd2a2f554c39b24192be1efe4518",
            "value": 444
          }
        },
        "45c9ce3b723a45c595c5063d9b8e3198": {
          "model_module": "@jupyter-widgets/controls",
          "model_name": "HTMLModel",
          "model_module_version": "1.5.0",
          "state": {
            "_dom_classes": [],
            "_model_module": "@jupyter-widgets/controls",
            "_model_module_version": "1.5.0",
            "_model_name": "HTMLModel",
            "_view_count": null,
            "_view_module": "@jupyter-widgets/controls",
            "_view_module_version": "1.5.0",
            "_view_name": "HTMLView",
            "description": "",
            "description_tooltip": null,
            "layout": "IPY_MODEL_b28209a8264848409a9f03a683c3f799",
            "placeholder": "​",
            "style": "IPY_MODEL_4e1921e1a2f64e83beb8114811bc72de",
            "value": " 444/444 [00:00&lt;00:00, 26.1kB/s]"
          }
        },
        "5236c84a12f14643af12ffc21b34f749": {
          "model_module": "@jupyter-widgets/base",
          "model_name": "LayoutModel",
          "model_module_version": "1.2.0",
          "state": {
            "_model_module": "@jupyter-widgets/base",
            "_model_module_version": "1.2.0",
            "_model_name": "LayoutModel",
            "_view_count": null,
            "_view_module": "@jupyter-widgets/base",
            "_view_module_version": "1.2.0",
            "_view_name": "LayoutView",
            "align_content": null,
            "align_items": null,
            "align_self": null,
            "border": null,
            "bottom": null,
            "display": null,
            "flex": null,
            "flex_flow": null,
            "grid_area": null,
            "grid_auto_columns": null,
            "grid_auto_flow": null,
            "grid_auto_rows": null,
            "grid_column": null,
            "grid_gap": null,
            "grid_row": null,
            "grid_template_areas": null,
            "grid_template_columns": null,
            "grid_template_rows": null,
            "height": null,
            "justify_content": null,
            "justify_items": null,
            "left": null,
            "margin": null,
            "max_height": null,
            "max_width": null,
            "min_height": null,
            "min_width": null,
            "object_fit": null,
            "object_position": null,
            "order": null,
            "overflow": null,
            "overflow_x": null,
            "overflow_y": null,
            "padding": null,
            "right": null,
            "top": null,
            "visibility": null,
            "width": null
          }
        },
        "017017eaad2f4abf89442913dd8322eb": {
          "model_module": "@jupyter-widgets/base",
          "model_name": "LayoutModel",
          "model_module_version": "1.2.0",
          "state": {
            "_model_module": "@jupyter-widgets/base",
            "_model_module_version": "1.2.0",
            "_model_name": "LayoutModel",
            "_view_count": null,
            "_view_module": "@jupyter-widgets/base",
            "_view_module_version": "1.2.0",
            "_view_name": "LayoutView",
            "align_content": null,
            "align_items": null,
            "align_self": null,
            "border": null,
            "bottom": null,
            "display": null,
            "flex": null,
            "flex_flow": null,
            "grid_area": null,
            "grid_auto_columns": null,
            "grid_auto_flow": null,
            "grid_auto_rows": null,
            "grid_column": null,
            "grid_gap": null,
            "grid_row": null,
            "grid_template_areas": null,
            "grid_template_columns": null,
            "grid_template_rows": null,
            "height": null,
            "justify_content": null,
            "justify_items": null,
            "left": null,
            "margin": null,
            "max_height": null,
            "max_width": null,
            "min_height": null,
            "min_width": null,
            "object_fit": null,
            "object_position": null,
            "order": null,
            "overflow": null,
            "overflow_x": null,
            "overflow_y": null,
            "padding": null,
            "right": null,
            "top": null,
            "visibility": null,
            "width": null
          }
        },
        "216ca4f3285a476ea93ace43f246abae": {
          "model_module": "@jupyter-widgets/controls",
          "model_name": "DescriptionStyleModel",
          "model_module_version": "1.5.0",
          "state": {
            "_model_module": "@jupyter-widgets/controls",
            "_model_module_version": "1.5.0",
            "_model_name": "DescriptionStyleModel",
            "_view_count": null,
            "_view_module": "@jupyter-widgets/base",
            "_view_module_version": "1.2.0",
            "_view_name": "StyleView",
            "description_width": ""
          }
        },
        "543ad07fea3a4e64b06beda32746655e": {
          "model_module": "@jupyter-widgets/base",
          "model_name": "LayoutModel",
          "model_module_version": "1.2.0",
          "state": {
            "_model_module": "@jupyter-widgets/base",
            "_model_module_version": "1.2.0",
            "_model_name": "LayoutModel",
            "_view_count": null,
            "_view_module": "@jupyter-widgets/base",
            "_view_module_version": "1.2.0",
            "_view_name": "LayoutView",
            "align_content": null,
            "align_items": null,
            "align_self": null,
            "border": null,
            "bottom": null,
            "display": null,
            "flex": null,
            "flex_flow": null,
            "grid_area": null,
            "grid_auto_columns": null,
            "grid_auto_flow": null,
            "grid_auto_rows": null,
            "grid_column": null,
            "grid_gap": null,
            "grid_row": null,
            "grid_template_areas": null,
            "grid_template_columns": null,
            "grid_template_rows": null,
            "height": null,
            "justify_content": null,
            "justify_items": null,
            "left": null,
            "margin": null,
            "max_height": null,
            "max_width": null,
            "min_height": null,
            "min_width": null,
            "object_fit": null,
            "object_position": null,
            "order": null,
            "overflow": null,
            "overflow_x": null,
            "overflow_y": null,
            "padding": null,
            "right": null,
            "top": null,
            "visibility": null,
            "width": null
          }
        },
        "e154cd2a2f554c39b24192be1efe4518": {
          "model_module": "@jupyter-widgets/controls",
          "model_name": "ProgressStyleModel",
          "model_module_version": "1.5.0",
          "state": {
            "_model_module": "@jupyter-widgets/controls",
            "_model_module_version": "1.5.0",
            "_model_name": "ProgressStyleModel",
            "_view_count": null,
            "_view_module": "@jupyter-widgets/base",
            "_view_module_version": "1.2.0",
            "_view_name": "StyleView",
            "bar_color": null,
            "description_width": ""
          }
        },
        "b28209a8264848409a9f03a683c3f799": {
          "model_module": "@jupyter-widgets/base",
          "model_name": "LayoutModel",
          "model_module_version": "1.2.0",
          "state": {
            "_model_module": "@jupyter-widgets/base",
            "_model_module_version": "1.2.0",
            "_model_name": "LayoutModel",
            "_view_count": null,
            "_view_module": "@jupyter-widgets/base",
            "_view_module_version": "1.2.0",
            "_view_name": "LayoutView",
            "align_content": null,
            "align_items": null,
            "align_self": null,
            "border": null,
            "bottom": null,
            "display": null,
            "flex": null,
            "flex_flow": null,
            "grid_area": null,
            "grid_auto_columns": null,
            "grid_auto_flow": null,
            "grid_auto_rows": null,
            "grid_column": null,
            "grid_gap": null,
            "grid_row": null,
            "grid_template_areas": null,
            "grid_template_columns": null,
            "grid_template_rows": null,
            "height": null,
            "justify_content": null,
            "justify_items": null,
            "left": null,
            "margin": null,
            "max_height": null,
            "max_width": null,
            "min_height": null,
            "min_width": null,
            "object_fit": null,
            "object_position": null,
            "order": null,
            "overflow": null,
            "overflow_x": null,
            "overflow_y": null,
            "padding": null,
            "right": null,
            "top": null,
            "visibility": null,
            "width": null
          }
        },
        "4e1921e1a2f64e83beb8114811bc72de": {
          "model_module": "@jupyter-widgets/controls",
          "model_name": "DescriptionStyleModel",
          "model_module_version": "1.5.0",
          "state": {
            "_model_module": "@jupyter-widgets/controls",
            "_model_module_version": "1.5.0",
            "_model_name": "DescriptionStyleModel",
            "_view_count": null,
            "_view_module": "@jupyter-widgets/base",
            "_view_module_version": "1.2.0",
            "_view_name": "StyleView",
            "description_width": ""
          }
        },
        "647a71e030d447b2be1f8b9c3b8d9111": {
          "model_module": "@jupyter-widgets/controls",
          "model_name": "HBoxModel",
          "model_module_version": "1.5.0",
          "state": {
            "_dom_classes": [],
            "_model_module": "@jupyter-widgets/controls",
            "_model_module_version": "1.5.0",
            "_model_name": "HBoxModel",
            "_view_count": null,
            "_view_module": "@jupyter-widgets/controls",
            "_view_module_version": "1.5.0",
            "_view_name": "HBoxView",
            "box_style": "",
            "children": [
              "IPY_MODEL_100ed274387a45568298114ce32db0d8",
              "IPY_MODEL_dffae229bf5747b493d1e625fec20bd1",
              "IPY_MODEL_50596e24fe244b578dce5f7a9e112618"
            ],
            "layout": "IPY_MODEL_468f7672bc164bef8d05a80f05567256"
          }
        },
        "100ed274387a45568298114ce32db0d8": {
          "model_module": "@jupyter-widgets/controls",
          "model_name": "HTMLModel",
          "model_module_version": "1.5.0",
          "state": {
            "_dom_classes": [],
            "_model_module": "@jupyter-widgets/controls",
            "_model_module_version": "1.5.0",
            "_model_name": "HTMLModel",
            "_view_count": null,
            "_view_module": "@jupyter-widgets/controls",
            "_view_module_version": "1.5.0",
            "_view_name": "HTMLView",
            "description": "",
            "description_tooltip": null,
            "layout": "IPY_MODEL_0ffeaab1cf7445bb89b2c8cb15668de0",
            "placeholder": "​",
            "style": "IPY_MODEL_b557f2054aa54424bd515d45d51994ba",
            "value": "sentencepiece.bpe.model: 100%"
          }
        },
        "dffae229bf5747b493d1e625fec20bd1": {
          "model_module": "@jupyter-widgets/controls",
          "model_name": "FloatProgressModel",
          "model_module_version": "1.5.0",
          "state": {
            "_dom_classes": [],
            "_model_module": "@jupyter-widgets/controls",
            "_model_module_version": "1.5.0",
            "_model_name": "FloatProgressModel",
            "_view_count": null,
            "_view_module": "@jupyter-widgets/controls",
            "_view_module_version": "1.5.0",
            "_view_name": "ProgressView",
            "bar_style": "success",
            "description": "",
            "description_tooltip": null,
            "layout": "IPY_MODEL_3ac12af6a1b74e3e9d89373615830b31",
            "max": 5069051,
            "min": 0,
            "orientation": "horizontal",
            "style": "IPY_MODEL_d8456576cb71457ebec184acb4a4155a",
            "value": 5069051
          }
        },
        "50596e24fe244b578dce5f7a9e112618": {
          "model_module": "@jupyter-widgets/controls",
          "model_name": "HTMLModel",
          "model_module_version": "1.5.0",
          "state": {
            "_dom_classes": [],
            "_model_module": "@jupyter-widgets/controls",
            "_model_module_version": "1.5.0",
            "_model_name": "HTMLModel",
            "_view_count": null,
            "_view_module": "@jupyter-widgets/controls",
            "_view_module_version": "1.5.0",
            "_view_name": "HTMLView",
            "description": "",
            "description_tooltip": null,
            "layout": "IPY_MODEL_7f544ca2b185484fa1abff936aceba00",
            "placeholder": "​",
            "style": "IPY_MODEL_0b7f19cd84d34cea84a25219c8504b4f",
            "value": " 5.07M/5.07M [00:00&lt;00:00, 36.0MB/s]"
          }
        },
        "468f7672bc164bef8d05a80f05567256": {
          "model_module": "@jupyter-widgets/base",
          "model_name": "LayoutModel",
          "model_module_version": "1.2.0",
          "state": {
            "_model_module": "@jupyter-widgets/base",
            "_model_module_version": "1.2.0",
            "_model_name": "LayoutModel",
            "_view_count": null,
            "_view_module": "@jupyter-widgets/base",
            "_view_module_version": "1.2.0",
            "_view_name": "LayoutView",
            "align_content": null,
            "align_items": null,
            "align_self": null,
            "border": null,
            "bottom": null,
            "display": null,
            "flex": null,
            "flex_flow": null,
            "grid_area": null,
            "grid_auto_columns": null,
            "grid_auto_flow": null,
            "grid_auto_rows": null,
            "grid_column": null,
            "grid_gap": null,
            "grid_row": null,
            "grid_template_areas": null,
            "grid_template_columns": null,
            "grid_template_rows": null,
            "height": null,
            "justify_content": null,
            "justify_items": null,
            "left": null,
            "margin": null,
            "max_height": null,
            "max_width": null,
            "min_height": null,
            "min_width": null,
            "object_fit": null,
            "object_position": null,
            "order": null,
            "overflow": null,
            "overflow_x": null,
            "overflow_y": null,
            "padding": null,
            "right": null,
            "top": null,
            "visibility": null,
            "width": null
          }
        },
        "0ffeaab1cf7445bb89b2c8cb15668de0": {
          "model_module": "@jupyter-widgets/base",
          "model_name": "LayoutModel",
          "model_module_version": "1.2.0",
          "state": {
            "_model_module": "@jupyter-widgets/base",
            "_model_module_version": "1.2.0",
            "_model_name": "LayoutModel",
            "_view_count": null,
            "_view_module": "@jupyter-widgets/base",
            "_view_module_version": "1.2.0",
            "_view_name": "LayoutView",
            "align_content": null,
            "align_items": null,
            "align_self": null,
            "border": null,
            "bottom": null,
            "display": null,
            "flex": null,
            "flex_flow": null,
            "grid_area": null,
            "grid_auto_columns": null,
            "grid_auto_flow": null,
            "grid_auto_rows": null,
            "grid_column": null,
            "grid_gap": null,
            "grid_row": null,
            "grid_template_areas": null,
            "grid_template_columns": null,
            "grid_template_rows": null,
            "height": null,
            "justify_content": null,
            "justify_items": null,
            "left": null,
            "margin": null,
            "max_height": null,
            "max_width": null,
            "min_height": null,
            "min_width": null,
            "object_fit": null,
            "object_position": null,
            "order": null,
            "overflow": null,
            "overflow_x": null,
            "overflow_y": null,
            "padding": null,
            "right": null,
            "top": null,
            "visibility": null,
            "width": null
          }
        },
        "b557f2054aa54424bd515d45d51994ba": {
          "model_module": "@jupyter-widgets/controls",
          "model_name": "DescriptionStyleModel",
          "model_module_version": "1.5.0",
          "state": {
            "_model_module": "@jupyter-widgets/controls",
            "_model_module_version": "1.5.0",
            "_model_name": "DescriptionStyleModel",
            "_view_count": null,
            "_view_module": "@jupyter-widgets/base",
            "_view_module_version": "1.2.0",
            "_view_name": "StyleView",
            "description_width": ""
          }
        },
        "3ac12af6a1b74e3e9d89373615830b31": {
          "model_module": "@jupyter-widgets/base",
          "model_name": "LayoutModel",
          "model_module_version": "1.2.0",
          "state": {
            "_model_module": "@jupyter-widgets/base",
            "_model_module_version": "1.2.0",
            "_model_name": "LayoutModel",
            "_view_count": null,
            "_view_module": "@jupyter-widgets/base",
            "_view_module_version": "1.2.0",
            "_view_name": "LayoutView",
            "align_content": null,
            "align_items": null,
            "align_self": null,
            "border": null,
            "bottom": null,
            "display": null,
            "flex": null,
            "flex_flow": null,
            "grid_area": null,
            "grid_auto_columns": null,
            "grid_auto_flow": null,
            "grid_auto_rows": null,
            "grid_column": null,
            "grid_gap": null,
            "grid_row": null,
            "grid_template_areas": null,
            "grid_template_columns": null,
            "grid_template_rows": null,
            "height": null,
            "justify_content": null,
            "justify_items": null,
            "left": null,
            "margin": null,
            "max_height": null,
            "max_width": null,
            "min_height": null,
            "min_width": null,
            "object_fit": null,
            "object_position": null,
            "order": null,
            "overflow": null,
            "overflow_x": null,
            "overflow_y": null,
            "padding": null,
            "right": null,
            "top": null,
            "visibility": null,
            "width": null
          }
        },
        "d8456576cb71457ebec184acb4a4155a": {
          "model_module": "@jupyter-widgets/controls",
          "model_name": "ProgressStyleModel",
          "model_module_version": "1.5.0",
          "state": {
            "_model_module": "@jupyter-widgets/controls",
            "_model_module_version": "1.5.0",
            "_model_name": "ProgressStyleModel",
            "_view_count": null,
            "_view_module": "@jupyter-widgets/base",
            "_view_module_version": "1.2.0",
            "_view_name": "StyleView",
            "bar_color": null,
            "description_width": ""
          }
        },
        "7f544ca2b185484fa1abff936aceba00": {
          "model_module": "@jupyter-widgets/base",
          "model_name": "LayoutModel",
          "model_module_version": "1.2.0",
          "state": {
            "_model_module": "@jupyter-widgets/base",
            "_model_module_version": "1.2.0",
            "_model_name": "LayoutModel",
            "_view_count": null,
            "_view_module": "@jupyter-widgets/base",
            "_view_module_version": "1.2.0",
            "_view_name": "LayoutView",
            "align_content": null,
            "align_items": null,
            "align_self": null,
            "border": null,
            "bottom": null,
            "display": null,
            "flex": null,
            "flex_flow": null,
            "grid_area": null,
            "grid_auto_columns": null,
            "grid_auto_flow": null,
            "grid_auto_rows": null,
            "grid_column": null,
            "grid_gap": null,
            "grid_row": null,
            "grid_template_areas": null,
            "grid_template_columns": null,
            "grid_template_rows": null,
            "height": null,
            "justify_content": null,
            "justify_items": null,
            "left": null,
            "margin": null,
            "max_height": null,
            "max_width": null,
            "min_height": null,
            "min_width": null,
            "object_fit": null,
            "object_position": null,
            "order": null,
            "overflow": null,
            "overflow_x": null,
            "overflow_y": null,
            "padding": null,
            "right": null,
            "top": null,
            "visibility": null,
            "width": null
          }
        },
        "0b7f19cd84d34cea84a25219c8504b4f": {
          "model_module": "@jupyter-widgets/controls",
          "model_name": "DescriptionStyleModel",
          "model_module_version": "1.5.0",
          "state": {
            "_model_module": "@jupyter-widgets/controls",
            "_model_module_version": "1.5.0",
            "_model_name": "DescriptionStyleModel",
            "_view_count": null,
            "_view_module": "@jupyter-widgets/base",
            "_view_module_version": "1.2.0",
            "_view_name": "StyleView",
            "description_width": ""
          }
        },
        "c1a2513f8edf49c28cded97e51c45bd7": {
          "model_module": "@jupyter-widgets/controls",
          "model_name": "HBoxModel",
          "model_module_version": "1.5.0",
          "state": {
            "_dom_classes": [],
            "_model_module": "@jupyter-widgets/controls",
            "_model_module_version": "1.5.0",
            "_model_name": "HBoxModel",
            "_view_count": null,
            "_view_module": "@jupyter-widgets/controls",
            "_view_module_version": "1.5.0",
            "_view_name": "HBoxView",
            "box_style": "",
            "children": [
              "IPY_MODEL_0eaa7e3c0123450d9db4ee96e5f93fd3",
              "IPY_MODEL_3c900842b28d4098a36ed6fa7f4bd7b2",
              "IPY_MODEL_a9645815e3554805b41bba79b46ef920"
            ],
            "layout": "IPY_MODEL_eede0bfdcad4421eae6a60f57ff22a8d"
          }
        },
        "0eaa7e3c0123450d9db4ee96e5f93fd3": {
          "model_module": "@jupyter-widgets/controls",
          "model_name": "HTMLModel",
          "model_module_version": "1.5.0",
          "state": {
            "_dom_classes": [],
            "_model_module": "@jupyter-widgets/controls",
            "_model_module_version": "1.5.0",
            "_model_name": "HTMLModel",
            "_view_count": null,
            "_view_module": "@jupyter-widgets/controls",
            "_view_module_version": "1.5.0",
            "_view_name": "HTMLView",
            "description": "",
            "description_tooltip": null,
            "layout": "IPY_MODEL_e0c6c341e4ba41cbb5c51100d4c99bb2",
            "placeholder": "​",
            "style": "IPY_MODEL_5f5ea23217484b12980a222bdc850d37",
            "value": "tokenizer.json: 100%"
          }
        },
        "3c900842b28d4098a36ed6fa7f4bd7b2": {
          "model_module": "@jupyter-widgets/controls",
          "model_name": "FloatProgressModel",
          "model_module_version": "1.5.0",
          "state": {
            "_dom_classes": [],
            "_model_module": "@jupyter-widgets/controls",
            "_model_module_version": "1.5.0",
            "_model_name": "FloatProgressModel",
            "_view_count": null,
            "_view_module": "@jupyter-widgets/controls",
            "_view_module_version": "1.5.0",
            "_view_name": "ProgressView",
            "bar_style": "success",
            "description": "",
            "description_tooltip": null,
            "layout": "IPY_MODEL_e07995a6358c447293b37d88f9e0ec2b",
            "max": 17098108,
            "min": 0,
            "orientation": "horizontal",
            "style": "IPY_MODEL_209e5fbe49d042d2bf0d268c5273e988",
            "value": 17098108
          }
        },
        "a9645815e3554805b41bba79b46ef920": {
          "model_module": "@jupyter-widgets/controls",
          "model_name": "HTMLModel",
          "model_module_version": "1.5.0",
          "state": {
            "_dom_classes": [],
            "_model_module": "@jupyter-widgets/controls",
            "_model_module_version": "1.5.0",
            "_model_name": "HTMLModel",
            "_view_count": null,
            "_view_module": "@jupyter-widgets/controls",
            "_view_module_version": "1.5.0",
            "_view_name": "HTMLView",
            "description": "",
            "description_tooltip": null,
            "layout": "IPY_MODEL_0ef5ba84eba241ac832453164b58fb05",
            "placeholder": "​",
            "style": "IPY_MODEL_04ee19bc8ec64599a938872ea3744377",
            "value": " 17.1M/17.1M [00:00&lt;00:00, 53.0MB/s]"
          }
        },
        "eede0bfdcad4421eae6a60f57ff22a8d": {
          "model_module": "@jupyter-widgets/base",
          "model_name": "LayoutModel",
          "model_module_version": "1.2.0",
          "state": {
            "_model_module": "@jupyter-widgets/base",
            "_model_module_version": "1.2.0",
            "_model_name": "LayoutModel",
            "_view_count": null,
            "_view_module": "@jupyter-widgets/base",
            "_view_module_version": "1.2.0",
            "_view_name": "LayoutView",
            "align_content": null,
            "align_items": null,
            "align_self": null,
            "border": null,
            "bottom": null,
            "display": null,
            "flex": null,
            "flex_flow": null,
            "grid_area": null,
            "grid_auto_columns": null,
            "grid_auto_flow": null,
            "grid_auto_rows": null,
            "grid_column": null,
            "grid_gap": null,
            "grid_row": null,
            "grid_template_areas": null,
            "grid_template_columns": null,
            "grid_template_rows": null,
            "height": null,
            "justify_content": null,
            "justify_items": null,
            "left": null,
            "margin": null,
            "max_height": null,
            "max_width": null,
            "min_height": null,
            "min_width": null,
            "object_fit": null,
            "object_position": null,
            "order": null,
            "overflow": null,
            "overflow_x": null,
            "overflow_y": null,
            "padding": null,
            "right": null,
            "top": null,
            "visibility": null,
            "width": null
          }
        },
        "e0c6c341e4ba41cbb5c51100d4c99bb2": {
          "model_module": "@jupyter-widgets/base",
          "model_name": "LayoutModel",
          "model_module_version": "1.2.0",
          "state": {
            "_model_module": "@jupyter-widgets/base",
            "_model_module_version": "1.2.0",
            "_model_name": "LayoutModel",
            "_view_count": null,
            "_view_module": "@jupyter-widgets/base",
            "_view_module_version": "1.2.0",
            "_view_name": "LayoutView",
            "align_content": null,
            "align_items": null,
            "align_self": null,
            "border": null,
            "bottom": null,
            "display": null,
            "flex": null,
            "flex_flow": null,
            "grid_area": null,
            "grid_auto_columns": null,
            "grid_auto_flow": null,
            "grid_auto_rows": null,
            "grid_column": null,
            "grid_gap": null,
            "grid_row": null,
            "grid_template_areas": null,
            "grid_template_columns": null,
            "grid_template_rows": null,
            "height": null,
            "justify_content": null,
            "justify_items": null,
            "left": null,
            "margin": null,
            "max_height": null,
            "max_width": null,
            "min_height": null,
            "min_width": null,
            "object_fit": null,
            "object_position": null,
            "order": null,
            "overflow": null,
            "overflow_x": null,
            "overflow_y": null,
            "padding": null,
            "right": null,
            "top": null,
            "visibility": null,
            "width": null
          }
        },
        "5f5ea23217484b12980a222bdc850d37": {
          "model_module": "@jupyter-widgets/controls",
          "model_name": "DescriptionStyleModel",
          "model_module_version": "1.5.0",
          "state": {
            "_model_module": "@jupyter-widgets/controls",
            "_model_module_version": "1.5.0",
            "_model_name": "DescriptionStyleModel",
            "_view_count": null,
            "_view_module": "@jupyter-widgets/base",
            "_view_module_version": "1.2.0",
            "_view_name": "StyleView",
            "description_width": ""
          }
        },
        "e07995a6358c447293b37d88f9e0ec2b": {
          "model_module": "@jupyter-widgets/base",
          "model_name": "LayoutModel",
          "model_module_version": "1.2.0",
          "state": {
            "_model_module": "@jupyter-widgets/base",
            "_model_module_version": "1.2.0",
            "_model_name": "LayoutModel",
            "_view_count": null,
            "_view_module": "@jupyter-widgets/base",
            "_view_module_version": "1.2.0",
            "_view_name": "LayoutView",
            "align_content": null,
            "align_items": null,
            "align_self": null,
            "border": null,
            "bottom": null,
            "display": null,
            "flex": null,
            "flex_flow": null,
            "grid_area": null,
            "grid_auto_columns": null,
            "grid_auto_flow": null,
            "grid_auto_rows": null,
            "grid_column": null,
            "grid_gap": null,
            "grid_row": null,
            "grid_template_areas": null,
            "grid_template_columns": null,
            "grid_template_rows": null,
            "height": null,
            "justify_content": null,
            "justify_items": null,
            "left": null,
            "margin": null,
            "max_height": null,
            "max_width": null,
            "min_height": null,
            "min_width": null,
            "object_fit": null,
            "object_position": null,
            "order": null,
            "overflow": null,
            "overflow_x": null,
            "overflow_y": null,
            "padding": null,
            "right": null,
            "top": null,
            "visibility": null,
            "width": null
          }
        },
        "209e5fbe49d042d2bf0d268c5273e988": {
          "model_module": "@jupyter-widgets/controls",
          "model_name": "ProgressStyleModel",
          "model_module_version": "1.5.0",
          "state": {
            "_model_module": "@jupyter-widgets/controls",
            "_model_module_version": "1.5.0",
            "_model_name": "ProgressStyleModel",
            "_view_count": null,
            "_view_module": "@jupyter-widgets/base",
            "_view_module_version": "1.2.0",
            "_view_name": "StyleView",
            "bar_color": null,
            "description_width": ""
          }
        },
        "0ef5ba84eba241ac832453164b58fb05": {
          "model_module": "@jupyter-widgets/base",
          "model_name": "LayoutModel",
          "model_module_version": "1.2.0",
          "state": {
            "_model_module": "@jupyter-widgets/base",
            "_model_module_version": "1.2.0",
            "_model_name": "LayoutModel",
            "_view_count": null,
            "_view_module": "@jupyter-widgets/base",
            "_view_module_version": "1.2.0",
            "_view_name": "LayoutView",
            "align_content": null,
            "align_items": null,
            "align_self": null,
            "border": null,
            "bottom": null,
            "display": null,
            "flex": null,
            "flex_flow": null,
            "grid_area": null,
            "grid_auto_columns": null,
            "grid_auto_flow": null,
            "grid_auto_rows": null,
            "grid_column": null,
            "grid_gap": null,
            "grid_row": null,
            "grid_template_areas": null,
            "grid_template_columns": null,
            "grid_template_rows": null,
            "height": null,
            "justify_content": null,
            "justify_items": null,
            "left": null,
            "margin": null,
            "max_height": null,
            "max_width": null,
            "min_height": null,
            "min_width": null,
            "object_fit": null,
            "object_position": null,
            "order": null,
            "overflow": null,
            "overflow_x": null,
            "overflow_y": null,
            "padding": null,
            "right": null,
            "top": null,
            "visibility": null,
            "width": null
          }
        },
        "04ee19bc8ec64599a938872ea3744377": {
          "model_module": "@jupyter-widgets/controls",
          "model_name": "DescriptionStyleModel",
          "model_module_version": "1.5.0",
          "state": {
            "_model_module": "@jupyter-widgets/controls",
            "_model_module_version": "1.5.0",
            "_model_name": "DescriptionStyleModel",
            "_view_count": null,
            "_view_module": "@jupyter-widgets/base",
            "_view_module_version": "1.2.0",
            "_view_name": "StyleView",
            "description_width": ""
          }
        },
        "39dae583da014b9681cfc3b6ab25c2bb": {
          "model_module": "@jupyter-widgets/controls",
          "model_name": "HBoxModel",
          "model_module_version": "1.5.0",
          "state": {
            "_dom_classes": [],
            "_model_module": "@jupyter-widgets/controls",
            "_model_module_version": "1.5.0",
            "_model_name": "HBoxModel",
            "_view_count": null,
            "_view_module": "@jupyter-widgets/controls",
            "_view_module_version": "1.5.0",
            "_view_name": "HBoxView",
            "box_style": "",
            "children": [
              "IPY_MODEL_834c1dd515d54941bb6f3a7ac4c484ae",
              "IPY_MODEL_93a45465f7ae4bf892457761171d818c",
              "IPY_MODEL_7f1525dd0a7f4d398bad39a885a1a8a9"
            ],
            "layout": "IPY_MODEL_224beab10d954ed3b75d4e37d0da9ef6"
          }
        },
        "834c1dd515d54941bb6f3a7ac4c484ae": {
          "model_module": "@jupyter-widgets/controls",
          "model_name": "HTMLModel",
          "model_module_version": "1.5.0",
          "state": {
            "_dom_classes": [],
            "_model_module": "@jupyter-widgets/controls",
            "_model_module_version": "1.5.0",
            "_model_name": "HTMLModel",
            "_view_count": null,
            "_view_module": "@jupyter-widgets/controls",
            "_view_module_version": "1.5.0",
            "_view_name": "HTMLView",
            "description": "",
            "description_tooltip": null,
            "layout": "IPY_MODEL_f6df06c203cb4147a4134842d7457b45",
            "placeholder": "​",
            "style": "IPY_MODEL_16a0965c5e654652bbad70fd85a1f388",
            "value": "special_tokens_map.json: 100%"
          }
        },
        "93a45465f7ae4bf892457761171d818c": {
          "model_module": "@jupyter-widgets/controls",
          "model_name": "FloatProgressModel",
          "model_module_version": "1.5.0",
          "state": {
            "_dom_classes": [],
            "_model_module": "@jupyter-widgets/controls",
            "_model_module_version": "1.5.0",
            "_model_name": "FloatProgressModel",
            "_view_count": null,
            "_view_module": "@jupyter-widgets/controls",
            "_view_module_version": "1.5.0",
            "_view_name": "ProgressView",
            "bar_style": "success",
            "description": "",
            "description_tooltip": null,
            "layout": "IPY_MODEL_f349b31852fa4b03bd7dbb3ca815cc58",
            "max": 964,
            "min": 0,
            "orientation": "horizontal",
            "style": "IPY_MODEL_097d5e647b3e4e8484d137c20e950abe",
            "value": 964
          }
        },
        "7f1525dd0a7f4d398bad39a885a1a8a9": {
          "model_module": "@jupyter-widgets/controls",
          "model_name": "HTMLModel",
          "model_module_version": "1.5.0",
          "state": {
            "_dom_classes": [],
            "_model_module": "@jupyter-widgets/controls",
            "_model_module_version": "1.5.0",
            "_model_name": "HTMLModel",
            "_view_count": null,
            "_view_module": "@jupyter-widgets/controls",
            "_view_module_version": "1.5.0",
            "_view_name": "HTMLView",
            "description": "",
            "description_tooltip": null,
            "layout": "IPY_MODEL_943730f59e9f497b8f8cb5cd01ac5e30",
            "placeholder": "​",
            "style": "IPY_MODEL_3513d947c0a443ffadb6d9f76d91c613",
            "value": " 964/964 [00:00&lt;00:00, 56.4kB/s]"
          }
        },
        "224beab10d954ed3b75d4e37d0da9ef6": {
          "model_module": "@jupyter-widgets/base",
          "model_name": "LayoutModel",
          "model_module_version": "1.2.0",
          "state": {
            "_model_module": "@jupyter-widgets/base",
            "_model_module_version": "1.2.0",
            "_model_name": "LayoutModel",
            "_view_count": null,
            "_view_module": "@jupyter-widgets/base",
            "_view_module_version": "1.2.0",
            "_view_name": "LayoutView",
            "align_content": null,
            "align_items": null,
            "align_self": null,
            "border": null,
            "bottom": null,
            "display": null,
            "flex": null,
            "flex_flow": null,
            "grid_area": null,
            "grid_auto_columns": null,
            "grid_auto_flow": null,
            "grid_auto_rows": null,
            "grid_column": null,
            "grid_gap": null,
            "grid_row": null,
            "grid_template_areas": null,
            "grid_template_columns": null,
            "grid_template_rows": null,
            "height": null,
            "justify_content": null,
            "justify_items": null,
            "left": null,
            "margin": null,
            "max_height": null,
            "max_width": null,
            "min_height": null,
            "min_width": null,
            "object_fit": null,
            "object_position": null,
            "order": null,
            "overflow": null,
            "overflow_x": null,
            "overflow_y": null,
            "padding": null,
            "right": null,
            "top": null,
            "visibility": null,
            "width": null
          }
        },
        "f6df06c203cb4147a4134842d7457b45": {
          "model_module": "@jupyter-widgets/base",
          "model_name": "LayoutModel",
          "model_module_version": "1.2.0",
          "state": {
            "_model_module": "@jupyter-widgets/base",
            "_model_module_version": "1.2.0",
            "_model_name": "LayoutModel",
            "_view_count": null,
            "_view_module": "@jupyter-widgets/base",
            "_view_module_version": "1.2.0",
            "_view_name": "LayoutView",
            "align_content": null,
            "align_items": null,
            "align_self": null,
            "border": null,
            "bottom": null,
            "display": null,
            "flex": null,
            "flex_flow": null,
            "grid_area": null,
            "grid_auto_columns": null,
            "grid_auto_flow": null,
            "grid_auto_rows": null,
            "grid_column": null,
            "grid_gap": null,
            "grid_row": null,
            "grid_template_areas": null,
            "grid_template_columns": null,
            "grid_template_rows": null,
            "height": null,
            "justify_content": null,
            "justify_items": null,
            "left": null,
            "margin": null,
            "max_height": null,
            "max_width": null,
            "min_height": null,
            "min_width": null,
            "object_fit": null,
            "object_position": null,
            "order": null,
            "overflow": null,
            "overflow_x": null,
            "overflow_y": null,
            "padding": null,
            "right": null,
            "top": null,
            "visibility": null,
            "width": null
          }
        },
        "16a0965c5e654652bbad70fd85a1f388": {
          "model_module": "@jupyter-widgets/controls",
          "model_name": "DescriptionStyleModel",
          "model_module_version": "1.5.0",
          "state": {
            "_model_module": "@jupyter-widgets/controls",
            "_model_module_version": "1.5.0",
            "_model_name": "DescriptionStyleModel",
            "_view_count": null,
            "_view_module": "@jupyter-widgets/base",
            "_view_module_version": "1.2.0",
            "_view_name": "StyleView",
            "description_width": ""
          }
        },
        "f349b31852fa4b03bd7dbb3ca815cc58": {
          "model_module": "@jupyter-widgets/base",
          "model_name": "LayoutModel",
          "model_module_version": "1.2.0",
          "state": {
            "_model_module": "@jupyter-widgets/base",
            "_model_module_version": "1.2.0",
            "_model_name": "LayoutModel",
            "_view_count": null,
            "_view_module": "@jupyter-widgets/base",
            "_view_module_version": "1.2.0",
            "_view_name": "LayoutView",
            "align_content": null,
            "align_items": null,
            "align_self": null,
            "border": null,
            "bottom": null,
            "display": null,
            "flex": null,
            "flex_flow": null,
            "grid_area": null,
            "grid_auto_columns": null,
            "grid_auto_flow": null,
            "grid_auto_rows": null,
            "grid_column": null,
            "grid_gap": null,
            "grid_row": null,
            "grid_template_areas": null,
            "grid_template_columns": null,
            "grid_template_rows": null,
            "height": null,
            "justify_content": null,
            "justify_items": null,
            "left": null,
            "margin": null,
            "max_height": null,
            "max_width": null,
            "min_height": null,
            "min_width": null,
            "object_fit": null,
            "object_position": null,
            "order": null,
            "overflow": null,
            "overflow_x": null,
            "overflow_y": null,
            "padding": null,
            "right": null,
            "top": null,
            "visibility": null,
            "width": null
          }
        },
        "097d5e647b3e4e8484d137c20e950abe": {
          "model_module": "@jupyter-widgets/controls",
          "model_name": "ProgressStyleModel",
          "model_module_version": "1.5.0",
          "state": {
            "_model_module": "@jupyter-widgets/controls",
            "_model_module_version": "1.5.0",
            "_model_name": "ProgressStyleModel",
            "_view_count": null,
            "_view_module": "@jupyter-widgets/base",
            "_view_module_version": "1.2.0",
            "_view_name": "StyleView",
            "bar_color": null,
            "description_width": ""
          }
        },
        "943730f59e9f497b8f8cb5cd01ac5e30": {
          "model_module": "@jupyter-widgets/base",
          "model_name": "LayoutModel",
          "model_module_version": "1.2.0",
          "state": {
            "_model_module": "@jupyter-widgets/base",
            "_model_module_version": "1.2.0",
            "_model_name": "LayoutModel",
            "_view_count": null,
            "_view_module": "@jupyter-widgets/base",
            "_view_module_version": "1.2.0",
            "_view_name": "LayoutView",
            "align_content": null,
            "align_items": null,
            "align_self": null,
            "border": null,
            "bottom": null,
            "display": null,
            "flex": null,
            "flex_flow": null,
            "grid_area": null,
            "grid_auto_columns": null,
            "grid_auto_flow": null,
            "grid_auto_rows": null,
            "grid_column": null,
            "grid_gap": null,
            "grid_row": null,
            "grid_template_areas": null,
            "grid_template_columns": null,
            "grid_template_rows": null,
            "height": null,
            "justify_content": null,
            "justify_items": null,
            "left": null,
            "margin": null,
            "max_height": null,
            "max_width": null,
            "min_height": null,
            "min_width": null,
            "object_fit": null,
            "object_position": null,
            "order": null,
            "overflow": null,
            "overflow_x": null,
            "overflow_y": null,
            "padding": null,
            "right": null,
            "top": null,
            "visibility": null,
            "width": null
          }
        },
        "3513d947c0a443ffadb6d9f76d91c613": {
          "model_module": "@jupyter-widgets/controls",
          "model_name": "DescriptionStyleModel",
          "model_module_version": "1.5.0",
          "state": {
            "_model_module": "@jupyter-widgets/controls",
            "_model_module_version": "1.5.0",
            "_model_name": "DescriptionStyleModel",
            "_view_count": null,
            "_view_module": "@jupyter-widgets/base",
            "_view_module_version": "1.2.0",
            "_view_name": "StyleView",
            "description_width": ""
          }
        },
        "5f1b87019a7742ffb8a9e42b43984456": {
          "model_module": "@jupyter-widgets/controls",
          "model_name": "HBoxModel",
          "model_module_version": "1.5.0",
          "state": {
            "_dom_classes": [],
            "_model_module": "@jupyter-widgets/controls",
            "_model_module_version": "1.5.0",
            "_model_name": "HBoxModel",
            "_view_count": null,
            "_view_module": "@jupyter-widgets/controls",
            "_view_module_version": "1.5.0",
            "_view_name": "HBoxView",
            "box_style": "",
            "children": [
              "IPY_MODEL_6c4090ee3c754f3a97320f165dea154f",
              "IPY_MODEL_c0906b431b2f453980d0ad1b451f3b52",
              "IPY_MODEL_b6045d4b433a46619af38ef5927b1d4a"
            ],
            "layout": "IPY_MODEL_3865952af39342129db92c187bbee8a4"
          }
        },
        "6c4090ee3c754f3a97320f165dea154f": {
          "model_module": "@jupyter-widgets/controls",
          "model_name": "HTMLModel",
          "model_module_version": "1.5.0",
          "state": {
            "_dom_classes": [],
            "_model_module": "@jupyter-widgets/controls",
            "_model_module_version": "1.5.0",
            "_model_name": "HTMLModel",
            "_view_count": null,
            "_view_module": "@jupyter-widgets/controls",
            "_view_module_version": "1.5.0",
            "_view_name": "HTMLView",
            "description": "",
            "description_tooltip": null,
            "layout": "IPY_MODEL_71c63c58c596466c9b45591f72ef2b02",
            "placeholder": "​",
            "style": "IPY_MODEL_e1537a00901e4ade8b7fceefa590b1f2",
            "value": "1_Pooling/config.json: 100%"
          }
        },
        "c0906b431b2f453980d0ad1b451f3b52": {
          "model_module": "@jupyter-widgets/controls",
          "model_name": "FloatProgressModel",
          "model_module_version": "1.5.0",
          "state": {
            "_dom_classes": [],
            "_model_module": "@jupyter-widgets/controls",
            "_model_module_version": "1.5.0",
            "_model_name": "FloatProgressModel",
            "_view_count": null,
            "_view_module": "@jupyter-widgets/controls",
            "_view_module_version": "1.5.0",
            "_view_name": "ProgressView",
            "bar_style": "success",
            "description": "",
            "description_tooltip": null,
            "layout": "IPY_MODEL_7ee690946fae47e484259f37d0aaf2bd",
            "max": 191,
            "min": 0,
            "orientation": "horizontal",
            "style": "IPY_MODEL_8bf2d2a621524e0fbc6659cfae98f562",
            "value": 191
          }
        },
        "b6045d4b433a46619af38ef5927b1d4a": {
          "model_module": "@jupyter-widgets/controls",
          "model_name": "HTMLModel",
          "model_module_version": "1.5.0",
          "state": {
            "_dom_classes": [],
            "_model_module": "@jupyter-widgets/controls",
            "_model_module_version": "1.5.0",
            "_model_name": "HTMLModel",
            "_view_count": null,
            "_view_module": "@jupyter-widgets/controls",
            "_view_module_version": "1.5.0",
            "_view_name": "HTMLView",
            "description": "",
            "description_tooltip": null,
            "layout": "IPY_MODEL_62f6f0d5f6e44560aed9530669a9e2b0",
            "placeholder": "​",
            "style": "IPY_MODEL_810b6d2a0e3144208b8e821db592fcbe",
            "value": " 191/191 [00:00&lt;00:00, 6.28kB/s]"
          }
        },
        "3865952af39342129db92c187bbee8a4": {
          "model_module": "@jupyter-widgets/base",
          "model_name": "LayoutModel",
          "model_module_version": "1.2.0",
          "state": {
            "_model_module": "@jupyter-widgets/base",
            "_model_module_version": "1.2.0",
            "_model_name": "LayoutModel",
            "_view_count": null,
            "_view_module": "@jupyter-widgets/base",
            "_view_module_version": "1.2.0",
            "_view_name": "LayoutView",
            "align_content": null,
            "align_items": null,
            "align_self": null,
            "border": null,
            "bottom": null,
            "display": null,
            "flex": null,
            "flex_flow": null,
            "grid_area": null,
            "grid_auto_columns": null,
            "grid_auto_flow": null,
            "grid_auto_rows": null,
            "grid_column": null,
            "grid_gap": null,
            "grid_row": null,
            "grid_template_areas": null,
            "grid_template_columns": null,
            "grid_template_rows": null,
            "height": null,
            "justify_content": null,
            "justify_items": null,
            "left": null,
            "margin": null,
            "max_height": null,
            "max_width": null,
            "min_height": null,
            "min_width": null,
            "object_fit": null,
            "object_position": null,
            "order": null,
            "overflow": null,
            "overflow_x": null,
            "overflow_y": null,
            "padding": null,
            "right": null,
            "top": null,
            "visibility": null,
            "width": null
          }
        },
        "71c63c58c596466c9b45591f72ef2b02": {
          "model_module": "@jupyter-widgets/base",
          "model_name": "LayoutModel",
          "model_module_version": "1.2.0",
          "state": {
            "_model_module": "@jupyter-widgets/base",
            "_model_module_version": "1.2.0",
            "_model_name": "LayoutModel",
            "_view_count": null,
            "_view_module": "@jupyter-widgets/base",
            "_view_module_version": "1.2.0",
            "_view_name": "LayoutView",
            "align_content": null,
            "align_items": null,
            "align_self": null,
            "border": null,
            "bottom": null,
            "display": null,
            "flex": null,
            "flex_flow": null,
            "grid_area": null,
            "grid_auto_columns": null,
            "grid_auto_flow": null,
            "grid_auto_rows": null,
            "grid_column": null,
            "grid_gap": null,
            "grid_row": null,
            "grid_template_areas": null,
            "grid_template_columns": null,
            "grid_template_rows": null,
            "height": null,
            "justify_content": null,
            "justify_items": null,
            "left": null,
            "margin": null,
            "max_height": null,
            "max_width": null,
            "min_height": null,
            "min_width": null,
            "object_fit": null,
            "object_position": null,
            "order": null,
            "overflow": null,
            "overflow_x": null,
            "overflow_y": null,
            "padding": null,
            "right": null,
            "top": null,
            "visibility": null,
            "width": null
          }
        },
        "e1537a00901e4ade8b7fceefa590b1f2": {
          "model_module": "@jupyter-widgets/controls",
          "model_name": "DescriptionStyleModel",
          "model_module_version": "1.5.0",
          "state": {
            "_model_module": "@jupyter-widgets/controls",
            "_model_module_version": "1.5.0",
            "_model_name": "DescriptionStyleModel",
            "_view_count": null,
            "_view_module": "@jupyter-widgets/base",
            "_view_module_version": "1.2.0",
            "_view_name": "StyleView",
            "description_width": ""
          }
        },
        "7ee690946fae47e484259f37d0aaf2bd": {
          "model_module": "@jupyter-widgets/base",
          "model_name": "LayoutModel",
          "model_module_version": "1.2.0",
          "state": {
            "_model_module": "@jupyter-widgets/base",
            "_model_module_version": "1.2.0",
            "_model_name": "LayoutModel",
            "_view_count": null,
            "_view_module": "@jupyter-widgets/base",
            "_view_module_version": "1.2.0",
            "_view_name": "LayoutView",
            "align_content": null,
            "align_items": null,
            "align_self": null,
            "border": null,
            "bottom": null,
            "display": null,
            "flex": null,
            "flex_flow": null,
            "grid_area": null,
            "grid_auto_columns": null,
            "grid_auto_flow": null,
            "grid_auto_rows": null,
            "grid_column": null,
            "grid_gap": null,
            "grid_row": null,
            "grid_template_areas": null,
            "grid_template_columns": null,
            "grid_template_rows": null,
            "height": null,
            "justify_content": null,
            "justify_items": null,
            "left": null,
            "margin": null,
            "max_height": null,
            "max_width": null,
            "min_height": null,
            "min_width": null,
            "object_fit": null,
            "object_position": null,
            "order": null,
            "overflow": null,
            "overflow_x": null,
            "overflow_y": null,
            "padding": null,
            "right": null,
            "top": null,
            "visibility": null,
            "width": null
          }
        },
        "8bf2d2a621524e0fbc6659cfae98f562": {
          "model_module": "@jupyter-widgets/controls",
          "model_name": "ProgressStyleModel",
          "model_module_version": "1.5.0",
          "state": {
            "_model_module": "@jupyter-widgets/controls",
            "_model_module_version": "1.5.0",
            "_model_name": "ProgressStyleModel",
            "_view_count": null,
            "_view_module": "@jupyter-widgets/base",
            "_view_module_version": "1.2.0",
            "_view_name": "StyleView",
            "bar_color": null,
            "description_width": ""
          }
        },
        "62f6f0d5f6e44560aed9530669a9e2b0": {
          "model_module": "@jupyter-widgets/base",
          "model_name": "LayoutModel",
          "model_module_version": "1.2.0",
          "state": {
            "_model_module": "@jupyter-widgets/base",
            "_model_module_version": "1.2.0",
            "_model_name": "LayoutModel",
            "_view_count": null,
            "_view_module": "@jupyter-widgets/base",
            "_view_module_version": "1.2.0",
            "_view_name": "LayoutView",
            "align_content": null,
            "align_items": null,
            "align_self": null,
            "border": null,
            "bottom": null,
            "display": null,
            "flex": null,
            "flex_flow": null,
            "grid_area": null,
            "grid_auto_columns": null,
            "grid_auto_flow": null,
            "grid_auto_rows": null,
            "grid_column": null,
            "grid_gap": null,
            "grid_row": null,
            "grid_template_areas": null,
            "grid_template_columns": null,
            "grid_template_rows": null,
            "height": null,
            "justify_content": null,
            "justify_items": null,
            "left": null,
            "margin": null,
            "max_height": null,
            "max_width": null,
            "min_height": null,
            "min_width": null,
            "object_fit": null,
            "object_position": null,
            "order": null,
            "overflow": null,
            "overflow_x": null,
            "overflow_y": null,
            "padding": null,
            "right": null,
            "top": null,
            "visibility": null,
            "width": null
          }
        },
        "810b6d2a0e3144208b8e821db592fcbe": {
          "model_module": "@jupyter-widgets/controls",
          "model_name": "DescriptionStyleModel",
          "model_module_version": "1.5.0",
          "state": {
            "_model_module": "@jupyter-widgets/controls",
            "_model_module_version": "1.5.0",
            "_model_name": "DescriptionStyleModel",
            "_view_count": null,
            "_view_module": "@jupyter-widgets/base",
            "_view_module_version": "1.2.0",
            "_view_name": "StyleView",
            "description_width": ""
          }
        }
      }
    }
  },
  "cells": [
    {
      "cell_type": "markdown",
      "source": [
        "# Large context with RAG-Fussion"
      ],
      "metadata": {
        "id": "yYxZ1ua1N7pi"
      }
    },
    {
      "cell_type": "markdown",
      "source": [
        "Why RAG-Fusion?\n",
        "\n",
        "Addressing Gaps: It tackles the constraints inherent in RAG by generating multiple user queries and reranking the results.\n",
        "Enhanced Search: Utilises Reciprocal Rank Fusion and custom vector score weighting for comprehensive, accurate results.\n",
        "RAG-Fusion aspires to bridge the gap between what users explicitly ask and what they intend to ask, inching closer to uncovering the transformative knowledge that typically remains hidden.\n",
        "By combining ranks from different queries, we increase the chances that the most relevant documents will appear at the top of the final lis"
      ],
      "metadata": {
        "id": "nhgqhNidM_He"
      }
    },
    {
      "cell_type": "markdown",
      "source": [
        "# ![Screenshot from 2024-04-22 17-46-36.png](data:image/png;base64,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)"
      ],
      "metadata": {
        "id": "4AbJxCtNBuJH"
      }
    },
    {
      "cell_type": "markdown",
      "source": [
        "# Install dependencies\n",
        "Activate T4 on google colab"
      ],
      "metadata": {
        "id": "CkX8xGEbOGci"
      }
    },
    {
      "cell_type": "code",
      "execution_count": null,
      "metadata": {
        "colab": {
          "base_uri": "https://localhost:8080/"
        },
        "id": "j4gphlzMmqMr",
        "outputId": "83924748-183c-4587-f3f7-06c470d90894"
      },
      "outputs": [
        {
          "output_type": "stream",
          "name": "stdout",
          "text": [
            "Collecting langchain\n",
            "  Downloading langchain-0.1.20-py3-none-any.whl (1.0 MB)\n",
            "\u001b[2K     \u001b[90m━━━━━━━━━━━━━━━━━━━━━━━━━━━━━━━━━━━━━━━━\u001b[0m \u001b[32m1.0/1.0 MB\u001b[0m \u001b[31m6.0 MB/s\u001b[0m eta \u001b[36m0:00:00\u001b[0m\n",
            "\u001b[?25hCollecting huggingface_hub==0.22.2\n",
            "  Downloading huggingface_hub-0.22.2-py3-none-any.whl (388 kB)\n",
            "\u001b[2K     \u001b[90m━━━━━━━━━━━━━━━━━━━━━━━━━━━━━━━━━━━━━━━━\u001b[0m \u001b[32m388.9/388.9 kB\u001b[0m \u001b[31m8.8 MB/s\u001b[0m eta \u001b[36m0:00:00\u001b[0m\n",
            "\u001b[?25hRequirement already satisfied: filelock in /usr/local/lib/python3.10/dist-packages (from huggingface_hub==0.22.2) (3.14.0)\n",
            "Requirement already satisfied: fsspec>=2023.5.0 in /usr/local/lib/python3.10/dist-packages (from huggingface_hub==0.22.2) (2023.6.0)\n",
            "Requirement already satisfied: packaging>=20.9 in /usr/local/lib/python3.10/dist-packages (from huggingface_hub==0.22.2) (24.0)\n",
            "Requirement already satisfied: pyyaml>=5.1 in /usr/local/lib/python3.10/dist-packages (from huggingface_hub==0.22.2) (6.0.1)\n",
            "Requirement already satisfied: requests in /usr/local/lib/python3.10/dist-packages (from huggingface_hub==0.22.2) (2.31.0)\n",
            "Requirement already satisfied: tqdm>=4.42.1 in /usr/local/lib/python3.10/dist-packages (from huggingface_hub==0.22.2) (4.66.4)\n",
            "Requirement already satisfied: typing-extensions>=3.7.4.3 in /usr/local/lib/python3.10/dist-packages (from huggingface_hub==0.22.2) (4.11.0)\n",
            "Requirement already satisfied: SQLAlchemy<3,>=1.4 in /usr/local/lib/python3.10/dist-packages (from langchain) (2.0.30)\n",
            "Requirement already satisfied: aiohttp<4.0.0,>=3.8.3 in /usr/local/lib/python3.10/dist-packages (from langchain) (3.9.5)\n",
            "Requirement already satisfied: async-timeout<5.0.0,>=4.0.0 in /usr/local/lib/python3.10/dist-packages (from langchain) (4.0.3)\n",
            "Collecting dataclasses-json<0.7,>=0.5.7 (from langchain)\n",
            "  Downloading dataclasses_json-0.6.6-py3-none-any.whl (28 kB)\n",
            "Collecting langchain-community<0.1,>=0.0.38 (from langchain)\n",
            "  Downloading langchain_community-0.0.38-py3-none-any.whl (2.0 MB)\n",
            "\u001b[2K     \u001b[90m━━━━━━━━━━━━━━━━━━━━━━━━━━━━━━━━━━━━━━━━\u001b[0m \u001b[32m2.0/2.0 MB\u001b[0m \u001b[31m12.9 MB/s\u001b[0m eta \u001b[36m0:00:00\u001b[0m\n",
            "\u001b[?25hCollecting langchain-core<0.2.0,>=0.1.52 (from langchain)\n",
            "  Downloading langchain_core-0.1.52-py3-none-any.whl (302 kB)\n",
            "\u001b[2K     \u001b[90m━━━━━━━━━━━━━━━━━━━━━━━━━━━━━━━━━━━━━━━━\u001b[0m \u001b[32m302.9/302.9 kB\u001b[0m \u001b[31m16.7 MB/s\u001b[0m eta \u001b[36m0:00:00\u001b[0m\n",
            "\u001b[?25hCollecting langchain-text-splitters<0.1,>=0.0.1 (from langchain)\n",
            "  Downloading langchain_text_splitters-0.0.2-py3-none-any.whl (23 kB)\n",
            "Collecting langsmith<0.2.0,>=0.1.17 (from langchain)\n",
            "  Downloading langsmith-0.1.59-py3-none-any.whl (121 kB)\n",
            "\u001b[2K     \u001b[90m━━━━━━━━━━━━━━━━━━━━━━━━━━━━━━━━━━━━━━━━\u001b[0m \u001b[32m121.2/121.2 kB\u001b[0m \u001b[31m14.8 MB/s\u001b[0m eta \u001b[36m0:00:00\u001b[0m\n",
            "\u001b[?25hRequirement already satisfied: numpy<2,>=1 in /usr/local/lib/python3.10/dist-packages (from langchain) (1.25.2)\n",
            "Requirement already satisfied: pydantic<3,>=1 in /usr/local/lib/python3.10/dist-packages (from langchain) (2.7.1)\n",
            "Requirement already satisfied: tenacity<9.0.0,>=8.1.0 in /usr/local/lib/python3.10/dist-packages (from langchain) (8.3.0)\n",
            "Requirement already satisfied: aiosignal>=1.1.2 in /usr/local/lib/python3.10/dist-packages (from aiohttp<4.0.0,>=3.8.3->langchain) (1.3.1)\n",
            "Requirement already satisfied: attrs>=17.3.0 in /usr/local/lib/python3.10/dist-packages (from aiohttp<4.0.0,>=3.8.3->langchain) (23.2.0)\n",
            "Requirement already satisfied: frozenlist>=1.1.1 in /usr/local/lib/python3.10/dist-packages (from aiohttp<4.0.0,>=3.8.3->langchain) (1.4.1)\n",
            "Requirement already satisfied: multidict<7.0,>=4.5 in /usr/local/lib/python3.10/dist-packages (from aiohttp<4.0.0,>=3.8.3->langchain) (6.0.5)\n",
            "Requirement already satisfied: yarl<2.0,>=1.0 in /usr/local/lib/python3.10/dist-packages (from aiohttp<4.0.0,>=3.8.3->langchain) (1.9.4)\n",
            "Collecting marshmallow<4.0.0,>=3.18.0 (from dataclasses-json<0.7,>=0.5.7->langchain)\n",
            "  Downloading marshmallow-3.21.2-py3-none-any.whl (49 kB)\n",
            "\u001b[2K     \u001b[90m━━━━━━━━━━━━━━━━━━━━━━━━━━━━━━━━━━━━━━━━\u001b[0m \u001b[32m49.3/49.3 kB\u001b[0m \u001b[31m6.6 MB/s\u001b[0m eta \u001b[36m0:00:00\u001b[0m\n",
            "\u001b[?25hCollecting typing-inspect<1,>=0.4.0 (from dataclasses-json<0.7,>=0.5.7->langchain)\n",
            "  Downloading typing_inspect-0.9.0-py3-none-any.whl (8.8 kB)\n",
            "Collecting jsonpatch<2.0,>=1.33 (from langchain-core<0.2.0,>=0.1.52->langchain)\n",
            "  Downloading jsonpatch-1.33-py2.py3-none-any.whl (12 kB)\n",
            "Collecting packaging>=20.9 (from huggingface_hub==0.22.2)\n",
            "  Downloading packaging-23.2-py3-none-any.whl (53 kB)\n",
            "\u001b[2K     \u001b[90m━━━━━━━━━━━━━━━━━━━━━━━━━━━━━━━━━━━━━━━━\u001b[0m \u001b[32m53.0/53.0 kB\u001b[0m \u001b[31m6.9 MB/s\u001b[0m eta \u001b[36m0:00:00\u001b[0m\n",
            "\u001b[?25hCollecting orjson<4.0.0,>=3.9.14 (from langsmith<0.2.0,>=0.1.17->langchain)\n",
            "  Downloading orjson-3.10.3-cp310-cp310-manylinux_2_17_x86_64.manylinux2014_x86_64.whl (142 kB)\n",
            "\u001b[2K     \u001b[90m━━━━━━━━━━━━━━━━━━━━━━━━━━━━━━━━━━━━━━━━\u001b[0m \u001b[32m142.5/142.5 kB\u001b[0m \u001b[31m16.3 MB/s\u001b[0m eta \u001b[36m0:00:00\u001b[0m\n",
            "\u001b[?25hRequirement already satisfied: annotated-types>=0.4.0 in /usr/local/lib/python3.10/dist-packages (from pydantic<3,>=1->langchain) (0.6.0)\n",
            "Requirement already satisfied: pydantic-core==2.18.2 in /usr/local/lib/python3.10/dist-packages (from pydantic<3,>=1->langchain) (2.18.2)\n",
            "Requirement already satisfied: charset-normalizer<4,>=2 in /usr/local/lib/python3.10/dist-packages (from requests->huggingface_hub==0.22.2) (3.3.2)\n",
            "Requirement already satisfied: idna<4,>=2.5 in /usr/local/lib/python3.10/dist-packages (from requests->huggingface_hub==0.22.2) (3.7)\n",
            "Requirement already satisfied: urllib3<3,>=1.21.1 in /usr/local/lib/python3.10/dist-packages (from requests->huggingface_hub==0.22.2) (2.0.7)\n",
            "Requirement already satisfied: certifi>=2017.4.17 in /usr/local/lib/python3.10/dist-packages (from requests->huggingface_hub==0.22.2) (2024.2.2)\n",
            "Requirement already satisfied: greenlet!=0.4.17 in /usr/local/lib/python3.10/dist-packages (from SQLAlchemy<3,>=1.4->langchain) (3.0.3)\n",
            "Collecting jsonpointer>=1.9 (from jsonpatch<2.0,>=1.33->langchain-core<0.2.0,>=0.1.52->langchain)\n",
            "  Downloading jsonpointer-2.4-py2.py3-none-any.whl (7.8 kB)\n",
            "Collecting mypy-extensions>=0.3.0 (from typing-inspect<1,>=0.4.0->dataclasses-json<0.7,>=0.5.7->langchain)\n",
            "  Downloading mypy_extensions-1.0.0-py3-none-any.whl (4.7 kB)\n",
            "Installing collected packages: packaging, orjson, mypy-extensions, jsonpointer, typing-inspect, marshmallow, jsonpatch, huggingface_hub, langsmith, dataclasses-json, langchain-core, langchain-text-splitters, langchain-community, langchain\n",
            "  Attempting uninstall: packaging\n",
            "    Found existing installation: packaging 24.0\n",
            "    Uninstalling packaging-24.0:\n",
            "      Successfully uninstalled packaging-24.0\n",
            "  Attempting uninstall: huggingface_hub\n",
            "    Found existing installation: huggingface-hub 0.20.3\n",
            "    Uninstalling huggingface-hub-0.20.3:\n",
            "      Successfully uninstalled huggingface-hub-0.20.3\n",
            "Successfully installed dataclasses-json-0.6.6 huggingface_hub-0.22.2 jsonpatch-1.33 jsonpointer-2.4 langchain-0.1.20 langchain-community-0.0.38 langchain-core-0.1.52 langchain-text-splitters-0.0.2 langsmith-0.1.59 marshmallow-3.21.2 mypy-extensions-1.0.0 orjson-3.10.3 packaging-23.2 typing-inspect-0.9.0\n"
          ]
        }
      ],
      "source": [
        "!pip  install langchain huggingface_hub==0.22.2"
      ]
    },
    {
      "cell_type": "code",
      "source": [
        "!pip  install unstructured==0.13.3"
      ],
      "metadata": {
        "colab": {
          "base_uri": "https://localhost:8080/"
        },
        "id": "CNkcEbTsOSOA",
        "outputId": "cf814e9d-f8a9-47db-b242-405ec71ec6aa"
      },
      "execution_count": null,
      "outputs": [
        {
          "output_type": "stream",
          "name": "stdout",
          "text": [
            "Collecting unstructured==0.13.3\n",
            "  Downloading unstructured-0.13.3-py3-none-any.whl (1.9 MB)\n",
            "\u001b[2K     \u001b[90m━━━━━━━━━━━━━━━━━━━━━━━━━━━━━━━━━━━━━━━━\u001b[0m \u001b[32m1.9/1.9 MB\u001b[0m \u001b[31m29.0 MB/s\u001b[0m eta \u001b[36m0:00:00\u001b[0m\n",
            "\u001b[?25hRequirement already satisfied: chardet in /usr/local/lib/python3.10/dist-packages (from unstructured==0.13.3) (5.2.0)\n",
            "Collecting filetype (from unstructured==0.13.3)\n",
            "  Downloading filetype-1.2.0-py2.py3-none-any.whl (19 kB)\n",
            "Collecting python-magic (from unstructured==0.13.3)\n",
            "  Downloading python_magic-0.4.27-py2.py3-none-any.whl (13 kB)\n",
            "Requirement already satisfied: lxml in /usr/local/lib/python3.10/dist-packages (from unstructured==0.13.3) (4.9.4)\n",
            "Requirement already satisfied: nltk in /usr/local/lib/python3.10/dist-packages (from unstructured==0.13.3) (3.8.1)\n",
            "Requirement already satisfied: tabulate in /usr/local/lib/python3.10/dist-packages (from unstructured==0.13.3) (0.9.0)\n",
            "Requirement already satisfied: requests in /usr/local/lib/python3.10/dist-packages (from unstructured==0.13.3) (2.31.0)\n",
            "Requirement already satisfied: beautifulsoup4 in /usr/local/lib/python3.10/dist-packages (from unstructured==0.13.3) (4.12.3)\n",
            "Collecting emoji (from unstructured==0.13.3)\n",
            "  Downloading emoji-2.11.1-py2.py3-none-any.whl (433 kB)\n",
            "\u001b[2K     \u001b[90m━━━━━━━━━━━━━━━━━━━━━━━━━━━━━━━━━━━━━━━━\u001b[0m \u001b[32m433.8/433.8 kB\u001b[0m \u001b[31m38.3 MB/s\u001b[0m eta \u001b[36m0:00:00\u001b[0m\n",
            "\u001b[?25hRequirement already satisfied: dataclasses-json in /usr/local/lib/python3.10/dist-packages (from unstructured==0.13.3) (0.6.4)\n",
            "Collecting python-iso639 (from unstructured==0.13.3)\n",
            "  Downloading python_iso639-2024.2.7-py3-none-any.whl (274 kB)\n",
            "\u001b[2K     \u001b[90m━━━━━━━━━━━━━━━━━━━━━━━━━━━━━━━━━━━━━━━━\u001b[0m \u001b[32m274.7/274.7 kB\u001b[0m \u001b[31m40.9 MB/s\u001b[0m eta \u001b[36m0:00:00\u001b[0m\n",
            "\u001b[?25hCollecting langdetect (from unstructured==0.13.3)\n",
            "  Downloading langdetect-1.0.9.tar.gz (981 kB)\n",
            "\u001b[2K     \u001b[90m━━━━━━━━━━━━━━━━━━━━━━━━━━━━━━━━━━━━━━━━\u001b[0m \u001b[32m981.5/981.5 kB\u001b[0m \u001b[31m72.7 MB/s\u001b[0m eta \u001b[36m0:00:00\u001b[0m\n",
            "\u001b[?25h  Preparing metadata (setup.py) ... \u001b[?25l\u001b[?25hdone\n",
            "Requirement already satisfied: numpy in /usr/local/lib/python3.10/dist-packages (from unstructured==0.13.3) (1.25.2)\n",
            "Collecting rapidfuzz (from unstructured==0.13.3)\n",
            "  Downloading rapidfuzz-3.8.1-cp310-cp310-manylinux_2_17_x86_64.manylinux2014_x86_64.whl (3.4 MB)\n",
            "\u001b[2K     \u001b[90m━━━━━━━━━━━━━━━━━━━━━━━━━━━━━━━━━━━━━━━━\u001b[0m \u001b[32m3.4/3.4 MB\u001b[0m \u001b[31m70.1 MB/s\u001b[0m eta \u001b[36m0:00:00\u001b[0m\n",
            "\u001b[?25hCollecting backoff (from unstructured==0.13.3)\n",
            "  Downloading backoff-2.2.1-py3-none-any.whl (15 kB)\n",
            "Requirement already satisfied: typing-extensions in /usr/local/lib/python3.10/dist-packages (from unstructured==0.13.3) (4.11.0)\n",
            "Collecting unstructured-client (from unstructured==0.13.3)\n",
            "  Downloading unstructured_client-0.22.0-py3-none-any.whl (28 kB)\n",
            "Requirement already satisfied: wrapt in /usr/local/lib/python3.10/dist-packages (from unstructured==0.13.3) (1.14.1)\n",
            "Requirement already satisfied: soupsieve>1.2 in /usr/local/lib/python3.10/dist-packages (from beautifulsoup4->unstructured==0.13.3) (2.5)\n",
            "Requirement already satisfied: marshmallow<4.0.0,>=3.18.0 in /usr/local/lib/python3.10/dist-packages (from dataclasses-json->unstructured==0.13.3) (3.21.1)\n",
            "Requirement already satisfied: typing-inspect<1,>=0.4.0 in /usr/local/lib/python3.10/dist-packages (from dataclasses-json->unstructured==0.13.3) (0.9.0)\n",
            "Requirement already satisfied: six in /usr/local/lib/python3.10/dist-packages (from langdetect->unstructured==0.13.3) (1.16.0)\n",
            "Requirement already satisfied: click in /usr/local/lib/python3.10/dist-packages (from nltk->unstructured==0.13.3) (8.1.7)\n",
            "Requirement already satisfied: joblib in /usr/local/lib/python3.10/dist-packages (from nltk->unstructured==0.13.3) (1.4.0)\n",
            "Requirement already satisfied: regex>=2021.8.3 in /usr/local/lib/python3.10/dist-packages (from nltk->unstructured==0.13.3) (2023.12.25)\n",
            "Requirement already satisfied: tqdm in /usr/local/lib/python3.10/dist-packages (from nltk->unstructured==0.13.3) (4.66.2)\n",
            "Requirement already satisfied: charset-normalizer<4,>=2 in /usr/local/lib/python3.10/dist-packages (from requests->unstructured==0.13.3) (3.3.2)\n",
            "Requirement already satisfied: idna<4,>=2.5 in /usr/local/lib/python3.10/dist-packages (from requests->unstructured==0.13.3) (3.7)\n",
            "Requirement already satisfied: urllib3<3,>=1.21.1 in /usr/local/lib/python3.10/dist-packages (from requests->unstructured==0.13.3) (2.0.7)\n",
            "Requirement already satisfied: certifi>=2017.4.17 in /usr/local/lib/python3.10/dist-packages (from requests->unstructured==0.13.3) (2024.2.2)\n",
            "Collecting deepdiff>=6.0 (from unstructured-client->unstructured==0.13.3)\n",
            "  Downloading deepdiff-7.0.1-py3-none-any.whl (80 kB)\n",
            "\u001b[2K     \u001b[90m━━━━━━━━━━━━━━━━━━━━━━━━━━━━━━━━━━━━━━━━\u001b[0m \u001b[32m80.8/80.8 kB\u001b[0m \u001b[31m12.7 MB/s\u001b[0m eta \u001b[36m0:00:00\u001b[0m\n",
            "\u001b[?25hCollecting jsonpath-python>=1.0.6 (from unstructured-client->unstructured==0.13.3)\n",
            "  Downloading jsonpath_python-1.0.6-py3-none-any.whl (7.6 kB)\n",
            "Requirement already satisfied: mypy-extensions>=1.0.0 in /usr/local/lib/python3.10/dist-packages (from unstructured-client->unstructured==0.13.3) (1.0.0)\n",
            "Requirement already satisfied: packaging>=23.1 in /usr/local/lib/python3.10/dist-packages (from unstructured-client->unstructured==0.13.3) (23.2)\n",
            "Collecting pypdf>=4.0 (from unstructured-client->unstructured==0.13.3)\n",
            "  Downloading pypdf-4.2.0-py3-none-any.whl (290 kB)\n",
            "\u001b[2K     \u001b[90m━━━━━━━━━━━━━━━━━━━━━━━━━━━━━━━━━━━━━━━━\u001b[0m \u001b[32m290.4/290.4 kB\u001b[0m \u001b[31m40.5 MB/s\u001b[0m eta \u001b[36m0:00:00\u001b[0m\n",
            "\u001b[?25hRequirement already satisfied: python-dateutil>=2.8.2 in /usr/local/lib/python3.10/dist-packages (from unstructured-client->unstructured==0.13.3) (2.8.2)\n",
            "Collecting ordered-set<4.2.0,>=4.1.0 (from deepdiff>=6.0->unstructured-client->unstructured==0.13.3)\n",
            "  Downloading ordered_set-4.1.0-py3-none-any.whl (7.6 kB)\n",
            "Building wheels for collected packages: langdetect\n",
            "  Building wheel for langdetect (setup.py) ... \u001b[?25l\u001b[?25hdone\n",
            "  Created wheel for langdetect: filename=langdetect-1.0.9-py3-none-any.whl size=993227 sha256=9d5a5424fe3966f18b615365094bab5264ca358bb357d958a1034eda88d50210\n",
            "  Stored in directory: /root/.cache/pip/wheels/95/03/7d/59ea870c70ce4e5a370638b5462a7711ab78fba2f655d05106\n",
            "Successfully built langdetect\n",
            "Installing collected packages: filetype, rapidfuzz, python-magic, python-iso639, pypdf, ordered-set, langdetect, jsonpath-python, emoji, backoff, deepdiff, unstructured-client, unstructured\n",
            "Successfully installed backoff-2.2.1 deepdiff-7.0.1 emoji-2.11.1 filetype-1.2.0 jsonpath-python-1.0.6 langdetect-1.0.9 ordered-set-4.1.0 pypdf-4.2.0 python-iso639-2024.2.7 python-magic-0.4.27 rapidfuzz-3.8.1 unstructured-0.13.3 unstructured-client-0.22.0\n"
          ]
        }
      ]
    },
    {
      "cell_type": "code",
      "source": [
        "!pip  install sentence_transformers==2.7.0"
      ],
      "metadata": {
        "colab": {
          "base_uri": "https://localhost:8080/"
        },
        "id": "6hPTD0nYOX1W",
        "outputId": "00195c61-79f0-441a-c310-11fadc8e65db"
      },
      "execution_count": null,
      "outputs": [
        {
          "output_type": "stream",
          "name": "stdout",
          "text": [
            "Collecting sentence_transformers==2.7.0\n",
            "  Downloading sentence_transformers-2.7.0-py3-none-any.whl (171 kB)\n",
            "\u001b[2K     \u001b[90m━━━━━━━━━━━━━━━━━━━━━━━━━━━━━━━━━━━━━━━━\u001b[0m \u001b[32m171.5/171.5 kB\u001b[0m \u001b[31m3.6 MB/s\u001b[0m eta \u001b[36m0:00:00\u001b[0m\n",
            "\u001b[?25hRequirement already satisfied: transformers<5.0.0,>=4.34.0 in /usr/local/lib/python3.10/dist-packages (from sentence_transformers==2.7.0) (4.40.2)\n",
            "Requirement already satisfied: tqdm in /usr/local/lib/python3.10/dist-packages (from sentence_transformers==2.7.0) (4.66.4)\n",
            "Requirement already satisfied: torch>=1.11.0 in /usr/local/lib/python3.10/dist-packages (from sentence_transformers==2.7.0) (2.2.1+cu121)\n",
            "Requirement already satisfied: numpy in /usr/local/lib/python3.10/dist-packages (from sentence_transformers==2.7.0) (1.25.2)\n",
            "Requirement already satisfied: scikit-learn in /usr/local/lib/python3.10/dist-packages (from sentence_transformers==2.7.0) (1.2.2)\n",
            "Requirement already satisfied: scipy in /usr/local/lib/python3.10/dist-packages (from sentence_transformers==2.7.0) (1.11.4)\n",
            "Requirement already satisfied: huggingface-hub>=0.15.1 in /usr/local/lib/python3.10/dist-packages (from sentence_transformers==2.7.0) (0.22.2)\n",
            "Requirement already satisfied: Pillow in /usr/local/lib/python3.10/dist-packages (from sentence_transformers==2.7.0) (9.4.0)\n",
            "Requirement already satisfied: filelock in /usr/local/lib/python3.10/dist-packages (from huggingface-hub>=0.15.1->sentence_transformers==2.7.0) (3.14.0)\n",
            "Requirement already satisfied: fsspec>=2023.5.0 in /usr/local/lib/python3.10/dist-packages (from huggingface-hub>=0.15.1->sentence_transformers==2.7.0) (2023.6.0)\n",
            "Requirement already satisfied: packaging>=20.9 in /usr/local/lib/python3.10/dist-packages (from huggingface-hub>=0.15.1->sentence_transformers==2.7.0) (23.2)\n",
            "Requirement already satisfied: pyyaml>=5.1 in /usr/local/lib/python3.10/dist-packages (from huggingface-hub>=0.15.1->sentence_transformers==2.7.0) (6.0.1)\n",
            "Requirement already satisfied: requests in /usr/local/lib/python3.10/dist-packages (from huggingface-hub>=0.15.1->sentence_transformers==2.7.0) (2.31.0)\n",
            "Requirement already satisfied: typing-extensions>=3.7.4.3 in /usr/local/lib/python3.10/dist-packages (from huggingface-hub>=0.15.1->sentence_transformers==2.7.0) (4.11.0)\n",
            "Requirement already satisfied: sympy in /usr/local/lib/python3.10/dist-packages (from torch>=1.11.0->sentence_transformers==2.7.0) (1.12)\n",
            "Requirement already satisfied: networkx in /usr/local/lib/python3.10/dist-packages (from torch>=1.11.0->sentence_transformers==2.7.0) (3.3)\n",
            "Requirement already satisfied: jinja2 in /usr/local/lib/python3.10/dist-packages (from torch>=1.11.0->sentence_transformers==2.7.0) (3.1.4)\n",
            "Collecting nvidia-cuda-nvrtc-cu12==12.1.105 (from torch>=1.11.0->sentence_transformers==2.7.0)\n",
            "  Using cached nvidia_cuda_nvrtc_cu12-12.1.105-py3-none-manylinux1_x86_64.whl (23.7 MB)\n",
            "Collecting nvidia-cuda-runtime-cu12==12.1.105 (from torch>=1.11.0->sentence_transformers==2.7.0)\n",
            "  Using cached nvidia_cuda_runtime_cu12-12.1.105-py3-none-manylinux1_x86_64.whl (823 kB)\n",
            "Collecting nvidia-cuda-cupti-cu12==12.1.105 (from torch>=1.11.0->sentence_transformers==2.7.0)\n",
            "  Using cached nvidia_cuda_cupti_cu12-12.1.105-py3-none-manylinux1_x86_64.whl (14.1 MB)\n",
            "Collecting nvidia-cudnn-cu12==8.9.2.26 (from torch>=1.11.0->sentence_transformers==2.7.0)\n",
            "  Using cached nvidia_cudnn_cu12-8.9.2.26-py3-none-manylinux1_x86_64.whl (731.7 MB)\n",
            "Collecting nvidia-cublas-cu12==12.1.3.1 (from torch>=1.11.0->sentence_transformers==2.7.0)\n",
            "  Using cached nvidia_cublas_cu12-12.1.3.1-py3-none-manylinux1_x86_64.whl (410.6 MB)\n",
            "Collecting nvidia-cufft-cu12==11.0.2.54 (from torch>=1.11.0->sentence_transformers==2.7.0)\n",
            "  Using cached nvidia_cufft_cu12-11.0.2.54-py3-none-manylinux1_x86_64.whl (121.6 MB)\n",
            "Collecting nvidia-curand-cu12==10.3.2.106 (from torch>=1.11.0->sentence_transformers==2.7.0)\n",
            "  Using cached nvidia_curand_cu12-10.3.2.106-py3-none-manylinux1_x86_64.whl (56.5 MB)\n",
            "Collecting nvidia-cusolver-cu12==11.4.5.107 (from torch>=1.11.0->sentence_transformers==2.7.0)\n",
            "  Using cached nvidia_cusolver_cu12-11.4.5.107-py3-none-manylinux1_x86_64.whl (124.2 MB)\n",
            "Collecting nvidia-cusparse-cu12==12.1.0.106 (from torch>=1.11.0->sentence_transformers==2.7.0)\n",
            "  Using cached nvidia_cusparse_cu12-12.1.0.106-py3-none-manylinux1_x86_64.whl (196.0 MB)\n",
            "Collecting nvidia-nccl-cu12==2.19.3 (from torch>=1.11.0->sentence_transformers==2.7.0)\n",
            "  Using cached nvidia_nccl_cu12-2.19.3-py3-none-manylinux1_x86_64.whl (166.0 MB)\n",
            "Collecting nvidia-nvtx-cu12==12.1.105 (from torch>=1.11.0->sentence_transformers==2.7.0)\n",
            "  Using cached nvidia_nvtx_cu12-12.1.105-py3-none-manylinux1_x86_64.whl (99 kB)\n",
            "Requirement already satisfied: triton==2.2.0 in /usr/local/lib/python3.10/dist-packages (from torch>=1.11.0->sentence_transformers==2.7.0) (2.2.0)\n",
            "Collecting nvidia-nvjitlink-cu12 (from nvidia-cusolver-cu12==11.4.5.107->torch>=1.11.0->sentence_transformers==2.7.0)\n",
            "  Using cached nvidia_nvjitlink_cu12-12.4.127-py3-none-manylinux2014_x86_64.whl (21.1 MB)\n",
            "Requirement already satisfied: regex!=2019.12.17 in /usr/local/lib/python3.10/dist-packages (from transformers<5.0.0,>=4.34.0->sentence_transformers==2.7.0) (2023.12.25)\n",
            "Requirement already satisfied: tokenizers<0.20,>=0.19 in /usr/local/lib/python3.10/dist-packages (from transformers<5.0.0,>=4.34.0->sentence_transformers==2.7.0) (0.19.1)\n",
            "Requirement already satisfied: safetensors>=0.4.1 in /usr/local/lib/python3.10/dist-packages (from transformers<5.0.0,>=4.34.0->sentence_transformers==2.7.0) (0.4.3)\n",
            "Requirement already satisfied: joblib>=1.1.1 in /usr/local/lib/python3.10/dist-packages (from scikit-learn->sentence_transformers==2.7.0) (1.4.2)\n",
            "Requirement already satisfied: threadpoolctl>=2.0.0 in /usr/local/lib/python3.10/dist-packages (from scikit-learn->sentence_transformers==2.7.0) (3.5.0)\n",
            "Requirement already satisfied: MarkupSafe>=2.0 in /usr/local/lib/python3.10/dist-packages (from jinja2->torch>=1.11.0->sentence_transformers==2.7.0) (2.1.5)\n",
            "Requirement already satisfied: charset-normalizer<4,>=2 in /usr/local/lib/python3.10/dist-packages (from requests->huggingface-hub>=0.15.1->sentence_transformers==2.7.0) (3.3.2)\n",
            "Requirement already satisfied: idna<4,>=2.5 in /usr/local/lib/python3.10/dist-packages (from requests->huggingface-hub>=0.15.1->sentence_transformers==2.7.0) (3.7)\n",
            "Requirement already satisfied: urllib3<3,>=1.21.1 in /usr/local/lib/python3.10/dist-packages (from requests->huggingface-hub>=0.15.1->sentence_transformers==2.7.0) (2.0.7)\n",
            "Requirement already satisfied: certifi>=2017.4.17 in /usr/local/lib/python3.10/dist-packages (from requests->huggingface-hub>=0.15.1->sentence_transformers==2.7.0) (2024.2.2)\n",
            "Requirement already satisfied: mpmath>=0.19 in /usr/local/lib/python3.10/dist-packages (from sympy->torch>=1.11.0->sentence_transformers==2.7.0) (1.3.0)\n",
            "Installing collected packages: nvidia-nvtx-cu12, nvidia-nvjitlink-cu12, nvidia-nccl-cu12, nvidia-curand-cu12, nvidia-cufft-cu12, nvidia-cuda-runtime-cu12, nvidia-cuda-nvrtc-cu12, nvidia-cuda-cupti-cu12, nvidia-cublas-cu12, nvidia-cusparse-cu12, nvidia-cudnn-cu12, nvidia-cusolver-cu12, sentence_transformers\n",
            "Successfully installed nvidia-cublas-cu12-12.1.3.1 nvidia-cuda-cupti-cu12-12.1.105 nvidia-cuda-nvrtc-cu12-12.1.105 nvidia-cuda-runtime-cu12-12.1.105 nvidia-cudnn-cu12-8.9.2.26 nvidia-cufft-cu12-11.0.2.54 nvidia-curand-cu12-10.3.2.106 nvidia-cusolver-cu12-11.4.5.107 nvidia-cusparse-cu12-12.1.0.106 nvidia-nccl-cu12-2.19.3 nvidia-nvjitlink-cu12-12.4.127 nvidia-nvtx-cu12-12.1.105 sentence_transformers-2.7.0\n"
          ]
        }
      ]
    },
    {
      "cell_type": "code",
      "source": [
        "!pip install faiss-gpu==1.7.2"
      ],
      "metadata": {
        "colab": {
          "base_uri": "https://localhost:8080/"
        },
        "id": "7pEo8Twd0vTP",
        "outputId": "713332c2-149a-43f1-fa3c-6ba63364cd27"
      },
      "execution_count": null,
      "outputs": [
        {
          "output_type": "stream",
          "name": "stdout",
          "text": [
            "Collecting faiss-gpu==1.7.2\n",
            "  Downloading faiss_gpu-1.7.2-cp310-cp310-manylinux_2_17_x86_64.manylinux2014_x86_64.whl (85.5 MB)\n",
            "\u001b[2K     \u001b[90m━━━━━━━━━━━━━━━━━━━━━━━━━━━━━━━━━━━━━━━━\u001b[0m \u001b[32m85.5/85.5 MB\u001b[0m \u001b[31m8.1 MB/s\u001b[0m eta \u001b[36m0:00:00\u001b[0m\n",
            "\u001b[?25hInstalling collected packages: faiss-gpu\n",
            "Successfully installed faiss-gpu-1.7.2\n"
          ]
        }
      ]
    },
    {
      "cell_type": "code",
      "source": [
        "#!pip install --upgrade huggingface_hub\n",
        "\n"
      ],
      "metadata": {
        "id": "mqjpjRTH-Cqi"
      },
      "execution_count": null,
      "outputs": []
    },
    {
      "cell_type": "markdown",
      "source": [
        "# Load model and embeddings"
      ],
      "metadata": {
        "id": "dHCjVbE3OvBx"
      }
    },
    {
      "cell_type": "markdown",
      "source": [
        "Important Note: Go to hugging-face and accept terms and conditions for the model: mistralai/Mixtral-8x7B-Instruct-v0.1"
      ],
      "metadata": {
        "id": "nlumA4GFYplT"
      }
    },
    {
      "cell_type": "code",
      "source": [
        "from langchain.llms import HuggingFaceHub\n",
        "import os\n",
        "os.environ['HUGGINGFACEHUB_API_TOKEN'] = \"XXXXXXXXXX\"\n",
        "\n",
        "#repo_id =\"llmware/bling-sheared-llama-1.3b-0.1\"\n",
        "#repo_id =  \"mistralai/Mistral-7B-Instruct-v0.2\"\n",
        "repo_id = \"mistralai/Mixtral-8x7B-Instruct-v0.1\"\n",
        "llm = HuggingFaceHub(repo_id=repo_id,\n",
        "                     model_kwargs={\"temperature\":0.1,\"max_new_tokens\":1000})"
      ],
      "metadata": {
        "id": "r8BYPljem5rS",
        "colab": {
          "base_uri": "https://localhost:8080/"
        },
        "outputId": "de4f3dfa-624d-41e7-b8b2-a581220ef19d"
      },
      "execution_count": null,
      "outputs": [
        {
          "output_type": "stream",
          "name": "stderr",
          "text": [
            "/usr/local/lib/python3.10/dist-packages/langchain_core/_api/deprecation.py:119: LangChainDeprecationWarning: The class `HuggingFaceHub` was deprecated in LangChain 0.0.21 and will be removed in 0.2.0. Use HuggingFaceEndpoint instead.\n",
            "  warn_deprecated(\n"
          ]
        }
      ]
    },
    {
      "cell_type": "code",
      "source": [
        "from langchain.embeddings import HuggingFaceBgeEmbeddings\n",
        "\n",
        "#model_name = \"BAAI/bge-small-en-v1.5\"\n",
        "model_name = \"BAAI/bge-m3\"\n",
        "encode_kwargs = {'normalize_embeddings': True} # set True to compute cosine similarity\n",
        "\n",
        "#embeddings = HuggingFaceBgeEmbeddings(\n",
        "#    model_name=model_name,\n",
        "#    model_kwargs={'device': 'cuda'},\n",
        "#    encode_kwargs=encode_kwargs,\n",
        "#\n",
        "#)\n",
        "\n",
        "#model_kwargs = {\"device\": \"cuda\"}\n",
        "#encode_kwargs = {\"normalize_embeddings\": True}\n",
        "#embeddings = HuggingFaceBgeEmbeddings(\n",
        "#      model_name=model_name, model_kwargs=model_kwargs, encode_kwargs=encode_kwargs)\n",
        "embeddings = HuggingFaceBgeEmbeddings(\n",
        "      model_name=model_name, encode_kwargs=encode_kwargs)"
      ],
      "metadata": {
        "colab": {
          "base_uri": "https://localhost:8080/",
          "height": 497,
          "referenced_widgets": [
            "64907dd8c42d470a8df114ea17a1fdf3",
            "06c25cbd3c0e4350accad58921efcb97",
            "09dc354c7e684d6e931034ba93f4f0e6",
            "076ceda8798544a1bf9e4b53ffff05d8",
            "195ee199bc4e42b792fc3804ae116613",
            "691066fd7b7b4df18deb90888535e658",
            "fa41939285574ce59a8eeb697ed623ef",
            "f3a3986dcdaa444d8d4c461c04335d72",
            "1ce9f5ae6a0c43a1927cc27459433154",
            "091e52e5560745ccb9b7b0afe8b5e62e",
            "f4c6c45a40234b8bade06b2a517f9e44",
            "a17885bd9c144dc4b0fbe83994d1379e",
            "e128b7086ee74d758253affa7483f91c",
            "4096c079db6e435995e39833a389e85f",
            "2fd002de9dca430aa6360875846e2aff",
            "e4ec81a84c034afdaf2fd7371e657727",
            "9e6547f7939c4bdfac801f63bd7e78ae",
            "374e23b10b8a4ba4bca992dfc189b9ac",
            "b755e590c86342a4913143a757586aab",
            "61ca347fc32d403997127c10a3620efc",
            "34cfb7e475d54125a23352afa9c6ab04",
            "92afc3bc7970412cb4d71129eedcdf51",
            "dedc88e66cd24455b4ecfb597dd51464",
            "6f2c8273643f4614bdddbab560f6ec50",
            "18140ea15a7545178119c1691fe85a22",
            "10008b9addd3455abec51c59becc2962",
            "2ff83fdacfc445409baf8951b74f7dfd",
            "b02b9d81f79a473e9a3b9278df26f45a",
            "91c1688f3a664c75b047d8a0edba77ff",
            "e95cd662fcc74d6691d4d7c9b4d1abb1",
            "3079bef87768413f84e41b46aeb77564",
            "a7ca8cb5b6a249ada98a2b8b4dda67b1",
            "7f0b2c5655c84739b80c4b42b02e2645",
            "100799088d4245fc9bf7a72e796900c5",
            "519aa34bd74a4a7898e37d6272e67d65",
            "2506b32ab7c243a892ffdd0d5decdb5b",
            "66e8bc3ab4cd4b1bb86f05b74686701f",
            "ae6241d42acc48c5b5ae36c5e9f695b7",
            "0552715500e942d08fe5159fa6b83664",
            "f21662fcf4ed4ee6994978ffdb77337a",
            "8b77f7854f254d9eafa654ca4b835a8f",
            "9b81846db78a4377a5c393aa7c2990a8",
            "5b0c4209dc5e409aad2d43462c171992",
            "e6217cb5a06f45f792522a2cf4443683",
            "530267c910f1465f9ac769599957e0b3",
            "4d736861284a47efa61c080ffa8c8bac",
            "7481f3a708b841d288d7a394b124fd6e",
            "852ceda1039e42598b59ab9cb526a1f8",
            "80cd1cc8a6ec49c8ba622043f8a58817",
            "136e473c67ba4248b1e4b48cdc0a68e3",
            "e9ab0214d5ee42f8815a3d9922a3e16a",
            "b43a62c250924c9187167ee698a19003",
            "dadf6cd54e6e42b8833b72bb894fa4c7",
            "d2daf961860e407aa303ca2fe54ddbbc",
            "e405576cb9bf4b07b1a04851b9f031ad",
            "fe425336af624c999d88928801a050e5",
            "003230db04a848deb4c900346b85f31e",
            "86b880c14cfe4d8f81ae47b14f83fac4",
            "595cf71892034c8e9ee45981e69e93be",
            "dc0da012385c47febbfbd8556ffe982a",
            "ccdd3fd0cf0c4d5997fbcc0cb17a5fac",
            "89804d379537487a83bbc82ae0647a6c",
            "0e042cfa7d40426f8de36f1b271da842",
            "02d793d7cb5a4fc590dce2204a501c36",
            "2e4cda735b164596a49416e01f981853",
            "d8fae1deda124bd5a8abf455e3257c1b",
            "bc8013517454414d8c25f4ab2350cde1",
            "b50489a8eb564179978e4617ddd8e0ab",
            "5b07cca18315440bac1bd54066c32246",
            "45c9ce3b723a45c595c5063d9b8e3198",
            "5236c84a12f14643af12ffc21b34f749",
            "017017eaad2f4abf89442913dd8322eb",
            "216ca4f3285a476ea93ace43f246abae",
            "543ad07fea3a4e64b06beda32746655e",
            "e154cd2a2f554c39b24192be1efe4518",
            "b28209a8264848409a9f03a683c3f799",
            "4e1921e1a2f64e83beb8114811bc72de",
            "647a71e030d447b2be1f8b9c3b8d9111",
            "100ed274387a45568298114ce32db0d8",
            "dffae229bf5747b493d1e625fec20bd1",
            "50596e24fe244b578dce5f7a9e112618",
            "468f7672bc164bef8d05a80f05567256",
            "0ffeaab1cf7445bb89b2c8cb15668de0",
            "b557f2054aa54424bd515d45d51994ba",
            "3ac12af6a1b74e3e9d89373615830b31",
            "d8456576cb71457ebec184acb4a4155a",
            "7f544ca2b185484fa1abff936aceba00",
            "0b7f19cd84d34cea84a25219c8504b4f",
            "c1a2513f8edf49c28cded97e51c45bd7",
            "0eaa7e3c0123450d9db4ee96e5f93fd3",
            "3c900842b28d4098a36ed6fa7f4bd7b2",
            "a9645815e3554805b41bba79b46ef920",
            "eede0bfdcad4421eae6a60f57ff22a8d",
            "e0c6c341e4ba41cbb5c51100d4c99bb2",
            "5f5ea23217484b12980a222bdc850d37",
            "e07995a6358c447293b37d88f9e0ec2b",
            "209e5fbe49d042d2bf0d268c5273e988",
            "0ef5ba84eba241ac832453164b58fb05",
            "04ee19bc8ec64599a938872ea3744377",
            "39dae583da014b9681cfc3b6ab25c2bb",
            "834c1dd515d54941bb6f3a7ac4c484ae",
            "93a45465f7ae4bf892457761171d818c",
            "7f1525dd0a7f4d398bad39a885a1a8a9",
            "224beab10d954ed3b75d4e37d0da9ef6",
            "f6df06c203cb4147a4134842d7457b45",
            "16a0965c5e654652bbad70fd85a1f388",
            "f349b31852fa4b03bd7dbb3ca815cc58",
            "097d5e647b3e4e8484d137c20e950abe",
            "943730f59e9f497b8f8cb5cd01ac5e30",
            "3513d947c0a443ffadb6d9f76d91c613",
            "5f1b87019a7742ffb8a9e42b43984456",
            "6c4090ee3c754f3a97320f165dea154f",
            "c0906b431b2f453980d0ad1b451f3b52",
            "b6045d4b433a46619af38ef5927b1d4a",
            "3865952af39342129db92c187bbee8a4",
            "71c63c58c596466c9b45591f72ef2b02",
            "e1537a00901e4ade8b7fceefa590b1f2",
            "7ee690946fae47e484259f37d0aaf2bd",
            "8bf2d2a621524e0fbc6659cfae98f562",
            "62f6f0d5f6e44560aed9530669a9e2b0",
            "810b6d2a0e3144208b8e821db592fcbe"
          ]
        },
        "id": "fcoA-tEdn5BB",
        "outputId": "197763e8-78b5-4b0e-cebb-1c1ad4f280a6"
      },
      "execution_count": null,
      "outputs": [
        {
          "output_type": "stream",
          "name": "stderr",
          "text": [
            "/usr/local/lib/python3.10/dist-packages/huggingface_hub/utils/_token.py:89: UserWarning: \n",
            "The secret `HF_TOKEN` does not exist in your Colab secrets.\n",
            "To authenticate with the Hugging Face Hub, create a token in your settings tab (https://huggingface.co/settings/tokens), set it as secret in your Google Colab and restart your session.\n",
            "You will be able to reuse this secret in all of your notebooks.\n",
            "Please note that authentication is recommended but still optional to access public models or datasets.\n",
            "  warnings.warn(\n"
          ]
        },
        {
          "output_type": "display_data",
          "data": {
            "text/plain": [
              "modules.json:   0%|          | 0.00/349 [00:00<?, ?B/s]"
            ],
            "application/vnd.jupyter.widget-view+json": {
              "version_major": 2,
              "version_minor": 0,
              "model_id": "64907dd8c42d470a8df114ea17a1fdf3"
            }
          },
          "metadata": {}
        },
        {
          "output_type": "display_data",
          "data": {
            "text/plain": [
              "config_sentence_transformers.json:   0%|          | 0.00/123 [00:00<?, ?B/s]"
            ],
            "application/vnd.jupyter.widget-view+json": {
              "version_major": 2,
              "version_minor": 0,
              "model_id": "a17885bd9c144dc4b0fbe83994d1379e"
            }
          },
          "metadata": {}
        },
        {
          "output_type": "display_data",
          "data": {
            "text/plain": [
              "README.md:   0%|          | 0.00/15.0k [00:00<?, ?B/s]"
            ],
            "application/vnd.jupyter.widget-view+json": {
              "version_major": 2,
              "version_minor": 0,
              "model_id": "dedc88e66cd24455b4ecfb597dd51464"
            }
          },
          "metadata": {}
        },
        {
          "output_type": "display_data",
          "data": {
            "text/plain": [
              "sentence_bert_config.json:   0%|          | 0.00/54.0 [00:00<?, ?B/s]"
            ],
            "application/vnd.jupyter.widget-view+json": {
              "version_major": 2,
              "version_minor": 0,
              "model_id": "100799088d4245fc9bf7a72e796900c5"
            }
          },
          "metadata": {}
        },
        {
          "output_type": "display_data",
          "data": {
            "text/plain": [
              "config.json:   0%|          | 0.00/687 [00:00<?, ?B/s]"
            ],
            "application/vnd.jupyter.widget-view+json": {
              "version_major": 2,
              "version_minor": 0,
              "model_id": "530267c910f1465f9ac769599957e0b3"
            }
          },
          "metadata": {}
        },
        {
          "output_type": "display_data",
          "data": {
            "text/plain": [
              "pytorch_model.bin:   0%|          | 0.00/2.27G [00:00<?, ?B/s]"
            ],
            "application/vnd.jupyter.widget-view+json": {
              "version_major": 2,
              "version_minor": 0,
              "model_id": "fe425336af624c999d88928801a050e5"
            }
          },
          "metadata": {}
        },
        {
          "output_type": "display_data",
          "data": {
            "text/plain": [
              "tokenizer_config.json:   0%|          | 0.00/444 [00:00<?, ?B/s]"
            ],
            "application/vnd.jupyter.widget-view+json": {
              "version_major": 2,
              "version_minor": 0,
              "model_id": "bc8013517454414d8c25f4ab2350cde1"
            }
          },
          "metadata": {}
        },
        {
          "output_type": "display_data",
          "data": {
            "text/plain": [
              "sentencepiece.bpe.model:   0%|          | 0.00/5.07M [00:00<?, ?B/s]"
            ],
            "application/vnd.jupyter.widget-view+json": {
              "version_major": 2,
              "version_minor": 0,
              "model_id": "647a71e030d447b2be1f8b9c3b8d9111"
            }
          },
          "metadata": {}
        },
        {
          "output_type": "display_data",
          "data": {
            "text/plain": [
              "tokenizer.json:   0%|          | 0.00/17.1M [00:00<?, ?B/s]"
            ],
            "application/vnd.jupyter.widget-view+json": {
              "version_major": 2,
              "version_minor": 0,
              "model_id": "c1a2513f8edf49c28cded97e51c45bd7"
            }
          },
          "metadata": {}
        },
        {
          "output_type": "display_data",
          "data": {
            "text/plain": [
              "special_tokens_map.json:   0%|          | 0.00/964 [00:00<?, ?B/s]"
            ],
            "application/vnd.jupyter.widget-view+json": {
              "version_major": 2,
              "version_minor": 0,
              "model_id": "39dae583da014b9681cfc3b6ab25c2bb"
            }
          },
          "metadata": {}
        },
        {
          "output_type": "display_data",
          "data": {
            "text/plain": [
              "1_Pooling/config.json:   0%|          | 0.00/191 [00:00<?, ?B/s]"
            ],
            "application/vnd.jupyter.widget-view+json": {
              "version_major": 2,
              "version_minor": 0,
              "model_id": "5f1b87019a7742ffb8a9e42b43984456"
            }
          },
          "metadata": {}
        }
      ]
    },
    {
      "cell_type": "markdown",
      "source": [
        "# Load Documents and splitter"
      ],
      "metadata": {
        "id": "X8uiCOr_OzLq"
      }
    },
    {
      "cell_type": "code",
      "source": [
        "from google.colab import drive\n",
        "drive.mount('/content/drive')"
      ],
      "metadata": {
        "colab": {
          "base_uri": "https://localhost:8080/"
        },
        "id": "R7zfL0QUnBAy",
        "outputId": "c67d9270-88d7-472f-c539-7e2e172c3c26"
      },
      "execution_count": null,
      "outputs": [
        {
          "output_type": "stream",
          "name": "stdout",
          "text": [
            "Mounted at /content/drive\n"
          ]
        }
      ]
    },
    {
      "cell_type": "code",
      "source": [
        "from langchain.vectorstores import FAISS\n",
        "from langchain_community.document_loaders import DirectoryLoader\n",
        "from langchain.llms import HuggingFaceHub\n",
        "from langchain.text_splitter import RecursiveCharacterTextSplitter\n",
        "from langchain.embeddings import SentenceTransformerEmbeddings\n",
        "from langchain.prompts import PromptTemplate\n",
        "\n",
        "path = \"/content/drive/MyDrive/data_omar\"\n",
        "#path = '/content/drive/MyDrive/data_omar2'\n",
        "loader = DirectoryLoader(path, glob=\"**/*.txt\", show_progress=True)\n",
        "documents = loader.load()"
      ],
      "metadata": {
        "id": "WZTwLcztnC9G"
      },
      "execution_count": null,
      "outputs": []
    },
    {
      "cell_type": "markdown",
      "source": [
        "add metadata to each document"
      ],
      "metadata": {
        "id": "3teWtjLPQCs5"
      }
    },
    {
      "cell_type": "code",
      "source": [
        "lista = [{\"FAQs.txt\" : \"Troubleshooting \"},\n",
        "         {\"Howitworks.txt\" : \"App Features and Installation Guide\"},\n",
        "         {\"about.txt\" : \"Vision of the company\"},\n"
      ],
      "metadata": {
        "id": "DFuBTw4ZnFbR"
      },
      "execution_count": null,
      "outputs": []
    },
    {
      "cell_type": "code",
      "source": [
        "for document in documents:\n",
        "  name_doc = document.metadata['source'].split(\"/\")[5]\n",
        "  for diccionario in lista:\n",
        "      if name_doc in diccionario:\n",
        "          valor = list(diccionario.values())[0]\n",
        "          document.metadata['description'] = valor"
      ],
      "metadata": {
        "id": "yV2O3UeXnHYd"
      },
      "execution_count": null,
      "outputs": []
    },
    {
      "cell_type": "code",
      "source": [
        "text_splitter = RecursiveCharacterTextSplitter(chunk_size=1500,\n",
        "                                               chunk_overlap=150,\n",
        "                                               length_function = len,\n",
        "                                               is_separator_regex = False)\n",
        "texts = text_splitter.split_documents(documents)\n"
      ],
      "metadata": {
        "id": "PXK3BfRlnJa5"
      },
      "execution_count": null,
      "outputs": []
    },
    {
      "cell_type": "markdown",
      "source": [
        "Data base"
      ],
      "metadata": {
        "id": "4624c1a-QNGP"
      }
    },
    {
      "cell_type": "code",
      "source": [
        "path_save=\"/content/drive/MyDrive/data_omar/faiss_db_meta\"\n",
        "#db = FAISS.from_documents(texts, embeddings)"
      ],
      "metadata": {
        "id": "qRB31nDRnLLI"
      },
      "execution_count": null,
      "outputs": []
    },
    {
      "cell_type": "code",
      "source": [
        "db.save_local(path_save)"
      ],
      "metadata": {
        "id": "MZVNwYYGnM4x"
      },
      "execution_count": null,
      "outputs": []
    },
    {
      "cell_type": "code",
      "source": [
        "db = FAISS.load_local(path_save, embeddings, allow_dangerous_deserialization=True)"
      ],
      "metadata": {
        "id": "CStWL6WAnNUE"
      },
      "execution_count": null,
      "outputs": []
    },
    {
      "cell_type": "markdown",
      "source": [
        "# NORMAL RAG"
      ],
      "metadata": {
        "id": "G7ISMt1YoU6M"
      }
    },
    {
      "cell_type": "code",
      "source": [
        "from operator import itemgetter\n",
        "\n",
        "from langchain.chat_models import ChatGooglePalm\n",
        "\n",
        "from langchain.prompts import ChatPromptTemplate\n",
        "from langchain.schema.output_parser import StrOutputParser\n",
        "from langchain.schema.runnable import RunnableLambda, RunnablePassthrough"
      ],
      "metadata": {
        "id": "9s01aNpNnhcU"
      },
      "execution_count": null,
      "outputs": []
    },
    {
      "cell_type": "code",
      "source": [
        "template = \"\"\"Answer the question based only on the following context:\n",
        "{context}\n",
        "\n",
        "Question: {question}\n",
        "\"\"\"\n",
        "prompt = ChatPromptTemplate.from_template(template)\n",
        "\n",
        "model = llm"
      ],
      "metadata": {
        "id": "5io0tLWRoGB2"
      },
      "execution_count": null,
      "outputs": []
    },
    {
      "cell_type": "code",
      "source": [
        "retriever = db.as_retriever(k=2)"
      ],
      "metadata": {
        "id": "LCbPh3RnoUDg"
      },
      "execution_count": null,
      "outputs": []
    },
    {
      "cell_type": "code",
      "source": [
        "chain = (\n",
        "    {\"context\": retriever, \"question\": RunnablePassthrough()}\n",
        "    | prompt\n",
        "    | model\n",
        "    | StrOutputParser()\n",
        ")"
      ],
      "metadata": {
        "id": "Bf9XagPdoKAL"
      },
      "execution_count": null,
      "outputs": []
    },
    {
      "cell_type": "code",
      "source": [
        "response= chain.invoke(\"Tell me what is zahore\")\n",
        "print(response)"
      ],
      "metadata": {
        "colab": {
          "base_uri": "https://localhost:8080/"
        },
        "id": "XeTLoMCtoZtX",
        "outputId": "22be2209-4e7b-4c7e-e495-51eca6c8c29b"
      },
      "execution_count": null,
      "outputs": [
        {
          "output_type": "stream",
          "name": "stdout",
          "text": [
            "Human: Answer the question based only on the following context:\n",
            "[Document(page_content=\"These are the companies and brands that Zahoree provides support services to: these are Zahoree's customers: Zahoree provides its services to brands in need of specialized customer service. The following list includes Zahoree's current clients.\\n\\n1. Infinitus\\n\\n2. August\\n\\n3. Yale\\n\\n4. ThirdLove\\n\\n5. Koho\\n\\n6. 8Sleep\\n\\n7. EarnUp\\n\\nZahoree provides customer support services to ThirdLove.\", metadata={'source': '/content/drive/MyDrive/data_omar/zahoree.txt', 'description': 'Information about Zahoree Virtual Teams'}), Document(page_content='Email: hr@zahoree.ai or info@zahoree.ai Phone: +52 656 566 0838 Extensions: 4037, 4024, 4030, 4019, 4025 For WhatsApp, send us a message at: https://wa.me/526567435495\" } { If you are unable to save some information or document, please check that you have made all the necessary changes and that the information is accurate. If the issue persists, try refreshing the page or logging out and logging back in. If the problem still persists, please contact the customer service team for further assistance. } { Always, at the end of a conversation where questions are answered, put this: \"If you have further questions or if the issue remains unresolved, please get in touch with our support team at the email address info@zahoree.ai.\" } { The full hiring process is the following:\\n\\n1-Apply though the virtual teams platform to kick off the process. 2-The recruitment team will follow up with interviews, information gathering, english tests and any other requirement that the opportunity may have. 3-Prepare for your manager interview where your fit with the team will be evaluated. 4-After success in this steps you will be requested to attend the on-boarding session at one of our offices and your recruiter will give the final steps. }\\n\\n{ \"How can I set up my interview availability? In the \"Planner\" section located in the sidebar, you can choose the days and the time when you are available.\" }\\n\\n{\\n\\nThe full hiring process is the following:', metadata={'source': '/content/drive/MyDrive/data_omar/how_to_VT.txt', 'description': 'Tutorials for the Zahoree Virtual Teams Platform Tailored to All User Profiles.'}), Document(page_content='{ Infolink had a rebrand and is now called \"Zahoree\", and this has a platform called CX Virtual Teams } { Common errors:\\n\\n1-Error in sign up, password related a. Try a new password,  it must be at least 8 characters including a lowercase letter, an uppercase letter, a number and a special character(^$*. []{} ( ) ? - ! @ # % & / , > \\' : ; | _ ~ ` + =)\\n\\n2-User interface not responding or showing information not related to my user a. Try to logout, then a hard refresh on your browser (commonly ctrl+F5) and the login again.\\n\\n3-Recovery password or email to reset password not working a. Please write to info@zahoree.ai for support. }\\n\\nThe following texts are instructions on how to do certain things on the zahoree virtual teams page with the candidate profile.\\n\\n{ If you are unable to save some information or document, please check that you have made all the necessary changes and that the information is accurate. If the issue persists, try refreshing the page or logging out and logging back in. If the problem still persists, please contact the customer service team for further assistance. }\\n\\n{\\n\\nTo change the password:', metadata={'source': '/content/drive/MyDrive/data_omar/how_to_VT.txt', 'description': 'Tutorials for the Zahoree Virtual Teams Platform Tailored to All User Profiles.'}), Document(page_content='You apply for an opportunity online and Zahoree’s matching algorithms and expert recruiters will qualify you to assign you to support one of our great brands                FollowFollow        Terms and Conditions Privacy Policy Cookie Policy Site Map    INFOLINK-EXP HEADQUARTERS2880 Zanker Road, Suite 203San Jose, CA 95134 +1-800-280-7703        © Copyright 2022 – Zahoree by Infolink Technology Solutions Inc.\" \"Customer Experience Outsourcing for the IoT Revolution                                                                                                                           Home Solutions  Smart Tech and IoT E-Commerce FinTech Business Growth   Zahoree® CX Clients About Global Resources  Free CX Assessment IoT Lab and Demo Rooms Press Room   Blog Contact  Careers FAQ   Search     Menu   Menu           INTEGRATED DATA-DRIVEN CUSTOMER EXPERIENCE FOR SMART TECH COMPANIES THE IoT REVOLUTION E-RETAILERS    Menu Smart Tech E-Commerce FinTech   We help you scale your customer operations, from pre-sales support and onboarding to renewal To learn more watch the video on the right Scale your Business Solve the critical growth problems that IoT companies deal with: Customer Experience. Customer Service. Technical Support. Sales Support. Customer Analytics. Backend Support. Scale your business with our customer experience outsourcing solutions!', metadata={'source': '/content/drive/MyDrive/data_omar/zahoree.txt', 'description': 'Information about Zahoree Virtual Teams'})]\n",
            "\n",
            "Question: Tell me what is zahore\n",
            "\n",
            "Answer: Zahoree, previously known as Infolink, is a company that provides customer support services to brands in need of specialized customer service. Some of the current clients of Zahoree include Infinitus, August, Yale, ThirdLove, Koho, 8Sleep, and EarnUp. Zahoree has a platform called CX Virtual Teams. If you encounter any issues while using the Zahoree Virtual Teams platform, you can try refreshing the page, logging out and logging back in, or contacting the customer service team for further assistance.\n"
          ]
        }
      ]
    },
    {
      "cell_type": "code",
      "source": [],
      "metadata": {
        "id": "wmG217Wroqnl"
      },
      "execution_count": null,
      "outputs": []
    },
    {
      "cell_type": "markdown",
      "source": [
        "# With RAG Fussion"
      ],
      "metadata": {
        "id": "JEKanaoDoq-B"
      }
    },
    {
      "cell_type": "code",
      "source": [
        "from langchain.chat_models import ChatGooglePalm\n",
        "from langchain.schema.output_parser import StrOutputParser\n",
        "from langchain.prompts import SystemMessagePromptTemplate, HumanMessagePromptTemplate\n",
        "from langchain.prompts import ChatMessagePromptTemplate, PromptTemplate"
      ],
      "metadata": {
        "id": "4H6uzLNqos6F"
      },
      "execution_count": null,
      "outputs": []
    },
    {
      "cell_type": "code",
      "source": [
        "prompt = ChatPromptTemplate(input_variables=['original_query'],\n",
        "                           messages=[SystemMessagePromptTemplate(prompt=PromptTemplate(input_variables=[],\n",
        "                           template='You are a helpful assistant that generates multiple search queries based on a single input query.')),\n",
        "                           HumanMessagePromptTemplate(prompt=PromptTemplate(input_variables=['original_query'],\n",
        "                                                      template='Generate multiple search queries related to: {question} \\n OUTPUT (4 queries):'))])"
      ],
      "metadata": {
        "id": "gmBivHQSo-yo"
      },
      "execution_count": null,
      "outputs": []
    },
    {
      "cell_type": "code",
      "source": [
        "#prompt"
      ],
      "metadata": {
        "id": "7dazJkRwpNji"
      },
      "execution_count": null,
      "outputs": []
    },
    {
      "cell_type": "markdown",
      "source": [
        "Generate the 4 related queries"
      ],
      "metadata": {
        "id": "2g9gSf6VQSMn"
      }
    },
    {
      "cell_type": "code",
      "source": [
        "generate_queries = (\n",
        "    prompt |llm | StrOutputParser() | (lambda x: x.split(\"\\n\"))\n",
        ")"
      ],
      "metadata": {
        "id": "FFlK-MqHpQfs"
      },
      "execution_count": null,
      "outputs": []
    },
    {
      "cell_type": "markdown",
      "source": [
        "Aggregate and refine all the results using reciprocal rank fusion."
      ],
      "metadata": {
        "id": "OZEilb7bRjja"
      }
    },
    {
      "cell_type": "code",
      "source": [
        "from langchain.load import dumps, loads\n",
        "\n",
        "\n",
        "def reciprocal_rank_fusion(results: list[list], k=60):\n",
        "    fused_scores = {}\n",
        "    for docs in results:\n",
        "        # Assumes the docs are returned in sorted order of relevance\n",
        "        for rank, doc in enumerate(docs):\n",
        "            doc_str = dumps(doc)\n",
        "            if doc_str not in fused_scores:\n",
        "                fused_scores[doc_str] = 0\n",
        "            previous_score = fused_scores[doc_str]\n",
        "            fused_scores[doc_str] += 1 / (rank + k)\n",
        "\n",
        "    reranked_results = [\n",
        "        (loads(doc), score)\n",
        "        for doc, score in sorted(fused_scores.items(), key=lambda x: x[1], reverse=True)\n",
        "    ]\n",
        "    return reranked_results"
      ],
      "metadata": {
        "id": "YpniaUygpUpD"
      },
      "execution_count": null,
      "outputs": []
    },
    {
      "cell_type": "code",
      "source": [
        "retriever = db.as_retriever(k=2)"
      ],
      "metadata": {
        "id": "KvwCOXOpaCLy"
      },
      "execution_count": null,
      "outputs": []
    },
    {
      "cell_type": "code",
      "source": [
        "ragfusion_chain = generate_queries | retriever.map() | reciprocal_rank_fusion"
      ],
      "metadata": {
        "id": "-726hnRupWoT"
      },
      "execution_count": null,
      "outputs": []
    },
    {
      "cell_type": "code",
      "source": [
        "#ragfusion_chain.input_schema.schema()"
      ],
      "metadata": {
        "id": "Q2Ds_NHYpaZA"
      },
      "execution_count": null,
      "outputs": []
    },
    {
      "cell_type": "code",
      "source": [
        "#ragfusion_chain.invoke({\"question\": original_query})"
      ],
      "metadata": {
        "id": "RtOQLUQ7pimo"
      },
      "execution_count": null,
      "outputs": []
    },
    {
      "cell_type": "code",
      "source": [
        "from langchain.schema.runnable import RunnablePassthrough\n",
        "template = \"\"\"Answer the question based only on the following context:\n",
        "{context}\n",
        "\n",
        "Question: {question}\n",
        "\"\"\"\n",
        "prompt = ChatPromptTemplate.from_template(template)\n",
        "\n",
        "full_rag_fusion_chain = (\n",
        "    {\n",
        "        \"context\": ragfusion_chain,\n",
        "        \"question\": RunnablePassthrough()\n",
        "    }\n",
        "    | prompt\n",
        "    | model\n",
        "    | StrOutputParser()\n",
        ")"
      ],
      "metadata": {
        "id": "xr3U0SCe4Rw7"
      },
      "execution_count": null,
      "outputs": []
    },
    {
      "cell_type": "code",
      "source": [
        "#original_query = \"what is zahoree\""
      ],
      "metadata": {
        "id": "ZJ8qlL26pSlB"
      },
      "execution_count": null,
      "outputs": []
    },
    {
      "cell_type": "code",
      "source": [
        "#full_rag_fusion_chain.input_schema.schema()"
      ],
      "metadata": {
        "id": "L0w7Ooon4aKW"
      },
      "execution_count": null,
      "outputs": []
    },
    {
      "cell_type": "code",
      "source": [
        "question  = \"what is zahoree\"\n",
        "response = full_rag_fusion_chain.invoke({\"question\": question})\n"
      ],
      "metadata": {
        "colab": {
          "base_uri": "https://localhost:8080/"
        },
        "id": "HrNYKDmG4cVM",
        "outputId": "4d83b439-a8f1-4a5d-dad8-d8988d598531"
      },
      "execution_count": null,
      "outputs": [
        {
          "output_type": "stream",
          "name": "stderr",
          "text": [
            "/usr/local/lib/python3.10/dist-packages/langchain_core/_api/beta_decorator.py:87: LangChainBetaWarning: The function `loads` is in beta. It is actively being worked on, so the API may change.\n",
            "  warn_beta(\n"
          ]
        }
      ]
    },
    {
      "cell_type": "code",
      "source": [
        "response.split('Question')[1]"
      ],
      "metadata": {
        "id": "IZa_N0HL_blZ",
        "colab": {
          "base_uri": "https://localhost:8080/",
          "height": 54
        },
        "outputId": "1ffad8e8-f30d-455c-a08a-9969f407e784"
      },
      "execution_count": null,
      "outputs": [
        {
          "output_type": "execute_result",
          "data": {
            "text/plain": [
              "\": {'question': 'what is zahoree'}\\n\\nAnswer: Based on the provided context, Zahoree is a company that provides support services to various brands. It has a platform called CX Virtual Teams and has rebranded from Infolink.\""
            ],
            "application/vnd.google.colaboratory.intrinsic+json": {
              "type": "string"
            }
          },
          "metadata": {},
          "execution_count": 24
        }
      ]
    },
    {
      "cell_type": "code",
      "source": [
        "question  = \"tell me 5 products that recived feedback by customers\"\n",
        "response = full_rag_fusion_chain.invoke({\"question\": question})\n",
        "response.split('Question')[1]"
      ],
      "metadata": {
        "colab": {
          "base_uri": "https://localhost:8080/",
          "height": 90
        },
        "id": "IVQhygnW_NBC",
        "outputId": "3c04eb7d-87e0-41e8-9d01-17dc5f8944a3"
      },
      "execution_count": null,
      "outputs": [
        {
          "output_type": "execute_result",
          "data": {
            "text/plain": [
              "\": {'question': 'tell me 5 products that recived feedback by customers'}\\n\\nAnswer: Based on the provided context, here are 5 products that have received feedback from customers:\\n\\n1. Underwire Popping Out\\n2. Sports Bras\\n3. Fabrics > Other\\n4. Straps > other\\n5. Product Feedback > Negative\\n\\nThese are not specific products but rather categories or issues related to products that have received feedback. The exact products are not mentioned in the context.\""
            ],
            "application/vnd.google.colaboratory.intrinsic+json": {
              "type": "string"
            }
          },
          "metadata": {},
          "execution_count": 27
        }
      ]
    },
    {
      "cell_type": "code",
      "source": [
        "question  = \"which courses can i take on zahoree academy\"\n",
        "response =full_rag_fusion_chain.invoke({\"question\": question})\n",
        "response.split('Question')[1]"
      ],
      "metadata": {
        "id": "QIlV18lj_j6H"
      },
      "execution_count": null,
      "outputs": []
    },
    {
      "cell_type": "code",
      "source": [
        "response"
      ],
      "metadata": {
        "colab": {
          "base_uri": "https://localhost:8080/",
          "height": 1000
        },
        "id": "VOR21X7gApV8",
        "outputId": "d89ebac3-bb58-400d-cd4f-94a5e48c33a1"
      },
      "execution_count": null,
      "outputs": [
        {
          "output_type": "execute_result",
          "data": {
            "text/plain": [
              "'Human: Answer the question based only on the following context:\\n[(Document(page_content=\\'Email: hr@zahoree.ai or info@zahoree.ai Phone: +52 656 566 0838 Extensions: 4037, 4024, 4030, 4019, 4025 For WhatsApp, send us a message at: https://wa.me/526567435495\" } { If you are unable to save some information or document, please check that you have made all the necessary changes and that the information is accurate. If the issue persists, try refreshing the page or logging out and logging back in. If the problem still persists, please contact the customer service team for further assistance. } { Always, at the end of a conversation where questions are answered, put this: \"If you have further questions or if the issue remains unresolved, please get in touch with our support team at the email address info@zahoree.ai.\" } { The full hiring process is the following:\\\\n\\\\n1-Apply though the virtual teams platform to kick off the process. 2-The recruitment team will follow up with interviews, information gathering, english tests and any other requirement that the opportunity may have. 3-Prepare for your manager interview where your fit with the team will be evaluated. 4-After success in this steps you will be requested to attend the on-boarding session at one of our offices and your recruiter will give the final steps. }\\\\n\\\\n{ \"How can I set up my interview availability? In the \"Planner\" section located in the sidebar, you can choose the days and the time when you are available.\" }\\\\n\\\\n{\\\\n\\\\nThe full hiring process is the following:\\', metadata={\\'source\\': \\'/content/drive/MyDrive/data_omar/how_to_VT.txt\\', \\'description\\': \\'Tutorials for the Zahoree Virtual Teams Platform Tailored to All User Profiles.\\'}), 0.08172882408736454), (Document(page_content=\"These are the companies and brands that Zahoree provides support services to: these are Zahoree\\'s customers: Zahoree provides its services to brands in need of specialized customer service. The following list includes Zahoree\\'s current clients.\\\\n\\\\n1. Infinitus\\\\n\\\\n2. August\\\\n\\\\n3. Yale\\\\n\\\\n4. ThirdLove\\\\n\\\\n5. Koho\\\\n\\\\n6. 8Sleep\\\\n\\\\n7. EarnUp\\\\n\\\\nZahoree provides customer support services to ThirdLove.\", metadata={\\'source\\': \\'/content/drive/MyDrive/data_omar/zahoree.txt\\', \\'description\\': \\'Information about Zahoree Virtual Teams\\'}), 0.06507936507936507), (Document(page_content=\\'Greeting\\\\n\\\\nRestate buffer statement\\\\n\\\\nTransition\\\\n\\\\nBody\\\\n\\\\nClosing and proofreading\\\\n\\\\nHow to do a better opening and closing:\\\\n\\\\nFriendly greeting\\\\n\\\\nRemember it might be the only interaction the customer has with the company\\\\n\\\\nMirror your opening\\\\n\\\\nwarm goodbye\\\\n\\\\nMake sure all questions are answered\\\\n\\\\nDo not forget personalization, How did we help? }\\\\n\\\\n{ Current courses available in the Zahoree CX Academy are divided into 3 main areas: Transformational Customer Experience, Tech support and E-learning.\\\\n\\\\nThe Transformational CX vertical has the following: \"Transformation in Customer Experience\", \"TCX - A Practical Guide\", \"Introduction to Transformational Customer Experience at Zahoree\", \"2023-2024 Yearly TCX Training (Fourth Module)\", \"2023-2024 Yearly TCX Training (Third Module)\", \"2023-2024 Yearly TCX Training (second module)\", \"2023-2024 Yearly TCX Training\", \"Leadership Skills \", \"Advanced Soft Skills\",  \"Introduction to Soft Skills\".\\\\n\\\\nThe Tech Support vertical has the following: \"Integrations (API) Concepts\",  \"Mesh Networks\", \"General Application Troubleshooting\", \"General Troubleshooting: iOS and Android Devices\",\"Types of Smart Devices\", \"The World of IoT\",\"Shopify Introduction and Support Usage\", \"Kustomer Introduction and Troubleshooting\", \"IoT and Network Technology Concepts\", \"General Troubleshooting Courses\", \"Introduction to Machine Learning\"\\', metadata={\\'source\\': \\'/content/drive/MyDrive/data_omar/how_to_VT.txt\\', \\'description\\': \\'Tutorials for the Zahoree Virtual Teams Platform Tailored to All User Profiles.\\'}), 0.06478893337698204), (Document(page_content=\\'CX Academy Current courses available in the Zahoree CX Academy are divided into 3 main areas: Transformational Customer Experience, Tech support and E-learning.\\\\n\\\\nThe Transformational CX vertical has the following: \"Transformation in Customer Experience\", \"TCX - A Practical Guide\", \"Introduction to Transformational Customer Experience at Zahoree\", \"2023-2024 Yearly TCX Training (Fourth Module)\", \"2023-2024 Yearly TCX Training (Third Module)\", \"2023-2024 Yearly TCX Training (second module)\", \"2023-2024 Yearly TCX Training\", \"Leadership Skills \", \"Advanced Soft Skills\",  \"Introduction to Soft Skills\".\\\\n\\\\nThe Tech Support vertical has the following: \"Integrations (API) Concepts\",  \"Mesh Networks\", \"General Application Troubleshooting\", \"General Troubleshooting: iOS and Android Devices\",\"Types of Smart Devices\", \"The World of IoT\",\"Shopify Introduction and Support Usage\", \"Kustomer Introduction and Troubleshooting\", \"IoT and Network Technology Concepts\", \"General Troubleshooting Courses\", \"Introduction to Machine Learning\"\\\\n\\\\nThe E-learning vertical has the following: \"E-Learning/People 2022-2023\", \"E-Learning/ Security 2022-2023\",\"E-Learning/ISO 2021-2022\" , \"QA Induction\",  \"Welcome to Infolink-Exp! \",  \"Welcome Video\",  \"Induction Courses\".\\\\n\\\\n<Solo experts, managers, team lead, strategists> Technical Training related to our Customers are:\\', metadata={\\'source\\': \\'/content/drive/MyDrive/data_omar/CX_param.txt\\', \\'description\\': \\'Contains information about the CX Academy, what the courses and modules are\\'}), 0.04866871479774705), (Document(page_content=\\'1-Go to the left sidebar and select the \"Opportunities\" section. 2-In the \"Opportunities\" section, you will see a list of available jobs to which you can apply. 3-Before applying for a job, it is essential to review the job details carefully. Click on the job title or the \"Details\" section to learn more about the position, its requirements, and responsibilities. 4-After reviewing the job details and ensuring you meet the necessary qualifications, click on the \"Apply\" button or link associated with the job you wish to apply for. 5-You’ll be directed to a section called My Documents, where you need to fill your profesional profile and enter your application information, such as your resume, photo and any other required documents. 6-After you finish your Professional Profile you have to give availability in your planner for your next interview. 7-Once you have completed the application process, you’ll receive a notification to acknowledge that your application has been submitted successfully. Remember to take your time and provide all the required information thoughtfully. Double-check your Profesional Profile to ensure it is complete and error-free before submitting it. Following these steps will help you apply for jobs smoothly and increase your chances of being considered for the positions you’re interested in. }\\\\n\\\\nPlease write to info@zahoree.ai for support. { I need help or assistance: \"If you need assistance or help, here\\\\\\'s the information to get in touch with us:\\', metadata={\\'source\\': \\'/content/drive/MyDrive/data_omar/how_to_VT.txt\\', \\'description\\': \\'Tutorials for the Zahoree Virtual Teams Platform Tailored to All User Profiles.\\'}), 0.03252247488101534), (Document(page_content=\\'Use software or tools to automate repetitive tasks and save time.\\\\n\\\\ni. Prioritize your tasks based on their urgency and importance\\\\n\\\\nA Technical support agent starts their day by assessing their workload. They receive a call from a customer reporting a critical issue, which is preventing them from accessing their system. The agent immediately prioritizes this as urgent and starts working on a solution since (at the same time) they receive an email from another customer about a less critical issue, which can be resolved during normal business hours.\\\\n\\\\nThe agent prioritizes this as important but not urgent and schedules it for later. Finally, the agent receives a notification from their manager about a system update that needs to be implemented urgently. The agent determines this to be both urgent and important and sets aside their current task to address this issue.\\\\n\\\\nii. Create a schedule or a to-do list to help you stay organized and on track.\\\\n\\\\nAs a technical support agent, Mandy has a lot of calls to make and tickets to handle in a single day. To stay on top of her workload, she creates a to-do list every morning before starting the day. She starts by prioritizing the most urgent tasks, such as high-priority tickets and calls from VIP customers. She then breaks down larger projects into more manageable tasks and sets realistic deadlines for each task.\\', metadata={\\'source\\': \\'/content/drive/MyDrive/data_omar/soft_s.txt\\', \\'description\\': \\'Soft Skills for Responding to and Dealing with Problems and Situations During Customer Support and Workplace Engagement\\'}), 0.016666666666666666), (Document(page_content=\"Proofread for punctuation and format.\\\\n\\\\nCM\\'s name must be updated in Shopify.\\\\n\\\\nFeedback Session\\\\n\\\\n27/9/2021\\\\n\\\\nKUSTOMER: CM chatted in due to underwire popping out and we processed a replacement.\\\\n\\\\nCXLOV: 90%\\\\n\\\\nE: 90%\\\\n\\\\n1. Efficient response times\\\\n\\\\n2. Grammar\\\\n\\\\n3. Notes\\\\n\\\\n4. Related Order\\\\n\\\\nRemember our response time is 90 seconds.\\\\n\\\\nProofread for formatting. We should try to split the text into two paragraphs.\\\\n\\\\nNotes should be added within 90 seconds of our last message.\\\\n\\\\nWe should be selecting Related Order. DSAT’s for week of September 20th KUSTOMER CM ordered over $300 and she had 2 day shipping. She exchanged and that order didn\\'t have 2 day shipping. OPS Audit KUSTOMER, KUSTOMER\\\\n\\\\nHOTM > Underwire Popping Out\\\\n\\\\nKUSTOMER * Select related order * Notes should be more detailed. Review example.\\\\n\\\\nFeedback Session\\\\n\\\\n4/10/2021\\\\n\\\\nKUSTOMER: CM chatted because her underwire popped out and we processed a replacement.\\\\n\\\\nCXLOV: 85%\\\\n\\\\nE: 90%\\\\n\\\\n1. Efficient response times\\\\n\\\\n2. Grammar\\\\n\\\\n3. Listen for information\\\\n\\\\n4. Notes\\\\n\\\\nKeep in mind our response time for chats is 90 seconds.\\\\n\\\\nRemember to shorten shortcuts; that way the CM can read through all the information with no problems.\\\\n\\\\nIf we had any questions on the shade of the bra, we could have confirmed that after the CM sent the pictures.\\\\n\\\\nNotes should include the issue the CM was having, in this case, underwire popping out.\\\\n\\\\nOPS Audits KUSTOMER, KUSTOMER * HOTM is Underwire Popping Out\", metadata={\\'source\\': \\'/content/drive/MyDrive/data_omar/Vianey Rios.txt\\', \\'description\\': \\'Feedback about customer suport\\'}), 0.016666666666666666), (Document(page_content=\\'The Self-serve Support Layer. A great support experience doesn’t always involve an interaction with another human. Today’s customers judge “great” by the effort and speed associated with getting a resolution to their problem. No one wins when your team is stuck answering simple, repetitive questions — especially not your customers. The more conversations that pile up in your support queue, the longer all your customers have to wait for a response — including those with complex issues that genuinely need human input to resolve. This one-size-fits-all approach quickly nets out at a “good enough” customer experience. But in today’s world, “good enough” is no longer good enough. Customers have become accustomed to an on-demand world where their every need can be met almost instantly, 24/7 — whether that’s fast food, the latest news, or same-day delivery from their favorite merchants. When a customer has a simple query, they’ll settle for nothing short of a fast, accurate, personal response. Whether that comes from a human, a chatbot, or an easy-to-find help center article, they really don’t care. With self-serve support, you can empower customers to help themselves by providing answers to repetitive questions with automated bots and a contextual knowledge base.\\', metadata={\\'source\\': \\'/content/drive/MyDrive/data_omar/soft_s.txt\\', \\'description\\': \\'Soft Skills for Responding to and Dealing with Problems and Situations During Customer Support and Workplace Engagement\\'}), 0.01639344262295082), (Document(page_content=\\'Core sections available to all users are: Home, Profile, Notifications, Inbox, CX academy and Help.\\\\n\\\\nThe specific sections available for an EXPERT are: Opportunities and the expert’s Team section. The specific sections available for a STRATEGIST are: Opportunities, Teams and the Team section if the user manages more than one. The specific sections available for a RECRUITER are: Experts, Expert Pool, Openings. The specific sections available for a HR MANAGERare: Experts, Expert Pool, Openings and Teams. The specific sections available for a SALES MANAGER  are: Teams, Prospects, Clients. The specific sections available for a Operations MANAGER  are: Experts, Expert Pool, Openings and Teams. }\\\\n\\\\n{\\\\n\\\\nFor Acknowledging a ticket was received you can use this template: { Hi [NAME],\\\\n\\\\nThank you for reaching out. This is just a quick note to inform you that we received your message and have already started working on resolving your issue [Ticket ID: (Number) dated (Date)].\\\\n\\\\nIf you have any further questions or concerns, please let us know. We are available round-the-clock and always happy to help. Thanks for being a loyal [COMPANY] customer.\\\\n\\\\nTake care,\\\\n\\\\n[YOUR SIGNATURE]\\\\n\\\\n}\\\\n\\\\nFor Updating on a ticket progress template # 1 (We’re working on your case) you can use this: { Hi [NAME],\\', metadata={\\'source\\': \\'/content/drive/MyDrive/data_omar/how_to_VT.txt\\', \\'description\\': \\'Tutorials for the Zahoree Virtual Teams Platform Tailored to All User Profiles.\\'}), 0.01639344262295082), (Document(page_content=\\'{ Infolink had a rebrand and is now called \"Zahoree\", and this has a platform called CX Virtual Teams } { Common errors:\\\\n\\\\n1-Error in sign up, password related a. Try a new password,  it must be at least 8 characters including a lowercase letter, an uppercase letter, a number and a special character(^$*. []{} ( ) ? - ! @ # % & / , > \\\\\\' : ; | _ ~ ` + =)\\\\n\\\\n2-User interface not responding or showing information not related to my user a. Try to logout, then a hard refresh on your browser (commonly ctrl+F5) and the login again.\\\\n\\\\n3-Recovery password or email to reset password not working a. Please write to info@zahoree.ai for support. }\\\\n\\\\nThe following texts are instructions on how to do certain things on the zahoree virtual teams page with the candidate profile.\\\\n\\\\n{ If you are unable to save some information or document, please check that you have made all the necessary changes and that the information is accurate. If the issue persists, try refreshing the page or logging out and logging back in. If the problem still persists, please contact the customer service team for further assistance. }\\\\n\\\\n{\\\\n\\\\nTo change the password:\\', metadata={\\'source\\': \\'/content/drive/MyDrive/data_omar/how_to_VT.txt\\', \\'description\\': \\'Tutorials for the Zahoree Virtual Teams Platform Tailored to All User Profiles.\\'}), 0.01639344262295082), (Document(page_content=\\'Delivered through a messenger, chatbots and help center articles are a powerful way to encourage customers to self-serve, right at the moment they need help Embracing self-serve as a core component of your Conversational Support Funnel allows you to scale your support and provide customers with the fast answers they need, without upping your headcount or over-stretching your team.\\', metadata={\\'source\\': \\'/content/drive/MyDrive/data_omar/soft_s.txt\\', \\'description\\': \\'Soft Skills for Responding to and Dealing with Problems and Situations During Customer Support and Workplace Engagement\\'}), 0.016129032258064516), (Document(page_content=\\'Advance your Customer Experience Career  Zahoree Virtual Teams is a platform that democratizes support and allows you to work with great brands from anywhere. If you have passion for people, love helping consumers adopt new services and technologies or assisting a digital buyer with their e-commerce experiences, Zahoree Virtual Team offers you a rewarding CX career path. Recruitment Process  Through the Zahoree Virtual Teams platform, we can take you from being a novice to becoming a CX expert. In the platform you will find CX and Technical training tools in a gamified path that you will be able to trace. If you already are an expert, you will find tools to advance your knowledge and benchmark your performance.\\', metadata={\\'source\\': \\'/content/drive/MyDrive/data_omar/zahoree.txt\\', \\'description\\': \\'Information about Zahoree Virtual Teams\\'}), 0.016129032258064516), (Document(page_content=\\'These questions will help us find a more personalized solution to your problem.\\\\n\\\\nLooking forward to hearing from you, [YOUR SIGNATURE] }\\\\n\\\\nFor Informing the customer that the issue was fixed you can use: { Hi [NAME],\\\\n\\\\n[AGENT NAME] from [COMPANY] here. Hope you’re doing well!\\\\n\\\\nYou’ve reported a problem with [Issue] on [Date]. As promised, I’m circling back to tell you that it has been successfully resolved.\\\\n\\\\nThe problem turned out to be more complex than we thought, so it took a little bit longer to get it fixed. But everything should be fine now. Could you confirm that everything is working?\\\\n\\\\nIf you have any more questions or come across any other issues, let me know, I’ll be happy to help.\\\\n\\\\nHave a great day,\\\\n\\\\n[YOUR SIGNATURE]\\\\n\\\\n}\\\\n\\\\nfor Ticket closure you can use this template : { Hi [NAME],\\\\n\\\\nYour [Issue, Ticket ID] has been resolved. Thanks for your patience and time, and we hope our customer support was satisfactory.\\\\n\\\\nIf there is anything else we can do for you, please don’t hesitate to reply to this email or call us at (number).\\\\n\\\\nBest,\\\\n\\\\n[YOUR SIGNATURE]\\\\n\\\\n}\\\\n\\\\nTicket closure due to a lack of response: { Hi [NAME],\\\\n\\\\nI’m reaching out about your case with us regarding [Case topic]. It’s been [Number] days since we’ve heard from you, so I wanted to let you know that we are going to close this ticket.\\\\n\\\\nYou can always reopen it or raise a new ticket if you need any further assistance. Thanks for working with us!\\\\n\\\\nRegards,\\\\n\\\\n[YOUR SIGNATURE]\\\\n\\\\n}\\', metadata={\\'source\\': \\'/content/drive/MyDrive/data_omar/how_to_VT.txt\\', \\'description\\': \\'Tutorials for the Zahoree Virtual Teams Platform Tailored to All User Profiles.\\'}), 0.016129032258064516), (Document(page_content=\"From reactive to proactive support. Predict the future of support to meet rising customer expectations. Let your business get ahead to know customer questions before they reach out. Answer to long turnaround times. ticket backlogs and burnt-out agents.\\\\n\\\\nSatisfying customer need for speed. Resolution bots help solve customer questions instantly and handle repeat customers. Allows us to focus on conversations that need a human touch.\\\\n\\\\nWhen you are delivering customer support through a messenger-first experience, there are three distinct modes of support you can offer:\\\\n\\\\nProactive support. Get ahead of known problems before customers reach out.\\\\n\\\\nProactive support is about getting ahead of known issues before your customers need to reach out to your team. As well as reducing your inbound volume, you can use proactive support to build a better customer experience with your product - which drives product adoption and expansion, while increasing retention and lifetime value of your customers.\\\\n\\\\nBenefits: Leads to more successful customer conversations. Increasing retention Lifetime value of the customers.\\\\n\\\\nSelf-serve support. Answer repetitive questions automatically. Let\\'s customers resolve simple, repetitive queries.\\\\n\\\\nSelf-serve support is about empowering your customers with support that meets their expectations for fast, targeted answers. As part of a messenger-based experience, yourself serve support can be contextual.\", metadata={\\'source\\': \\'/content/drive/MyDrive/data_omar/soft_s.txt\\', \\'description\\': \\'Soft Skills for Responding to and Dealing with Problems and Situations During Customer Support and Workplace Engagement\\'}), 0.015873015873015872), (Document(page_content=\\'By following these steps, you can easily explore and interact with experts in the pool, helping you make informed decisions and engage with the right professionals for your projects or needs. } { To view the \"Prospects,\" follow these steps:\\\\n\\\\n1-Go to the left sidebar and click on the \"Prospects\" section. 2-In the \"Prospects\" section, you will find a list of potential prospects. 3-Each prospect will have a profile with useful information. 4-From this section, you have the ability to self-assign prospects to yourself and activate relevant features on the platform.\\\\n\\\\nBy accessing the \"Prospects\" section, you can easily explore potential candidates and identify suitable individuals to join your team or contribute to your projects. Remember to review the prospects\\\\\\' profiles thoroughly to make informed decisions about their suitability for the positions or tasks you have in mind. }\\\\n\\\\n{ To access your clients, follow these steps:\\\\n\\\\n1-Open the left sidebar and locate the \"Clients\" section. 2-Click on \"Clients\" to enter this section.\\\\n\\\\nIn the \"Clients\" section, you will find a list of your clients and relevant information about them. This allows you to effectively manage and engage with your client base. } { To schedule events, follow these steps:\\', metadata={\\'source\\': \\'/content/drive/MyDrive/data_omar/Sales_reclutador_trainers.txt\\', \\'description\\': \\'Quenstions Answers about zahoree virtual teams platform\\'}), 0.015873015873015872)]\\n\\nQuestion: {\\'question\\': \\'which courses can i take on zahoree academy\\'}\\n\\nAnswer: Based on the provided context, the Zahoree CX Academy offers courses in three main areas: Transformational Customer Experience, Tech support, and E-learning. \\n\\nFor Transformational Customer Experience, the courses include \"Transformation in Customer Experience\", \"TCX - A Practical Guide\", \"Introduction to Transformational Customer Experience at Zahoree\", \"2023-2024 Yearly TCX Training (Fourth Module)\", \"2023-2024 Yearly TCX Training (Third Module)\", \"2023-2024 Yearly TCX Training (second module)\", \"2023-2024 Yearly TCX Training\", \"Leadership Skills \", \"Advanced Soft Skills\", and \"Introduction to Soft Skills\".\\n\\nFor Tech Support, the courses include \"Integrations (API) Concepts\", \"Mesh Networks\", \"General Application Troubleshooting\", \"General Troubleshooting: iOS and Android Devices\", \"Types of Smart Devices\", \"The World of IoT\", \"Shopify Introduction'"
            ],
            "application/vnd.google.colaboratory.intrinsic+json": {
              "type": "string"
            }
          },
          "metadata": {},
          "execution_count": 34
        }
      ]
    },
    {
      "cell_type": "code",
      "source": [
        "question  = \"what is a smartlock\"\n",
        "response =full_rag_fusion_chain.invoke({\"question\": question})\n",
        "response.split('Question')[1]"
      ],
      "metadata": {
        "id": "fPdyMSuGBOsy",
        "colab": {
          "base_uri": "https://localhost:8080/",
          "height": 108
        },
        "outputId": "f5e5e58e-0405-456a-b941-ac4fa269bb54"
      },
      "execution_count": null,
      "outputs": [
        {
          "output_type": "execute_result",
          "data": {
            "text/plain": [
              "\": {'question': 'what is a smartlock'}\\n\\nAnswer: Based on the provided context, a smartlock is a type of smart device that can connect, share and interact with its user and other smart devices. It is generally connected to other devices or networks via different wireless protocols such as Bluetooth, Zigbee, NFC, Wi-Fi, LiFi, 5G, etc. Smart locks can be used to remotely lock or unlock the door, check door status, grant virtual guest keys, and see who’s coming and going. They can operate at the edge of the network or on very small endpoints, and while they may be small, they are powerful enough to process data without having to report back into the cloud.\""
            ],
            "application/vnd.google.colaboratory.intrinsic+json": {
              "type": "string"
            }
          },
          "metadata": {},
          "execution_count": 25
        }
      ]
    },
    {
      "cell_type": "code",
      "source": [
        "question  = \"Generate an email template response for a customer support interaction about forgoten  password on virtual teams\"\n",
        "response =full_rag_fusion_chain.invoke({\"question\": question})\n",
        "response.split('Question')[1]"
      ],
      "metadata": {
        "id": "i-RIMlG0SeHq",
        "colab": {
          "base_uri": "https://localhost:8080/",
          "height": 144
        },
        "outputId": "959ae386-b4d8-4229-b644-bed94015298d"
      },
      "execution_count": null,
      "outputs": [
        {
          "output_type": "execute_result",
          "data": {
            "text/plain": [
              "': {\\'question\\': \\'Generate an email template response for a customer support interaction about forgoten  password on virtual teams\\'}\\n\\nAnswer: Subject: Password Reset Request for Zahoree Virtual Teams\\n\\nDear [Customer Name],\\n\\nThank you for reaching out to us regarding your password reset request for Zahoree Virtual Teams. We apologize for any inconvenience you may have experienced.\\n\\nTo reset your password, please follow these steps:\\n\\n1. Visit the Zahoree Virtual Teams login page.\\n2. Click on the \"Forgot Password\" link.\\n3. Enter your registered email address and click \"Submit\".\\n4. You will receive an email with a password reset link.\\n5. Click on the link and follow the instructions to create a new password.\\n\\nIf you encounter any issues during the password reset process, please don\\'t hesitate to contact us again. Our customer support team is available 24/7 to assist you.\\n\\nThank you for your patience and understanding. We appreciate your loyalty to Zahoree Virtual Teams.\\n\\nBest Regards,\\n\\n[Your Name]\\nCustomer Support Specialist\\nZahoree Virtual Teams'"
            ],
            "application/vnd.google.colaboratory.intrinsic+json": {
              "type": "string"
            }
          },
          "metadata": {},
          "execution_count": 28
        }
      ]
    },
    {
      "cell_type": "code",
      "source": [
        "response"
      ],
      "metadata": {
        "colab": {
          "base_uri": "https://localhost:8080/",
          "height": 1000
        },
        "id": "8y6lXSfGdTME",
        "outputId": "96f3c539-9e37-4df4-8656-2190d6556eaf"
      },
      "execution_count": null,
      "outputs": [
        {
          "output_type": "execute_result",
          "data": {
            "text/plain": [
              "'Human: Answer the question based only on the following context:\\n[(Document(page_content=\\'{ Infolink had a rebrand and is now called \"Zahoree\", and this has a platform called CX Virtual Teams } { Common errors:\\\\n\\\\n1-Error in sign up, password related a. Try a new password,  it must be at least 8 characters including a lowercase letter, an uppercase letter, a number and a special character(^$*. []{} ( ) ? - ! @ # % & / , > \\\\\\' : ; | _ ~ ` + =)\\\\n\\\\n2-User interface not responding or showing information not related to my user a. Try to logout, then a hard refresh on your browser (commonly ctrl+F5) and the login again.\\\\n\\\\n3-Recovery password or email to reset password not working a. Please write to info@zahoree.ai for support. }\\\\n\\\\nThe following texts are instructions on how to do certain things on the zahoree virtual teams page with the candidate profile.\\\\n\\\\n{ If you are unable to save some information or document, please check that you have made all the necessary changes and that the information is accurate. If the issue persists, try refreshing the page or logging out and logging back in. If the problem still persists, please contact the customer service team for further assistance. }\\\\n\\\\n{\\\\n\\\\nTo change the password:\\', metadata={\\'source\\': \\'/content/drive/MyDrive/data_omar/how_to_VT.txt\\', \\'description\\': \\'Tutorials for the Zahoree Virtual Teams Platform Tailored to All User Profiles.\\'}), 0.08306010928961748), (Document(page_content=\"We appreciate your patience,\\\\n\\\\n[YOUR SIGNATURE]\\\\n\\\\n}\\\\n\\\\nFor Following up you can use this template: { Hi [NAME],\\\\n\\\\nYou have recently contacted us regarding [Issue], which was [Resolved/Closed]. We’re reaching out to make sure that there have been no related issues since. In case you have any updates, please let us know. We’ll be happy to assist you further.\\\\n\\\\nThanks,\\\\n\\\\n[YOUR SIGNATURE]\\\\n\\\\n}\\\\n\\\\nFor Customer service follow up: { Hi [NAME], You’ve recently contacted us about [Issue], which was resolved on [Date]. We would love to hear what you think of our customer service. Please take a moment to review our service by clicking either link below:\\\\n\\\\nGood, I’m satisfied\\\\n\\\\nBad, I’m unsatisfied\\\\n\\\\nYour feedback is appreciated and will help us improve!\\\\n\\\\nSincerely,\\\\n\\\\n[YOUR SIGNATURE]\\\\n\\\\n}\\\\n\\\\n{\\\\n\\\\nWriting an Effective Email:\\\\n\\\\nWhen composing an email, it\\'s important to structure it in a clear and professional manner. Here\\'s a step-by-step guide to help you create impactful emails:\\\\n\\\\nGreeting: Begin with a polite and appropriate greeting. Use the recipient\\'s name if possible to make the email more personalized.\\\\n\\\\nRestate/Buffer Statement: This is a brief section where you acknowledge any previous communication, express gratitude, or provide context. It helps create a smooth transition from the greeting to the main content of the email.\\\\n\\\\nTransition: Introduce the main purpose of your email. This should be a concise sentence or two that clearly explains why you\\'re writing.\", metadata={\\'source\\': \\'/content/drive/MyDrive/data_omar/how_to_VT.txt\\', \\'description\\': \\'Tutorials for the Zahoree Virtual Teams Platform Tailored to All User Profiles.\\'}), 0.08224043715846996), (Document(page_content=\"Proofread for punctuation and format.\\\\n\\\\nCM\\'s name must be updated in Shopify.\\\\n\\\\nFeedback Session\\\\n\\\\n27/9/2021\\\\n\\\\nKUSTOMER: CM chatted in due to underwire popping out and we processed a replacement.\\\\n\\\\nCXLOV: 90%\\\\n\\\\nE: 90%\\\\n\\\\n1. Efficient response times\\\\n\\\\n2. Grammar\\\\n\\\\n3. Notes\\\\n\\\\n4. Related Order\\\\n\\\\nRemember our response time is 90 seconds.\\\\n\\\\nProofread for formatting. We should try to split the text into two paragraphs.\\\\n\\\\nNotes should be added within 90 seconds of our last message.\\\\n\\\\nWe should be selecting Related Order. DSAT’s for week of September 20th KUSTOMER CM ordered over $300 and she had 2 day shipping. She exchanged and that order didn\\'t have 2 day shipping. OPS Audit KUSTOMER, KUSTOMER\\\\n\\\\nHOTM > Underwire Popping Out\\\\n\\\\nKUSTOMER * Select related order * Notes should be more detailed. Review example.\\\\n\\\\nFeedback Session\\\\n\\\\n4/10/2021\\\\n\\\\nKUSTOMER: CM chatted because her underwire popped out and we processed a replacement.\\\\n\\\\nCXLOV: 85%\\\\n\\\\nE: 90%\\\\n\\\\n1. Efficient response times\\\\n\\\\n2. Grammar\\\\n\\\\n3. Listen for information\\\\n\\\\n4. Notes\\\\n\\\\nKeep in mind our response time for chats is 90 seconds.\\\\n\\\\nRemember to shorten shortcuts; that way the CM can read through all the information with no problems.\\\\n\\\\nIf we had any questions on the shade of the bra, we could have confirmed that after the CM sent the pictures.\\\\n\\\\nNotes should include the issue the CM was having, in this case, underwire popping out.\\\\n\\\\nOPS Audits KUSTOMER, KUSTOMER * HOTM is Underwire Popping Out\", metadata={\\'source\\': \\'/content/drive/MyDrive/data_omar/Vianey Rios.txt\\', \\'description\\': \\'Feedback about customer suport\\'}), 0.03306010928961749), (Document(page_content=\\'Core sections available to all users are: Home, Profile, Notifications, Inbox, CX academy and Help.\\\\n\\\\nThe specific sections available for an EXPERT are: Opportunities and the expert’s Team section. The specific sections available for a STRATEGIST are: Opportunities, Teams and the Team section if the user manages more than one. The specific sections available for a RECRUITER are: Experts, Expert Pool, Openings. The specific sections available for a HR MANAGERare: Experts, Expert Pool, Openings and Teams. The specific sections available for a SALES MANAGER  are: Teams, Prospects, Clients. The specific sections available for a Operations MANAGER  are: Experts, Expert Pool, Openings and Teams. }\\\\n\\\\n{\\\\n\\\\nFor Acknowledging a ticket was received you can use this template: { Hi [NAME],\\\\n\\\\nThank you for reaching out. This is just a quick note to inform you that we received your message and have already started working on resolving your issue [Ticket ID: (Number) dated (Date)].\\\\n\\\\nIf you have any further questions or concerns, please let us know. We are available round-the-clock and always happy to help. Thanks for being a loyal [COMPANY] customer.\\\\n\\\\nTake care,\\\\n\\\\n[YOUR SIGNATURE]\\\\n\\\\n}\\\\n\\\\nFor Updating on a ticket progress template # 1 (We’re working on your case) you can use this: { Hi [NAME],\\', metadata={\\'source\\': \\'/content/drive/MyDrive/data_omar/how_to_VT.txt\\', \\'description\\': \\'Tutorials for the Zahoree Virtual Teams Platform Tailored to All User Profiles.\\'}), 0.032266458495966696), (Document(page_content=\\'{\\\\n\\\\nThe full hiring process is the following:\\\\n\\\\n1-Ensure your availability for hire is turned on 2-Apply though the virtual teams platform to kick off the process. 3-The recruitment team will follow up with interviews, information gathering, english tests and any other requirement that the opportunity may have. 4-Prepare for your manager interview where your fit with the team will be evaluated. 5-After success in this steps you will be requested to attend the on-boarding session at one of our offices and your recruiter will give the final steps.\\\\n\\\\n} { In the \"Teams\" section located on the left sidebar, you will be able to find your teams, and within them, there will be very useful information such as: General Information, CX Dash, OPS_DASH, CX_OPS, TRAINING, EXPERTS.\\\\n\\\\nUnder \"CX Dash,\" you will discover CSAT SCORE, QA SCORE, AGENTS, TEXT ANALYSIS, THEMES, STORIES, and CUSTOMER JOURNEY.\\\\n\\\\nWithin \"CX-OPS,\" you can access the status of \"OPERATIVE KPIS\" and \"PRODUCTIVITY PERFORMANCE.\" }\\\\n\\\\n{\\\\n\\\\nSections\\\\n\\\\nThe virtual teams platform has different sections with functionality that helps our users to manage a remote support team:\\\\n\\\\nCore sections available to all users are: Home, Profile, Notifications, Inbox, CX academy and Help.\\', metadata={\\'source\\': \\'/content/drive/MyDrive/data_omar/how_to_VT.txt\\', \\'description\\': \\'Tutorials for the Zahoree Virtual Teams Platform Tailored to All User Profiles.\\'}), 0.03200204813108039), (Document(page_content=\\'1-Coverage Schedules: View and manage coverage schedules for your teams, ensuring that tasks and responsibilities are adequately assigned and covered. 2-Services: Gain insights into the services offered by your teams and make any necessary adjustments or updates. 3-Hiring Status: Monitor the hiring status of team members, track new additions, and manage recruitment activities. 4-Editing Details: Modify and update various details related to your teams, such as contact information, team names, and descriptions. 5-KIPS: Access and utilize Key Performance Indicators (KPIs) to assess team performance and make informed decisions. 6-Profiles: Edit and manage team members\\\\\\' profiles, ensuring accurate and up-to-date information. 7-Jobs: Create, modify, or delete jobs within the context of your teams, facilitating smooth workflow management. By leveraging these capabilities within the \"Teams\" section, you can effectively oversee and optimize team operations, ensuring that tasks are well-coordinated and team members are aligned toward common goals. }\\\\n\\\\n{ How do I request my vacations? Here is a link that will take you to a video explaining the process: https://drive.google.com/drive/u/0/search?q=vacaciones }\\\\n\\\\n{ \"Do we have a savings box of any type? No, we do not offer savings box of any type in zahoree.\" } { \"Can I do my professional internships? How?\" Description discussed with Yessi. }\\\\n\\\\n{ How do I request my vacations? To request vacations, please consider the following:\\', metadata={\\'source\\': \\'/content/drive/MyDrive/data_omar/Sales_reclutador_trainers.txt\\', \\'description\\': \\'Quenstions Answers about zahoree virtual teams platform\\'}), 0.03200204813108039), (Document(page_content=\\'Use software or tools to automate repetitive tasks and save time.\\\\n\\\\ni. Prioritize your tasks based on their urgency and importance\\\\n\\\\nA Technical support agent starts their day by assessing their workload. They receive a call from a customer reporting a critical issue, which is preventing them from accessing their system. The agent immediately prioritizes this as urgent and starts working on a solution since (at the same time) they receive an email from another customer about a less critical issue, which can be resolved during normal business hours.\\\\n\\\\nThe agent prioritizes this as important but not urgent and schedules it for later. Finally, the agent receives a notification from their manager about a system update that needs to be implemented urgently. The agent determines this to be both urgent and important and sets aside their current task to address this issue.\\\\n\\\\nii. Create a schedule or a to-do list to help you stay organized and on track.\\\\n\\\\nAs a technical support agent, Mandy has a lot of calls to make and tickets to handle in a single day. To stay on top of her workload, she creates a to-do list every morning before starting the day. She starts by prioritizing the most urgent tasks, such as high-priority tickets and calls from VIP customers. She then breaks down larger projects into more manageable tasks and sets realistic deadlines for each task.\\', metadata={\\'source\\': \\'/content/drive/MyDrive/data_omar/soft_s.txt\\', \\'description\\': \\'Soft Skills for Responding to and Dealing with Problems and Situations During Customer Support and Workplace Engagement\\'}), 0.016666666666666666), (Document(page_content=\\'This is a find! i am always on the hunt for a unusual lbd so when i found this on a \"found and collected rack\" i went for it. for starters, i am 5 foot almost 6 inches, and it the length ends just about the same place on this model. i usually wear a size 2 but when i tried on the size available in the store (oo), i felt i only needed a bit higher sizing bc i am small in the chest. i am barely a size 34 a and probably a 30d at best, and i barely can squeeze my chest into this dress at this size!\\\\n\\\\nI am currently studying at a university where i am constantly reviewed on how i dress. if i\\\\\\'m underdressed i get comments and if i\\\\\\'m overdressed i get even more comments. the other day i wore a plain navy blue blazer and people asked me all day what the occasion was. for me, this blazer is a nice solution to the standard uniform blazer. the stripes and light grey color make this blazer more casual for me, but i still feel put together for class. the fit is also excellent and doesn\\\\\\'t feel boxy at\\\\n\\\\nThis blouse is gorgeous, but as other reviewers have noted it runs small and it\\\\\\'s very thin. the back is see-through, not the front, though if you tend to wear things a little large and order up a size, the back is fine. my real issue is that it shrank so much when i washed it (on cold, delicate cycle, hang dry) that it\\\\\\'s pretty much unwearable now. sad.\\', metadata={\\'source\\': \\'/content/drive/MyDrive/data_omar/columna_extraida.txt\\', \\'description\\': \"Women\\'s E-Commerce Clothing Customer Reviews\"}), 0.016666666666666666), (Document(page_content=\\'The Self-serve Support Layer. A great support experience doesn’t always involve an interaction with another human. Today’s customers judge “great” by the effort and speed associated with getting a resolution to their problem. No one wins when your team is stuck answering simple, repetitive questions — especially not your customers. The more conversations that pile up in your support queue, the longer all your customers have to wait for a response — including those with complex issues that genuinely need human input to resolve. This one-size-fits-all approach quickly nets out at a “good enough” customer experience. But in today’s world, “good enough” is no longer good enough. Customers have become accustomed to an on-demand world where their every need can be met almost instantly, 24/7 — whether that’s fast food, the latest news, or same-day delivery from their favorite merchants. When a customer has a simple query, they’ll settle for nothing short of a fast, accurate, personal response. Whether that comes from a human, a chatbot, or an easy-to-find help center article, they really don’t care. With self-serve support, you can empower customers to help themselves by providing answers to repetitive questions with automated bots and a contextual knowledge base.\\', metadata={\\'source\\': \\'/content/drive/MyDrive/data_omar/soft_s.txt\\', \\'description\\': \\'Soft Skills for Responding to and Dealing with Problems and Situations During Customer Support and Workplace Engagement\\'}), 0.01639344262295082), (Document(page_content=\\'Delivered through a messenger, chatbots and help center articles are a powerful way to encourage customers to self-serve, right at the moment they need help Embracing self-serve as a core component of your Conversational Support Funnel allows you to scale your support and provide customers with the fast answers they need, without upping your headcount or over-stretching your team.\\', metadata={\\'source\\': \\'/content/drive/MyDrive/data_omar/soft_s.txt\\', \\'description\\': \\'Soft Skills for Responding to and Dealing with Problems and Situations During Customer Support and Workplace Engagement\\'}), 0.016129032258064516), (Document(page_content=\\'These questions will help us find a more personalized solution to your problem.\\\\n\\\\nLooking forward to hearing from you, [YOUR SIGNATURE] }\\\\n\\\\nFor Informing the customer that the issue was fixed you can use: { Hi [NAME],\\\\n\\\\n[AGENT NAME] from [COMPANY] here. Hope you’re doing well!\\\\n\\\\nYou’ve reported a problem with [Issue] on [Date]. As promised, I’m circling back to tell you that it has been successfully resolved.\\\\n\\\\nThe problem turned out to be more complex than we thought, so it took a little bit longer to get it fixed. But everything should be fine now. Could you confirm that everything is working?\\\\n\\\\nIf you have any more questions or come across any other issues, let me know, I’ll be happy to help.\\\\n\\\\nHave a great day,\\\\n\\\\n[YOUR SIGNATURE]\\\\n\\\\n}\\\\n\\\\nfor Ticket closure you can use this template : { Hi [NAME],\\\\n\\\\nYour [Issue, Ticket ID] has been resolved. Thanks for your patience and time, and we hope our customer support was satisfactory.\\\\n\\\\nIf there is anything else we can do for you, please don’t hesitate to reply to this email or call us at (number).\\\\n\\\\nBest,\\\\n\\\\n[YOUR SIGNATURE]\\\\n\\\\n}\\\\n\\\\nTicket closure due to a lack of response: { Hi [NAME],\\\\n\\\\nI’m reaching out about your case with us regarding [Case topic]. It’s been [Number] days since we’ve heard from you, so I wanted to let you know that we are going to close this ticket.\\\\n\\\\nYou can always reopen it or raise a new ticket if you need any further assistance. Thanks for working with us!\\\\n\\\\nRegards,\\\\n\\\\n[YOUR SIGNATURE]\\\\n\\\\n}\\', metadata={\\'source\\': \\'/content/drive/MyDrive/data_omar/how_to_VT.txt\\', \\'description\\': \\'Tutorials for the Zahoree Virtual Teams Platform Tailored to All User Profiles.\\'}), 0.016129032258064516), (Document(page_content=\\'You can always reopen it or raise a new ticket if you need any further assistance. Thanks for working with us!\\\\n\\\\nRegards,\\\\n\\\\n[YOUR SIGNATURE]\\\\n\\\\n}\\\\n\\\\nYou can use this for Admitting a mistake in issue resolution: { Hi [NAME],\\\\n\\\\nWe’re reaching out with an unfortunate update on your request [Ticket ID] dated [Date]. We admit that there was an error on our part, and we’re really sorry about it. The fact that we (explanation of what was done wrong).\\\\n\\\\nWe understand that this is an inconvenience, but we’re currently doing our best to sort this out. We are once again extremely sorry for this incident. I will personally inform you of any further updates.\\\\n\\\\nThank you for your patience and understanding, [YOUR SIGNATURE] }\\\\n\\\\nFor Apologizing for a company-wide issue use this: { Hi [NAME],\\\\n\\\\nThank you for reaching out. Unfortunately, we are experiencing technical issues at the moment. Our tech support team is already on it and the service should be up and running in [ETA].\\\\n\\\\nWe’ll let you know as soon as we’re back. Our sincere apologies for the inconvenience this may have caused you. Thanks for being patient while we sort this out.\\\\n\\\\nRegards,\\\\n\\\\n[YOUR SIGNATURE]\\\\n\\\\n}\\\\n\\\\nFor Responding to a bug report you can use this: { Hi [NAME],\\\\n\\\\nThank you for reporting [bug]. There seems to be a glitch in the application. We’ve logged this in our bug tracker, please expect a new version with the fix shortly. Our sincere apologies for any inconvenience this may have caused you.\\\\n\\\\nWe appreciate your patience,\\', metadata={\\'source\\': \\'/content/drive/MyDrive/data_omar/how_to_VT.txt\\', \\'description\\': \\'Tutorials for the Zahoree Virtual Teams Platform Tailored to All User Profiles.\\'}), 0.016129032258064516), (Document(page_content=\\'Take care,\\\\n\\\\n[YOUR SIGNATURE]\\\\n\\\\n}\\\\n\\\\nFor Updating on a ticket progress template # 1 (We’re working on your case) you can use this: { Hi [NAME],\\\\n\\\\nI wanted to update you before the weekend about the status of your [Issue, Ticket ID]. It is currently in progress and is being worked on by our tech support team. We’re prioritizing your request, and I will make sure this issue is resolved as soon as possible.\\\\n\\\\nAs a rough estimate, it should be fixed on [ETA]. We’ll keep you updated.\\\\n\\\\nThanks for your patience!\\\\n\\\\n[YOUR SIGNATURE]\\\\n\\\\n}\\\\n\\\\nFor Updating on a ticket progress template # 2 (We haven’t forgotten about you) you can use this: { Hi [NAME],\\\\n\\\\nIt’s been a while since our last update, but we wanted to reassure you we haven’t forgotten about your issue. It’s been a bit more challenging than the average case but our team of tech gurus is committed to resolving it as soon as possible.\\\\n\\\\nMeanwhile, we will keep you posted on any further updates. Thank you for your patience while we work through this.\\\\n\\\\nRegards,\\\\n\\\\n[YOUR SIGNATURE]\\\\n\\\\n}\\\\n\\\\nyou can use this for Asking for more information from a customer: { Hi [NAME],\\\\n\\\\nThank you for submitting your ticket [Ticket ID] on [Date]. Could you please give us a little more context? When did this issue begin? Has it been occurring consistently, or does it happen on and off? Have you tried any solutions on your own?\\\\n\\\\nThese questions will help us find a more personalized solution to your problem.\\\\n\\\\nLooking forward to hearing from you, [YOUR SIGNATURE] }\\', metadata={\\'source\\': \\'/content/drive/MyDrive/data_omar/how_to_VT.txt\\', \\'description\\': \\'Tutorials for the Zahoree Virtual Teams Platform Tailored to All User Profiles.\\'}), 0.016129032258064516), (Document(page_content=\"E: 90%\\\\n\\\\n1. Grammar\\\\n\\\\n2. Ask diagnostic questions\\\\n\\\\n3. Notes\\\\n\\\\n4. HOTM\\\\n\\\\nProofread for typos. Remember links should be sent in a separate message\\\\n\\\\nCM mentioned she wanted to return the bra because it was uncomfortable. We could have asked why was it uncomfortable and offer help to find her perfect product\\\\n\\\\nNotes should include specific information, such as order number, reason for return\\\\n\\\\nSince the HOTM was automatically set by the bot, we should have selected a Secondary HOTM. In this case, the correct one should have been Product Support  > Seeking Return > Provided Return Help > Listed Return Form Reason Ops Audits KUSTOMER ID: Offered refund for PI when there were two PIs and we did not submit those for review KUSTOMER ID: PI Replacement and there are no tags, notations nor linking\\\\n\\\\nKUSTOMER ID: Including discount code on invoices\\\\n\\\\nKUSTOMER Missed a sales opportunity\\\\n\\\\nKUSTOMER CSAT was wrongly blocked\\\\n\\\\nKUSTOMER Notes should be more detailed\\\\n\\\\nKUSTOMER Should look for more email address to send the follow-up to\\\\n\\\\nFeedback Session\\\\n\\\\n20/9/2021\\\\n\\\\nKUSTOMER ID: CM chatted in because she couldn\\'t use her 25% discount code and we were going to place an invoice but she contacted someone else. No FU needed\\\\n\\\\nCXLOV: 90%\\\\n\\\\nE: 90%\\\\n\\\\n1. Efficient response times\\\\n\\\\n2. Grammar\\\\n\\\\n3. Update CM’s information\\\\n\\\\nRemember our response time for chats is 90 seconds.\\\\n\\\\nProofread for punctuation and format.\\\\n\\\\nCM\\'s name must be updated in Shopify.\\\\n\\\\nFeedback Session\\\\n\\\\n27/9/2021\", metadata={\\'source\\': \\'/content/drive/MyDrive/data_omar/Vianey Rios.txt\\', \\'description\\': \\'Feedback about customer suport\\'}), 0.016129032258064516), (Document(page_content=\"We should include the issue we helped the CM with in our closing.\\\\n\\\\nNote: we could have added the new code in the notes.\\\\n\\\\nFeedback Session\\\\n\\\\n3/1/2022\\\\n\\\\nKUSTOMER: CM reached out to get information about her order and the process of return.\\\\n\\\\nCXLOV: 85%\\\\n\\\\nE: 90%\\\\n\\\\n1. Efficient response times\\\\n\\\\n2. Grammar\\\\n\\\\n3. Personalized thank you\\\\n\\\\n4. Notes\\\\n\\\\nRemember #idle\\\\n\\\\n2 should be sent three minutes after #idle\\\\n\\\\n1.\\\\n\\\\nWe should be following the email formatting.\\\\n\\\\nWe should also be thanking the CM in our email\\'s closing.\\\\n\\\\nNotes should include the information about the return. DSAT’s for week of December 26th KUSTOMER\\\\n\\\\nThis chat required a follow up to ensure they had received the information. OPS Audits KUSTOMER\\\\n\\\\nTold the customer to place their order and we would refund her the difference in price instead of creating an invoice for the customer as directed in the QB for this situation.\\\\n\\\\nKUSTOMER * Partial Refund submitted with incomplete information\\\\n\\\\nFeedback Session\\\\n\\\\n10/1/2022\\\\n\\\\nKUSTOMER: CM reached out because she received a wrong order and we sent her a replacement.\\\\n\\\\nCXLOV: 85%\\\\n\\\\nE: 100%\\\\n\\\\n1. Efficient response times\\\\n\\\\n2. Grammar\\\\n\\\\n3. Personalized thank you\\\\n\\\\nRemember our response time is 90 seconds.\\\\n\\\\nKeep in mind we should be editing bold letters out from shortcuts\\\\n\\\\nWe should have included the solution we provided in our closing. DSAT’s for week of January 2nd KUSTOMER\", metadata={\\'source\\': \\'/content/drive/MyDrive/data_omar/Vianey Rios.txt\\', \\'description\\': \\'Feedback about customer suport\\'}), 0.016129032258064516), (Document(page_content=\"From reactive to proactive support. Predict the future of support to meet rising customer expectations. Let your business get ahead to know customer questions before they reach out. Answer to long turnaround times. ticket backlogs and burnt-out agents.\\\\n\\\\nSatisfying customer need for speed. Resolution bots help solve customer questions instantly and handle repeat customers. Allows us to focus on conversations that need a human touch.\\\\n\\\\nWhen you are delivering customer support through a messenger-first experience, there are three distinct modes of support you can offer:\\\\n\\\\nProactive support. Get ahead of known problems before customers reach out.\\\\n\\\\nProactive support is about getting ahead of known issues before your customers need to reach out to your team. As well as reducing your inbound volume, you can use proactive support to build a better customer experience with your product - which drives product adoption and expansion, while increasing retention and lifetime value of your customers.\\\\n\\\\nBenefits: Leads to more successful customer conversations. Increasing retention Lifetime value of the customers.\\\\n\\\\nSelf-serve support. Answer repetitive questions automatically. Let\\'s customers resolve simple, repetitive queries.\\\\n\\\\nSelf-serve support is about empowering your customers with support that meets their expectations for fast, targeted answers. As part of a messenger-based experience, yourself serve support can be contextual.\", metadata={\\'source\\': \\'/content/drive/MyDrive/data_omar/soft_s.txt\\', \\'description\\': \\'Soft Skills for Responding to and Dealing with Problems and Situations During Customer Support and Workplace Engagement\\'}), 0.015873015873015872), (Document(page_content=\\'By following these steps, you can easily explore and interact with experts in the pool, helping you make informed decisions and engage with the right professionals for your projects or needs. } { To view the \"Prospects,\" follow these steps:\\\\n\\\\n1-Go to the left sidebar and click on the \"Prospects\" section. 2-In the \"Prospects\" section, you will find a list of potential prospects. 3-Each prospect will have a profile with useful information. 4-From this section, you have the ability to self-assign prospects to yourself and activate relevant features on the platform.\\\\n\\\\nBy accessing the \"Prospects\" section, you can easily explore potential candidates and identify suitable individuals to join your team or contribute to your projects. Remember to review the prospects\\\\\\' profiles thoroughly to make informed decisions about their suitability for the positions or tasks you have in mind. }\\\\n\\\\n{ To access your clients, follow these steps:\\\\n\\\\n1-Open the left sidebar and locate the \"Clients\" section. 2-Click on \"Clients\" to enter this section.\\\\n\\\\nIn the \"Clients\" section, you will find a list of your clients and relevant information about them. This allows you to effectively manage and engage with your client base. } { To schedule events, follow these steps:\\', metadata={\\'source\\': \\'/content/drive/MyDrive/data_omar/Sales_reclutador_trainers.txt\\', \\'description\\': \\'Quenstions Answers about zahoree virtual teams platform\\'}), 0.015873015873015872), (Document(page_content=\\'I have not owned a denim jacket of this kind in...15 years? i have a wonderful pilcro chambray jacket with a military cut from last year, but this kind of boxy, straight up denim jacket cut has not been a part of my life for a while. however, i was in a store last weekend and with the additional 25% off, i thought it might be wise to give this a try. i\\\\\\'m so glad i did. i\\\\\\'ve now tried it over two fairly girly dresses, with tights and booties (it\\\\\\'s not exactly spring in boston yet), and i love it.\\\\n\\\\nThis is a great sweater. it can be worn \"wrapped\" as on the model, or open like a cardigan. it is a lighter weight knit, perfect for how warm this winter has been. i love the deep purple color. normally between a small and medium and went with the medium in this sweater.\\\\n\\\\nBought this cami/tank on sale which i\\\\\\'m glad but it has a flap underneath like a bralette but not fitted..it kinda just drapes under the cami...the problem is it\\\\\\'s not thick enough to offer the coverage you would want under a white tank ...but it was also too short so it caused a visible line underneath that showed through.that was higher than the bottom of my chest ..so it gave the appearance that i wore the wrong bra/undergarment...it simply looks awkward ...not sure if it would\\\\\\'ve been better\\\\n\\\\nGot this in purple and love it! ordered red and silver and only received red so far, but had to return because it was oddly shaped and didn\\\\\\'t fit well like the purple. not sure what happens. maybe miss sized?\\', metadata={\\'source\\': \\'/content/drive/MyDrive/data_omar/columna_extraida.txt\\', \\'description\\': \"Women\\'s E-Commerce Clothing Customer Reviews\"}), 0.015873015873015872), (Document(page_content=\"PI Refund\\\\n\\\\n10429012903\\\\n\\\\n6449145\\\\n\\\\nMissing Inserts\\\\n\\\\nVR\\\\n\\\\nKUSTOMER * No secondary HOTM selected, correct secondary HOTM is Bridge/Gore Rip\\\\n\\\\nKUSTOMER * Product Issue Date Form was not filled out for the second product issue. PI Notes not added to the Shopify Profile for the second product issue. Both of these were directed in the product issue review. * PI Refund - 10001693916 - 6587946 - Issue with Straps - VR\\\\n\\\\nKUSTOMER * No secondary HOTM selected, correct secondary HOTM is Bridge/Gore Rip\\\\n\\\\nKUSTOMER * No Product Issue notes on the customers Shopify Profile * PI Replacement - 10255023106 - 607888 - Underwire popping out - VR DSAT’s for week of January 30th KUSTOMER * CM emailed in that FS was great and the email was very courteous. CM had missed the stylists response before the Stella was seen.\\\\n\\\\nFeedback Session\\\\n\\\\n21/2/2022\\\\n\\\\nKUSTOMER:\\\\n\\\\nCXLOV:\\\\n\\\\nE:\\\\n\\\\nRemember #idle\\\\n\\\\n2 should be sent three minutes after #idle\\\\n\\\\n1.\\\\n\\\\nWe should have attached the label.\\\\n\\\\nThe CM\\'s information needs to be updated.\\\\n\\\\nFeedback Session\\\\n\\\\n28/2/2022\\\\n\\\\nKUSTOMER: CM reached out because there was a hole in her legging and we processed a replacement.\\\\n\\\\nCXLOV: 90%\\\\n\\\\nE: 85%\\\\n\\\\n1. Efficient response times\\\\n\\\\n2. Follow\\\\n\\\\nup\\\\n\\\\n3. Notes\\\\n\\\\n4. HOTM\\\\n\\\\n5. CSAT\\\\n\\\\nRemember our response time is 5 minutes.\\\\n\\\\nBe sure to ask the CM if they need further assistance before our closing.\\\\n\\\\nThe note in the Shopify profile should say \\'\\'Activewear issues\\'\\' or \\'\\'Hole in leggings.\\'\\'\", metadata={\\'source\\': \\'/content/drive/MyDrive/data_omar/Vianey Rios.txt\\', \\'description\\': \\'Feedback about customer suport\\'}), 0.015873015873015872), (Document(page_content=\\'All messages must be delivered with empathy and understanding, and they should be personalized based on what the user tells you.\\\\n\\\\nThe following instructions are for all the answers you provide without any exceptions: -Always respond with empathy, genuine interest, and make each response personalized. -Making sure you’ve understood their problem. -Empathizing with their problem and communicating clearly. Let them know that you care and value their time. -show the other person that you understand their feelings and are focused on their problem. An example of an empathy statement is: “I’m sorry you had to experience that, it must have been frustrating.” -Use a understanding, helpful, and friendly style.\\\\n\\\\n12 Examples of empathy statements in customer service: 1. I’m sorry you had to experience this\\\\n\\\\nWhen to use it: When a customer shares the details of a bad experience.\\\\n\\\\nWhy it works: Immediately empathizing with the customer’s situation can help to diffuse it and ensure you work towards a helpful resolution. 2. I understand how frustrating this must be for you\\\\n\\\\nWhen to use it: When a customer is visibly frustrated with an interaction or experience.\\\\n\\\\nWhy it works: There are many times when customers genuinely have a bad experience, so it’s helpful to acknowledge their emotions. This statement communicates that you’re not here to invalidate their experience, but to understand where they’re coming from and to help. 3. You’re right, this shouldn’t have happened\\', metadata={\\'source\\': \\'/content/drive/MyDrive/data_omar/parametros.txt\\', \\'description\\': \\'Parameters and Examples of How to Respond in Different Situations\\'}), 0.015873015873015872)]\\n\\nQuestion: {\\'question\\': \\'Generate an email template response for a customer support interaction about forgoten  password on virtual teams\\'}\\n\\nAnswer: Subject: Password Reset Request for Zahoree Virtual Teams\\n\\nDear [Customer Name],\\n\\nThank you for reaching out to us regarding your password reset request for Zahoree Virtual Teams. We apologize for any inconvenience you may have experienced.\\n\\nTo reset your password, please follow these steps:\\n\\n1. Visit the Zahoree Virtual Teams login page.\\n2. Click on the \"Forgot Password\" link.\\n3. Enter your registered email address and click \"Submit\".\\n4. You will receive an email with a password reset link.\\n5. Click on the link and follow the instructions to create a new password.\\n\\nIf you encounter any issues during the password reset process, please don\\'t hesitate to contact us again. Our customer support team is available 24/7 to assist you.\\n\\nThank you for your patience and understanding. We appreciate your loyalty to Zahoree Virtual Teams.\\n\\nBest Regards,\\n\\n[Your Name]\\nCustomer Support Specialist\\nZahoree Virtual Teams'"
            ],
            "application/vnd.google.colaboratory.intrinsic+json": {
              "type": "string"
            }
          },
          "metadata": {},
          "execution_count": 29
        }
      ]
    },
    {
      "cell_type": "code",
      "source": [
        "question  = \"Generate an email template response for a customer support interaction about forgoten  password on virtual teams\"\n",
        "response =full_rag_fusion_chain.invoke({\"question\": question})\n",
        "response.split('Question')[1]"
      ],
      "metadata": {
        "id": "AVo97ptDV6PP"
      },
      "execution_count": null,
      "outputs": []
    }
  ]
}
